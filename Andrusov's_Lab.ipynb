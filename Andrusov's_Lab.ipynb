{
  "nbformat": 4,
  "nbformat_minor": 0,
  "metadata": {
    "colab": {
      "provenance": [],
      "include_colab_link": true
    },
    "kernelspec": {
      "name": "python3",
      "display_name": "Python 3"
    },
    "language_info": {
      "name": "python"
    }
  },
  "cells": [
    {
      "cell_type": "markdown",
      "metadata": {
        "id": "view-in-github",
        "colab_type": "text"
      },
      "source": [
        "<a href=\"https://colab.research.google.com/github/AndrusovN/python-lab/blob/main/Andrusov's_Lab.ipynb\" target=\"_parent\"><img src=\"https://colab.research.google.com/assets/colab-badge.svg\" alt=\"Open In Colab\"/></a>"
      ]
    },
    {
      "cell_type": "markdown",
      "source": [
        "# Лабораторная работа"
      ],
      "metadata": {
        "id": "rloJD2luQnuQ"
      }
    },
    {
      "cell_type": "markdown",
      "source": [
        "Баллы за секции:\n",
        "- *Задание 1* - 10 баллов\n",
        "- *Задание 2* - 20 баллов\n",
        "- *Задание 3* - 30 баллов\n",
        "- **Итого** - 60 баллов\n",
        "\n",
        "Оценка за лабу $ = \\frac{score}{6}$"
      ],
      "metadata": {
        "id": "xIZ02xiML9p_"
      }
    },
    {
      "cell_type": "markdown",
      "source": [
        "## Внимание! Attention! Achtung!"
      ],
      "metadata": {
        "id": "OEDe7x8YRID0"
      }
    },
    {
      "cell_type": "markdown",
      "source": [
        "**Данная лабораторная работа является блокирующей**, т.е. если лабораторная работа не выполнена, то оценка за курс - неуд.\n",
        "\n",
        "Лабораторная работа считается выполненной, если **за каждое из заданий получено не менее 2 баллов**."
      ],
      "metadata": {
        "id": "ZEmKA-7NR1Y9"
      }
    },
    {
      "cell_type": "markdown",
      "source": [
        "## Формат сдачи лабораторной работы"
      ],
      "metadata": {
        "id": "N1ZbZ8dkR5q_"
      }
    },
    {
      "cell_type": "markdown",
      "source": [
        "Данная лабораторная работа сдается так же, как и проект - заполняете данный ноутбук, отправляете его через GitHub с указанием проверяющего."
      ],
      "metadata": {
        "id": "tEwx7LLQR-h8"
      }
    },
    {
      "cell_type": "markdown",
      "source": [
        "**Ассистенты не будут запускать ячейки кода, а смотреть на выведенный результат и код. Если ячейка кода не запущена - балл не ставится, даже при правильно написанном коде.**\n",
        "\n",
        "***(Комментарии что курс по Python легче чем по C++ учтены)***"
      ],
      "metadata": {
        "id": "qKwaNCJKj7b8"
      }
    },
    {
      "cell_type": "markdown",
      "source": [
        ">**Примечание**\n",
        ">\n",
        ">Данные задания вдохновлены предметом \"Введение в анализ данных\" 2 курса, по итогу которого идёт отбор на DS-поток. Если вы видите себя в смежных областях, советуем выполнить данную лабораторку по максимуму."
      ],
      "metadata": {
        "id": "hlUYK7MDRGye"
      }
    },
    {
      "cell_type": "code",
      "source": [
        "!pip install plotly"
      ],
      "metadata": {
        "colab": {
          "base_uri": "https://localhost:8080/"
        },
        "id": "ulkB8sRXW-yB",
        "outputId": "f319f487-82d0-4991-ed3a-f010e4ab9513"
      },
      "execution_count": null,
      "outputs": [
        {
          "output_type": "stream",
          "name": "stdout",
          "text": [
            "Looking in indexes: https://pypi.org/simple, https://us-python.pkg.dev/colab-wheels/public/simple/\n",
            "Requirement already satisfied: plotly in /usr/local/lib/python3.10/dist-packages (5.13.1)\n",
            "Requirement already satisfied: tenacity>=6.2.0 in /usr/local/lib/python3.10/dist-packages (from plotly) (8.2.2)\n"
          ]
        }
      ]
    },
    {
      "cell_type": "code",
      "source": [
        "# Всё необходимое для выполнения данной лабораторной работы!\n",
        "import requests\n",
        "from time import sleep\n",
        "\n",
        "import numpy as np\n",
        "import pandas as pd\n",
        "import matplotlib.pyplot as plt\n",
        "import seaborn as sns\n",
        "from tqdm import tqdm\n",
        "import json\n",
        "import plotly.express as px"
      ],
      "metadata": {
        "id": "1qzEqvohoZfB"
      },
      "execution_count": 1,
      "outputs": []
    },
    {
      "cell_type": "markdown",
      "source": [
        "## Задание 1. Парсинг - 10 баллов"
      ],
      "metadata": {
        "id": "rB_FYHU2k8w-"
      }
    },
    {
      "cell_type": "markdown",
      "source": [
        "В этом задании Вам предстоит работать с API сайта <a target=\"_blank\" href=\"hh.ru\">hh.ru</a>. Документация доступна по <a target=\"_blank\" href=\"https://github.com/hhru/api/blob/master/docs/vacancies.md#search\">ссылке</a>."
      ],
      "metadata": {
        "id": "F0gr5cjaoQJy"
      }
    },
    {
      "cell_type": "markdown",
      "source": [
        "<b><font color=\"red\">Внимание!</font> При работе с API не забывайте делать паузы между запросами, иначе вас забанят. Просрочка дедлайна по этой причине не принимается!</b>"
      ],
      "metadata": {
        "id": "v8iCQYk7TNvK"
      }
    },
    {
      "cell_type": "markdown",
      "source": [
        "**Задача:**\n",
        "1. выбрать 5 интересующих вас профессий (не смежных, т.е. Аналатик и Data Engineer не считается корректным)\n",
        "2. затем получить доступные по данным профессиям вакансии в Москве и выделить их физические координаты\n",
        "3. нанести полученные координаты на карту местоположения компаний"
      ],
      "metadata": {
        "id": "-HAm80rqRqAZ"
      }
    },
    {
      "cell_type": "markdown",
      "source": [
        "*Пример запроса для профессии:*"
      ],
      "metadata": {
        "id": "H0GhQJvipXYj"
      }
    },
    {
      "cell_type": "code",
      "source": [
        "URL = 'https://api.hh.ru/vacancies'\n",
        "\n",
        "params = {\n",
        "    'text': \"Физик-ядерщик\",\n",
        "    'area': 1,\n",
        "    'page': 0,\n",
        "    'per_page': 10\n",
        "}\n",
        "\n",
        "data = requests.get(URL, params).json()"
      ],
      "metadata": {
        "id": "aZLGoS_DpsXI"
      },
      "execution_count": 2,
      "outputs": []
    },
    {
      "cell_type": "markdown",
      "source": [
        "Если Ваш запрос прошел успешно, то вы получите следующие ключи (значения данных ключей вы найдете по ссылке на документацию):"
      ],
      "metadata": {
        "id": "yHQtIBRQp91_"
      }
    },
    {
      "cell_type": "code",
      "source": [
        "data.keys()"
      ],
      "metadata": {
        "colab": {
          "base_uri": "https://localhost:8080/"
        },
        "id": "DW6mxzggpvKw",
        "outputId": "8101a3cd-1933-4393-e209-93ae88246484"
      },
      "execution_count": 3,
      "outputs": [
        {
          "output_type": "execute_result",
          "data": {
            "text/plain": [
              "dict_keys(['items', 'found', 'pages', 'per_page', 'page', 'clusters', 'arguments', 'alternate_url'])"
            ]
          },
          "metadata": {},
          "execution_count": 3
        }
      ]
    },
    {
      "cell_type": "markdown",
      "source": [
        ">**Примечание**\n",
        ">\n",
        ">В `data['pages']` будет хранится количество найденных страниц вакансий - для корректного сбора данных Вам нужно пробежать по **КАЖДОЙ** странице и сделать соотвествующие запросы."
      ],
      "metadata": {
        "id": "O-qAwsmrTAvQ"
      }
    },
    {
      "cell_type": "markdown",
      "source": [
        ">**Совет**\n",
        ">\n",
        ">Посмотрите что хранится в `items`!"
      ],
      "metadata": {
        "id": "OEPOQVYxsMyN"
      }
    },
    {
      "cell_type": "markdown",
      "source": [
        "(1 балл) Выберете для нас 5 наиболее интересных специальностей и получите по ним имеющиеся вакансии:"
      ],
      "metadata": {
        "id": "JWvkFrh9qhkj"
      }
    },
    {
      "cell_type": "code",
      "source": [
        "jobs = ['Геймдизайнер', 'Видеомонтажёр', 'Историк', 'Журналист', 'Учитель физкультуры']"
      ],
      "metadata": {
        "id": "_Nm-vyiBqugq"
      },
      "execution_count": 4,
      "outputs": []
    },
    {
      "cell_type": "code",
      "source": [
        "URL = 'https://api.hh.ru/vacancies'\n",
        "\n",
        "def get_page(job_name: str, page_id: int):\n",
        "  params = {\n",
        "      'text': job_name,\n",
        "      'area': 1,\n",
        "      'page': page_id,\n",
        "      'per_page': 10\n",
        "  }\n",
        "  return requests.get(URL, params).json()\n",
        "\n",
        "\n",
        "def get_job_options(job_name: str):\n",
        "  pages_count = get_page(job_name, 0)['pages']\n",
        "  result = []\n",
        "  for i in tqdm(range(pages_count)):\n",
        "    result += get_page(job_name, i)['items']\n",
        "    sleep(1)\n",
        "  return result\n"
      ],
      "metadata": {
        "id": "Rb8-uYjuGT1P"
      },
      "execution_count": 5,
      "outputs": []
    },
    {
      "cell_type": "code",
      "source": [
        "job_options = {key: get_job_options(key) for key in jobs}"
      ],
      "metadata": {
        "colab": {
          "base_uri": "https://localhost:8080/"
        },
        "id": "ZoNT1jpGHH9E",
        "outputId": "bbb9db7c-4c05-4c53-f8df-7839d5a98f1c"
      },
      "execution_count": 6,
      "outputs": [
        {
          "output_type": "stream",
          "name": "stderr",
          "text": [
            "100%|██████████| 4/4 [00:08<00:00,  2.18s/it]\n",
            "100%|██████████| 17/17 [00:37<00:00,  2.18s/it]\n",
            "100%|██████████| 4/4 [00:07<00:00,  1.82s/it]\n",
            "100%|██████████| 30/30 [00:58<00:00,  1.97s/it]\n",
            "100%|██████████| 3/3 [00:05<00:00,  1.83s/it]\n"
          ]
        }
      ]
    },
    {
      "cell_type": "code",
      "source": [
        "for key in job_options:\n",
        "  backslash = '\\n'\n",
        "  print(f\"{key}: {backslash}{backslash.join(map(lambda x: x['name'], job_options[key][:min(10, len(job_options[key]))]))}\")"
      ],
      "metadata": {
        "colab": {
          "base_uri": "https://localhost:8080/"
        },
        "id": "-R4WwVyMIuPM",
        "outputId": "e69cb302-5e06-4afe-e72e-cd2671c984a6"
      },
      "execution_count": 7,
      "outputs": [
        {
          "output_type": "stream",
          "name": "stdout",
          "text": [
            "Геймдизайнер: \n",
            "3D художник\n",
            "Нарративный геймдизайнер\n",
            "Unity программист\n",
            "Game designer\n",
            "Junior Game Designer\n",
            "Unity Developer (Mobile Games)\n",
            "Разработчик Unity\n",
            "Junior Unity 3D Developer (разработчик игр на Unity)\n",
            "Middle-/Middle Game Designer\n",
            "Level designer\n",
            "Видеомонтажёр: \n",
            "Видеомонтажер\n",
            "Монтажер игрового Youtube канала\n",
            "Видеомонтажер (шорт-видео) / Film editor (short-video)\n",
            "Ассистент выпускающего режиссера\n",
            "Монтажëр\n",
            "Видеограф\n",
            "Монтажер\n",
            "YouTube менеджер (удаленно)\n",
            "Видеомейкер для соцсетей (удаленно)\n",
            "Монтажер/Видеомонтажер (удаленная работа)\n",
            "Историк: \n",
            "Музейный смотритель\n",
            "Архивариус\n",
            "Историк / архивист\n",
            "Бильдредактор\n",
            "Историк\n",
            "Историк-генеалог\n",
            "Историк-ассистент\n",
            "Дизайнер-верстальщик\n",
            "Продавец алкоголя - кавист\n",
            "Ведущий архивист\n",
            "Журналист: \n",
            "Редактор\n",
            "Консультант онлайн-чата (интернет-провайдер)\n",
            "Пресс-секретарь\n",
            "Копирайтер\n",
            "Редактор-корректор\n",
            "Редактор-копирайтер\n",
            "Менеджер по коммуникациям\n",
            "Редактор отдела (удаленно)\n",
            "Младший PR-менеджер\n",
            "Журналист-киновед (волонтёр, стажёр, практика)\n",
            "Учитель физкультуры: \n",
            "Учитель физкультуры/тренер-преподаватель по художественной гимнастике и акробатике\n",
            "Учитель физкультуры\n",
            "Учитель физической культуры/детский тренер по футболу\n",
            "Учитель по физической культуре\n",
            "Преподаватель медицинских дисциплин\n",
            "Учитель физкультуры/Инструктор по плаванию\n",
            "Тьютор / ассистент коррекционного педагога (физкультуры) для детей с ДЦП и РАС\n",
            "Тренер-преподаватель (на летний период)\n",
            "Учитель начальных классов в частной школе\n",
            "Тренер тренажерного зала\n"
          ]
        }
      ]
    },
    {
      "cell_type": "markdown",
      "source": [
        "(1 балл) Посчитайте сколько всего найдено вакансий:"
      ],
      "metadata": {
        "id": "g0bdgyNWquuY"
      }
    },
    {
      "cell_type": "code",
      "source": [
        "total = sum(len(job_options[key]) for key in jobs)\n",
        "total"
      ],
      "metadata": {
        "id": "lxyXtIs6q5cc",
        "colab": {
          "base_uri": "https://localhost:8080/"
        },
        "outputId": "7e31798e-dd91-42b7-8bd5-024edbc5394f"
      },
      "execution_count": 8,
      "outputs": [
        {
          "output_type": "execute_result",
          "data": {
            "text/plain": [
              "571"
            ]
          },
          "metadata": {},
          "execution_count": 8
        }
      ]
    },
    {
      "cell_type": "markdown",
      "source": [
        "(1 балл) Создайте структуру данных, которая будет хранить в себе имя компании и ее координаты (широта и долгота):"
      ],
      "metadata": {
        "id": "wQeULnNyq5wk"
      }
    },
    {
      "cell_type": "code",
      "source": [
        "from typing import Tuple\n",
        "class Company:\n",
        "    def __init__(self, name: str, coordinates: Tuple[float, float]) -> None:\n",
        "      self.name = name\n",
        "      self.coordinates = coordinates\n",
        "    def __hash__(self):\n",
        "      return hash(self.name)"
      ],
      "metadata": {
        "id": "aR501yltVdLm"
      },
      "execution_count": 9,
      "outputs": []
    },
    {
      "cell_type": "markdown",
      "source": [
        "(1 балл) Создайте экземпляр этой структуры данных для каждой компании, которая выставила вакансию:"
      ],
      "metadata": {
        "id": "ccIi3wIvVkG0"
      }
    },
    {
      "cell_type": "code",
      "source": [
        "def get_address(job_option):\n",
        "  if job_option['address'] is None:\n",
        "    return None\n",
        "  if job_option['address']['lat'] is not None:\n",
        "    return job_option['address']['lat'], job_option['address']['lng']\n",
        "  if job_option['address']['metro'] is not None and job_option['address']['metro']['lat'] is not None:\n",
        "    return job_option['address']['metro']['lat'], job_option['address']['metro']['lng']\n",
        "  return None"
      ],
      "metadata": {
        "id": "EnhIb-jdRBB8"
      },
      "execution_count": 10,
      "outputs": []
    },
    {
      "cell_type": "code",
      "source": [
        "companies = set()\n",
        "for job in jobs:\n",
        "  for option in job_options[job]:\n",
        "    companies.add(Company(option['employer']['name'], get_address(option)))\n",
        "len(companies)"
      ],
      "metadata": {
        "colab": {
          "base_uri": "https://localhost:8080/"
        },
        "id": "zWVthxoJNsDg",
        "outputId": "c2302047-f378-4317-ee07-438f8a747909"
      },
      "execution_count": 11,
      "outputs": [
        {
          "output_type": "execute_result",
          "data": {
            "text/plain": [
              "571"
            ]
          },
          "metadata": {},
          "execution_count": 11
        }
      ]
    },
    {
      "cell_type": "markdown",
      "source": [
        "(1 балл) Найдите количество вакансий, у которых заданы координаты (значения данных может быть пустым):"
      ],
      "metadata": {
        "id": "SyBpNd0vtcNu"
      }
    },
    {
      "cell_type": "code",
      "source": [
        "sum(len(list(filter(lambda x: get_address(x) is not None, job_options[key]))) for key in jobs)"
      ],
      "metadata": {
        "id": "lVgNCVALt2qJ",
        "colab": {
          "base_uri": "https://localhost:8080/"
        },
        "outputId": "bbde9325-450c-4ae2-d4d4-c10591a1026f"
      },
      "execution_count": 12,
      "outputs": [
        {
          "output_type": "execute_result",
          "data": {
            "text/plain": [
              "338"
            ]
          },
          "metadata": {},
          "execution_count": 12
        }
      ]
    },
    {
      "cell_type": "markdown",
      "source": [
        "(1 балл) Отберите вакансии, которые расположены в пределах МКАД (можно грубо):"
      ],
      "metadata": {
        "id": "aWNXrM-cu5Vi"
      }
    },
    {
      "cell_type": "code",
      "source": [
        "moscow_center = (55.7522, 37.6156)\n",
        "distance_to_MRR_km = 22"
      ],
      "metadata": {
        "id": "01g9wVEyyn-J"
      },
      "execution_count": 13,
      "outputs": []
    },
    {
      "cell_type": "code",
      "source": [
        "def get_distance(first, second):\n",
        "  diffX = first[0] - second[0]\n",
        "  diffY = first[1] - second[1]\n",
        "  dist = 44000 * (diffX**2 / 4 + diffY**2)**0.5 / 180\n",
        "  return dist"
      ],
      "metadata": {
        "id": "s84vSJaGQiDL"
      },
      "execution_count": 14,
      "outputs": []
    },
    {
      "cell_type": "code",
      "source": [
        "def check_inside_MRR(option):\n",
        "  address = get_address(option)\n",
        "  if address is None:\n",
        "    return False\n",
        "  return get_distance(moscow_center, address) < distance_to_MRR_km"
      ],
      "metadata": {
        "id": "EaTR98yYTakR"
      },
      "execution_count": 15,
      "outputs": []
    },
    {
      "cell_type": "code",
      "source": [
        "mrr_options = {}\n",
        "for job in jobs:\n",
        "  mrr_options[job] = list(filter(check_inside_MRR, job_options[job]))\n",
        "  print(len(mrr_options[job]))"
      ],
      "metadata": {
        "colab": {
          "base_uri": "https://localhost:8080/"
        },
        "id": "MAxAN9DkTRmj",
        "outputId": "80d5af76-b0a3-404f-f888-0039896aaa4c"
      },
      "execution_count": 16,
      "outputs": [
        {
          "output_type": "stream",
          "name": "stdout",
          "text": [
            "6\n",
            "71\n",
            "16\n",
            "146\n",
            "6\n"
          ]
        }
      ]
    },
    {
      "cell_type": "markdown",
      "source": [
        "(1 балл) Постройте график в координатах \"широта-долгота\" для отображения вакансий внутри МКАД (не забывайте прописать прозрачность, чтобы увидеть скопления):"
      ],
      "metadata": {
        "id": "4LCb9IL_bgB_"
      }
    },
    {
      "cell_type": "code",
      "source": [
        "all_options = []\n",
        "for job in jobs:\n",
        "  all_options += mrr_options[job]\n",
        "positions = [get_address(opt) for opt in all_options]\n",
        "plt.scatter([pos[0] for pos in positions], [pos[1] for pos in positions], alpha=.4)\n",
        "plt.show()"
      ],
      "metadata": {
        "id": "6ogiXDvKcDV8",
        "colab": {
          "base_uri": "https://localhost:8080/",
          "height": 430
        },
        "outputId": "a8cdea62-03f7-472b-ec64-e1c975f14c60"
      },
      "execution_count": 17,
      "outputs": [
        {
          "output_type": "display_data",
          "data": {
            "text/plain": [
              "<Figure size 640x480 with 1 Axes>"
            ],
            "image/png": "[encoded data removed]"
          },
          "metadata": {}
        }
      ]
    },
    {
      "cell_type": "markdown",
      "source": [
        "(1 балл) Нанесите все точки вакансий на карту (для этого вам поможет данная <a target=\"_blank\" href=\"https://plotly.com/python/mapbox-layers/\">документации</a>, не забудьте про прозрачность и центрирование по Москве): "
      ],
      "metadata": {
        "id": "YvS8b7eqt214"
      }
    },
    {
      "cell_type": "code",
      "source": [
        "\n",
        "df = pd.DataFrame([get_address(x) for x in all_options], columns=[\"lat\", \"lng\"])\n",
        "fig = px.scatter_mapbox(df, lat=\"lat\", lon=\"lng\", color_discrete_sequence=[\"fuchsia\"], zoom=3, height=300)\n",
        "fig.update_layout(mapbox_style=\"open-street-map\")\n",
        "fig.update_layout(margin={\"r\":0,\"t\":0,\"l\":0,\"b\":0})\n",
        "fig.show()"
      ],
      "metadata": {
        "id": "1ceHEBdAys8o",
        "colab": {
          "base_uri": "https://localhost:8080/",
          "height": 317
        },
        "outputId": "f21a1fb4-e348-4d62-b4f5-d7ae2e8e0d10"
      },
      "execution_count": 18,
      "outputs": [
        {
          "output_type": "display_data",
          "data": {
            "text/html": [
              "<html>\n",
              "<head><meta charset=\"utf-8\" /></head>\n",
              "<body>\n",
              "    <div>            <script src=\"https://cdnjs.cloudflare.com/ajax/libs/mathjax/2.7.5/MathJax.js?config=TeX-AMS-MML_SVG\"></script><script type=\"text/javascript\">if (window.MathJax && window.MathJax.Hub && window.MathJax.Hub.Config) {window.MathJax.Hub.Config({SVG: {font: \"STIX-Web\"}});}</script>                <script type=\"text/javascript\">window.PlotlyConfig = {MathJaxConfig: 'local'};</script>\n",
              "        <script src=\"https://cdn.plot.ly/plotly-2.18.2.min.js\"></script>                <div id=\"6bdab339-d39c-40c1-b7bf-537e35fbe2da\" class=\"plotly-graph-div\" style=\"height:300px; width:100%;\"></div>            <script type=\"text/javascript\">                                    window.PLOTLYENV=window.PLOTLYENV || {};                                    if (document.getElementById(\"6bdab339-d39c-40c1-b7bf-537e35fbe2da\")) {                    Plotly.newPlot(                        \"6bdab339-d39c-40c1-b7bf-537e35fbe2da\",                        [{\"hovertemplate\":\"lat=%{lat}<br>lng=%{lon}<extra></extra>\",\"lat\":[55.776705,55.757648,55.740999,55.808056,55.754836,55.718821,55.752156,55.85064697265625,55.746481,55.800441,55.753053,55.822878,55.799047,55.719571,55.804375,55.755864,55.722203,55.719166,55.777439,55.748762,55.794054,55.807881,55.760054,55.774958,55.714191,55.749633,55.766126,55.737355,55.777201,55.753301,55.819626,55.735089,55.783686,55.783261,55.831064,55.757901,55.7195,55.822878,55.77835,55.768264,55.783261,55.763944,55.715418,55.72342,55.744885,55.792412,55.807086,55.719571,55.801728,55.723293,55.773039,55.788677,55.805756,55.64828,55.724626,55.78729,55.719571,55.722203,55.733705,55.758306,55.700324,55.753301,55.755373,55.817067,55.706634,55.761457,55.733705,55.708841,55.705285,55.737355,55.687147,55.718212,55.819626,55.723293,55.719571,55.799016,55.782825,55.70632,55.79519,55.70632,55.663822,55.807273,55.789461,55.821097,55.770755,55.770097,55.819105,55.683757,55.777044,55.7331691852693,55.77593132945765,55.76771,55.752333,55.759547,55.646188,55.763255,55.76288,55.716022,55.755825,55.716022,55.747485,55.769292,55.743968,55.733705,55.70285,55.725585,55.769393,55.780198,55.662379,55.766653,55.756032,55.718828,55.786065,55.732398,55.746081,55.707608,55.757901,55.785979,55.754203,55.772405,55.752312,55.768025,55.768334,55.741521,55.745073,55.750535,55.757901,55.748762,55.710459,55.74815317636652,55.786065,55.755576,55.769808,55.789461,55.782481,55.755687,55.750243,55.786065,55.719571,55.736316,55.789461,55.70842063272734,55.653091,55.60102,55.807015,55.750535,55.74468414924654,55.67893,55.746547,55.748762,55.726502,55.769292,55.711488,55.692206,55.755576,55.688116,55.737461,55.79942,55.822878,55.769423,55.757491,55.779115,55.768264,55.729741,55.746324,55.79179,55.748179,55.720819,55.760601,55.80694,55.832955,55.756432,55.747115,55.76364,55.704793,55.757491,55.697295,55.889243956484705,55.79522320657687,55.649312,55.800559,55.736179,55.75052,55.768208,55.786065,55.770669,55.707202,55.637327,55.791248,55.75517,55.807794,55.692328,55.852445,55.804471,55.729741,55.801141,55.81514,55.755864,55.731536,55.806919,55.761619,55.768279,55.805093,55.750535,55.733705,55.729934,55.675352,55.741521,55.730228,55.776705,55.767919,55.762237,55.7195,55.72416,55.752123,55.746228,55.786065,55.749511,55.759218,55.728994,55.788965,55.774472,55.716397,55.723293,55.803627017424446,55.725585,55.786338,55.700486,55.756873,55.737355,55.774993,55.78359,55.684509061076035,55.750869,55.781701,55.748762,55.804936,55.807794,55.762368,55.683924,55.731901,55.7195,55.647539,55.749886,55.731901],\"legendgroup\":\"\",\"lon\":[37.678281,37.640821,37.609613,37.581734,37.560565,37.607933,37.588548,37.56828308105469,37.54003,37.530477,37.590713,37.606281,37.695402,37.629439,37.586059,37.617698,37.681541,37.629232,37.582107,37.58217,37.587163,37.580831,37.588188,37.673016,37.670914,37.537434,37.531954,37.590488,37.693076,37.606263,37.640751,37.587838,37.560107,37.600388,37.634676,37.599813,37.630176,37.606281,37.623375,37.595402,37.600388,37.562271,37.646013,37.696049,37.657556,37.541665,37.584541,37.629439,37.582933,37.633652,37.665704,37.589159,37.588979,37.549768,37.561041,37.583167,37.629439,37.681541,37.589482,37.664042,37.625046,37.606263,37.56282,37.640381,37.657008,37.6122,37.589482,37.622612,37.620779,37.590488,37.5723,37.610125,37.640751,37.633652,37.629439,37.607538,37.677831,37.603011,37.559981,37.603011,37.56335,37.629502,37.551735,37.641036,37.679269,37.593408,37.64516,37.568336,37.674121,37.59233864418009,37.613634364417926,37.621926,37.603316,37.59807,37.545824,37.586652,37.615264,37.64648,37.617298,37.64648,37.581307,37.607116,37.561625,37.589482,37.648474,37.643192,37.628649,37.640048,37.605274,37.644091,37.601052,37.607892,37.638871,37.68306,37.598537,37.650145,37.599813,37.660521,37.556388,37.67904,37.60349,37.623483,37.62493,37.62881,37.603487,37.536535,37.599813,37.58217,37.632664,37.5402389140145,37.638871,37.565129,37.596192,37.551735,37.597306,37.677454,37.542641,37.638871,37.629439,37.625612,37.593273,37.65269427116255,37.553936,37.602526,37.622315,37.536535,37.633473563506676,37.569926,37.628047,37.58217,37.629996,37.607116,37.593902,37.545986,37.565129,37.615677,37.572764,37.585856,37.606281,37.559371,37.610116,37.692887,37.595402,37.638693,37.539374,37.626385,37.540245,37.610332,37.622369,37.584442,37.618552,37.596534,37.680726,37.647702,37.597809,37.610116,37.563503,37.59437997056925,37.56233362698363,37.625172,37.585691,37.533194,37.539401,37.623393,37.638871,37.679008,37.585583,37.597702,37.587533,37.595824,37.638699,37.663009,37.569054,37.590344,37.638693,37.584128,37.63747,37.617698,37.636329,37.568722,37.640659,37.602966,37.585278,37.536535,37.589482,37.548007,37.580957,37.62881,37.635772,37.678281,37.598555,37.682916,37.630176,37.605499,37.610388,37.546093,37.638871,37.537083,37.665704,37.622533,37.638413,37.599786,37.644737,37.633652,37.58246069576925,37.643192,37.607529,37.621678,37.564886,37.590488,37.550244,37.56017,37.621987233134625,37.654727,37.599364,37.58217,37.589922,37.638699,37.657718,37.67669,37.607763,37.630176,37.595555,37.682574,37.607763],\"marker\":{\"color\":\"fuchsia\"},\"mode\":\"markers\",\"name\":\"\",\"showlegend\":false,\"subplot\":\"mapbox\",\"type\":\"scattermapbox\"}],                        {\"template\":{\"data\":{\"histogram2dcontour\":[{\"type\":\"histogram2dcontour\",\"colorbar\":{\"outlinewidth\":0,\"ticks\":\"\"},\"colorscale\":[[0.0,\"#0d0887\"],[0.1111111111111111,\"#46039f\"],[0.2222222222222222,\"#7201a8\"],[0.3333333333333333,\"#9c179e\"],[0.4444444444444444,\"#bd3786\"],[0.5555555555555556,\"#d8576b\"],[0.6666666666666666,\"#ed7953\"],[0.7777777777777778,\"#fb9f3a\"],[0.8888888888888888,\"#fdca26\"],[1.0,\"#f0f921\"]]}],\"choropleth\":[{\"type\":\"choropleth\",\"colorbar\":{\"outlinewidth\":0,\"ticks\":\"\"}}],\"histogram2d\":[{\"type\":\"histogram2d\",\"colorbar\":{\"outlinewidth\":0,\"ticks\":\"\"},\"colorscale\":[[0.0,\"#0d0887\"],[0.1111111111111111,\"#46039f\"],[0.2222222222222222,\"#7201a8\"],[0.3333333333333333,\"#9c179e\"],[0.4444444444444444,\"#bd3786\"],[0.5555555555555556,\"#d8576b\"],[0.6666666666666666,\"#ed7953\"],[0.7777777777777778,\"#fb9f3a\"],[0.8888888888888888,\"#fdca26\"],[1.0,\"#f0f921\"]]}],\"heatmap\":[{\"type\":\"heatmap\",\"colorbar\":{\"outlinewidth\":0,\"ticks\":\"\"},\"colorscale\":[[0.0,\"#0d0887\"],[0.1111111111111111,\"#46039f\"],[0.2222222222222222,\"#7201a8\"],[0.3333333333333333,\"#9c179e\"],[0.4444444444444444,\"#bd3786\"],[0.5555555555555556,\"#d8576b\"],[0.6666666666666666,\"#ed7953\"],[0.7777777777777778,\"#fb9f3a\"],[0.8888888888888888,\"#fdca26\"],[1.0,\"#f0f921\"]]}],\"heatmapgl\":[{\"type\":\"heatmapgl\",\"colorbar\":{\"outlinewidth\":0,\"ticks\":\"\"},\"colorscale\":[[0.0,\"#0d0887\"],[0.1111111111111111,\"#46039f\"],[0.2222222222222222,\"#7201a8\"],[0.3333333333333333,\"#9c179e\"],[0.4444444444444444,\"#bd3786\"],[0.5555555555555556,\"#d8576b\"],[0.6666666666666666,\"#ed7953\"],[0.7777777777777778,\"#fb9f3a\"],[0.8888888888888888,\"#fdca26\"],[1.0,\"#f0f921\"]]}],\"contourcarpet\":[{\"type\":\"contourcarpet\",\"colorbar\":{\"outlinewidth\":0,\"ticks\":\"\"}}],\"contour\":[{\"type\":\"contour\",\"colorbar\":{\"outlinewidth\":0,\"ticks\":\"\"},\"colorscale\":[[0.0,\"#0d0887\"],[0.1111111111111111,\"#46039f\"],[0.2222222222222222,\"#7201a8\"],[0.3333333333333333,\"#9c179e\"],[0.4444444444444444,\"#bd3786\"],[0.5555555555555556,\"#d8576b\"],[0.6666666666666666,\"#ed7953\"],[0.7777777777777778,\"#fb9f3a\"],[0.8888888888888888,\"#fdca26\"],[1.0,\"#f0f921\"]]}],\"surface\":[{\"type\":\"surface\",\"colorbar\":{\"outlinewidth\":0,\"ticks\":\"\"},\"colorscale\":[[0.0,\"#0d0887\"],[0.1111111111111111,\"#46039f\"],[0.2222222222222222,\"#7201a8\"],[0.3333333333333333,\"#9c179e\"],[0.4444444444444444,\"#bd3786\"],[0.5555555555555556,\"#d8576b\"],[0.6666666666666666,\"#ed7953\"],[0.7777777777777778,\"#fb9f3a\"],[0.8888888888888888,\"#fdca26\"],[1.0,\"#f0f921\"]]}],\"mesh3d\":[{\"type\":\"mesh3d\",\"colorbar\":{\"outlinewidth\":0,\"ticks\":\"\"}}],\"scatter\":[{\"fillpattern\":{\"fillmode\":\"overlay\",\"size\":10,\"solidity\":0.2},\"type\":\"scatter\"}],\"parcoords\":[{\"type\":\"parcoords\",\"line\":{\"colorbar\":{\"outlinewidth\":0,\"ticks\":\"\"}}}],\"scatterpolargl\":[{\"type\":\"scatterpolargl\",\"marker\":{\"colorbar\":{\"outlinewidth\":0,\"ticks\":\"\"}}}],\"bar\":[{\"error_x\":{\"color\":\"#2a3f5f\"},\"error_y\":{\"color\":\"#2a3f5f\"},\"marker\":{\"line\":{\"color\":\"#E5ECF6\",\"width\":0.5},\"pattern\":{\"fillmode\":\"overlay\",\"size\":10,\"solidity\":0.2}},\"type\":\"bar\"}],\"scattergeo\":[{\"type\":\"scattergeo\",\"marker\":{\"colorbar\":{\"outlinewidth\":0,\"ticks\":\"\"}}}],\"scatterpolar\":[{\"type\":\"scatterpolar\",\"marker\":{\"colorbar\":{\"outlinewidth\":0,\"ticks\":\"\"}}}],\"histogram\":[{\"marker\":{\"pattern\":{\"fillmode\":\"overlay\",\"size\":10,\"solidity\":0.2}},\"type\":\"histogram\"}],\"scattergl\":[{\"type\":\"scattergl\",\"marker\":{\"colorbar\":{\"outlinewidth\":0,\"ticks\":\"\"}}}],\"scatter3d\":[{\"type\":\"scatter3d\",\"line\":{\"colorbar\":{\"outlinewidth\":0,\"ticks\":\"\"}},\"marker\":{\"colorbar\":{\"outlinewidth\":0,\"ticks\":\"\"}}}],\"scattermapbox\":[{\"type\":\"scattermapbox\",\"marker\":{\"colorbar\":{\"outlinewidth\":0,\"ticks\":\"\"}}}],\"scatterternary\":[{\"type\":\"scatterternary\",\"marker\":{\"colorbar\":{\"outlinewidth\":0,\"ticks\":\"\"}}}],\"scattercarpet\":[{\"type\":\"scattercarpet\",\"marker\":{\"colorbar\":{\"outlinewidth\":0,\"ticks\":\"\"}}}],\"carpet\":[{\"aaxis\":{\"endlinecolor\":\"#2a3f5f\",\"gridcolor\":\"white\",\"linecolor\":\"white\",\"minorgridcolor\":\"white\",\"startlinecolor\":\"#2a3f5f\"},\"baxis\":{\"endlinecolor\":\"#2a3f5f\",\"gridcolor\":\"white\",\"linecolor\":\"white\",\"minorgridcolor\":\"white\",\"startlinecolor\":\"#2a3f5f\"},\"type\":\"carpet\"}],\"table\":[{\"cells\":{\"fill\":{\"color\":\"#EBF0F8\"},\"line\":{\"color\":\"white\"}},\"header\":{\"fill\":{\"color\":\"#C8D4E3\"},\"line\":{\"color\":\"white\"}},\"type\":\"table\"}],\"barpolar\":[{\"marker\":{\"line\":{\"color\":\"#E5ECF6\",\"width\":0.5},\"pattern\":{\"fillmode\":\"overlay\",\"size\":10,\"solidity\":0.2}},\"type\":\"barpolar\"}],\"pie\":[{\"automargin\":true,\"type\":\"pie\"}]},\"layout\":{\"autotypenumbers\":\"strict\",\"colorway\":[\"#636efa\",\"#EF553B\",\"#00cc96\",\"#ab63fa\",\"#FFA15A\",\"#19d3f3\",\"#FF6692\",\"#B6E880\",\"#FF97FF\",\"#FECB52\"],\"font\":{\"color\":\"#2a3f5f\"},\"hovermode\":\"closest\",\"hoverlabel\":{\"align\":\"left\"},\"paper_bgcolor\":\"white\",\"plot_bgcolor\":\"#E5ECF6\",\"polar\":{\"bgcolor\":\"#E5ECF6\",\"angularaxis\":{\"gridcolor\":\"white\",\"linecolor\":\"white\",\"ticks\":\"\"},\"radialaxis\":{\"gridcolor\":\"white\",\"linecolor\":\"white\",\"ticks\":\"\"}},\"ternary\":{\"bgcolor\":\"#E5ECF6\",\"aaxis\":{\"gridcolor\":\"white\",\"linecolor\":\"white\",\"ticks\":\"\"},\"baxis\":{\"gridcolor\":\"white\",\"linecolor\":\"white\",\"ticks\":\"\"},\"caxis\":{\"gridcolor\":\"white\",\"linecolor\":\"white\",\"ticks\":\"\"}},\"coloraxis\":{\"colorbar\":{\"outlinewidth\":0,\"ticks\":\"\"}},\"colorscale\":{\"sequential\":[[0.0,\"#0d0887\"],[0.1111111111111111,\"#46039f\"],[0.2222222222222222,\"#7201a8\"],[0.3333333333333333,\"#9c179e\"],[0.4444444444444444,\"#bd3786\"],[0.5555555555555556,\"#d8576b\"],[0.6666666666666666,\"#ed7953\"],[0.7777777777777778,\"#fb9f3a\"],[0.8888888888888888,\"#fdca26\"],[1.0,\"#f0f921\"]],\"sequentialminus\":[[0.0,\"#0d0887\"],[0.1111111111111111,\"#46039f\"],[0.2222222222222222,\"#7201a8\"],[0.3333333333333333,\"#9c179e\"],[0.4444444444444444,\"#bd3786\"],[0.5555555555555556,\"#d8576b\"],[0.6666666666666666,\"#ed7953\"],[0.7777777777777778,\"#fb9f3a\"],[0.8888888888888888,\"#fdca26\"],[1.0,\"#f0f921\"]],\"diverging\":[[0,\"#8e0152\"],[0.1,\"#c51b7d\"],[0.2,\"#de77ae\"],[0.3,\"#f1b6da\"],[0.4,\"#fde0ef\"],[0.5,\"#f7f7f7\"],[0.6,\"#e6f5d0\"],[0.7,\"#b8e186\"],[0.8,\"#7fbc41\"],[0.9,\"#4d9221\"],[1,\"#276419\"]]},\"xaxis\":{\"gridcolor\":\"white\",\"linecolor\":\"white\",\"ticks\":\"\",\"title\":{\"standoff\":15},\"zerolinecolor\":\"white\",\"automargin\":true,\"zerolinewidth\":2},\"yaxis\":{\"gridcolor\":\"white\",\"linecolor\":\"white\",\"ticks\":\"\",\"title\":{\"standoff\":15},\"zerolinecolor\":\"white\",\"automargin\":true,\"zerolinewidth\":2},\"scene\":{\"xaxis\":{\"backgroundcolor\":\"#E5ECF6\",\"gridcolor\":\"white\",\"linecolor\":\"white\",\"showbackground\":true,\"ticks\":\"\",\"zerolinecolor\":\"white\",\"gridwidth\":2},\"yaxis\":{\"backgroundcolor\":\"#E5ECF6\",\"gridcolor\":\"white\",\"linecolor\":\"white\",\"showbackground\":true,\"ticks\":\"\",\"zerolinecolor\":\"white\",\"gridwidth\":2},\"zaxis\":{\"backgroundcolor\":\"#E5ECF6\",\"gridcolor\":\"white\",\"linecolor\":\"white\",\"showbackground\":true,\"ticks\":\"\",\"zerolinecolor\":\"white\",\"gridwidth\":2}},\"shapedefaults\":{\"line\":{\"color\":\"#2a3f5f\"}},\"annotationdefaults\":{\"arrowcolor\":\"#2a3f5f\",\"arrowhead\":0,\"arrowwidth\":1},\"geo\":{\"bgcolor\":\"white\",\"landcolor\":\"#E5ECF6\",\"subunitcolor\":\"white\",\"showland\":true,\"showlakes\":true,\"lakecolor\":\"white\"},\"title\":{\"x\":0.05},\"mapbox\":{\"style\":\"light\"}}},\"mapbox\":{\"domain\":{\"x\":[0.0,1.0],\"y\":[0.0,1.0]},\"center\":{\"lat\":55.75338821096852,\"lon\":37.60863084638691},\"zoom\":3,\"style\":\"open-street-map\"},\"legend\":{\"tracegroupgap\":0},\"margin\":{\"t\":0,\"r\":0,\"l\":0,\"b\":0},\"height\":300},                        {\"responsive\": true}                    ).then(function(){\n",
              "                            \n",
              "var gd = document.getElementById('6bdab339-d39c-40c1-b7bf-537e35fbe2da');\n",
              "var x = new MutationObserver(function (mutations, observer) {{\n",
              "        var display = window.getComputedStyle(gd).display;\n",
              "        if (!display || display === 'none') {{\n",
              "            console.log([gd, 'removed!']);\n",
              "            Plotly.purge(gd);\n",
              "            observer.disconnect();\n",
              "        }}\n",
              "}});\n",
              "\n",
              "// Listen for the removal of the full notebook cells\n",
              "var notebookContainer = gd.closest('#notebook-container');\n",
              "if (notebookContainer) {{\n",
              "    x.observe(notebookContainer, {childList: true});\n",
              "}}\n",
              "\n",
              "// Listen for the clearing of the current output cell\n",
              "var outputEl = gd.closest('.output');\n",
              "if (outputEl) {{\n",
              "    x.observe(outputEl, {childList: true});\n",
              "}}\n",
              "\n",
              "                        })                };                            </script>        </div>\n",
              "</body>\n",
              "</html>"
            ]
          },
          "metadata": {}
        }
      ]
    },
    {
      "cell_type": "markdown",
      "source": [
        "(2 балла) **Сделайте выводы о проделанной работе:**"
      ],
      "metadata": {
        "id": "u-p3Llc361PN"
      }
    },
    {
      "cell_type": "markdown",
      "source": [
        ">*Подсказки для маленьких: Что вы можете сказать про районы Москвы? Что вы можете сказать про зарплаты? Что вы можете сказать про спрос?*"
      ],
      "metadata": {
        "id": "G1c3d-qALobz"
      }
    },
    {
      "cell_type": "markdown",
      "source": [
        "Выводы: мешать данные о пяти профессиях в один датасет - не лучшая идея. Отображение вакансий на карте даёт не слишком много информации, так как половина вакансий потеряна из-за того, что в них не указан адрес.\n",
        "\n",
        "Понятно, что в центре Москвы вакансий на порядок больше, чем ближе ко МКАДу. За пределами третьего кольца их почти нет (хотя, как можно видеть, пара вакансий обнаружилась, значит фильтр по расстоянию от центра Москвы корректен)\n",
        "\n",
        "Анализировать зарплаты сильно сложнее, так как hh.ru хранит их в своём формате"
      ],
      "metadata": {
        "id": "5qtEnfH0YyLa"
      }
    },
    {
      "cell_type": "markdown",
      "source": [
        "## Задание 2. Анализ данных - 20 баллов"
      ],
      "metadata": {
        "id": "wVcCTF_Zz58q"
      }
    },
    {
      "cell_type": "markdown",
      "source": [
        "Вам предстоит проанализировать датасет, содержащий информацию об бриллианта, их стоимости и остальных характеристиках."
      ],
      "metadata": {
        "id": "lii5YFuucxR2"
      }
    },
    {
      "cell_type": "markdown",
      "source": [
        "\n",
        "\n",
        "Поясним значения хранящиеся в колонках:\n",
        "*   `cut` - огранка бриллианта (относится к одной из примерно 10 наиболее распространенных)\n",
        "*   `color` - цвет бриллианта, прозрачные бриллианты имеют градацию `D-Z`, \"более высокие\" буквы - более желтоватые, но часто имеют лучшие значения, поскольку цвет трудно определить один раз в кольце\n",
        "*   `clarity` - чистота бриллианта, наличие включений (внутренних дефектов), чем меньше и мельче, тем лучше\n",
        "*   `carat_weight` - масса бриллианта (слабо связана с размером бриллианта, т.к. огранка и качество огранки, как правило, играют большую роль)\n",
        "*   `cut_quality` - качество ограники по системе оценки GIA Cut\n",
        "*   `lab` - лаборатория оценивания\n",
        "*   `meas_length` - длина бриллианта\n",
        "*   `meas_width` - ширина бриллианта\n",
        "*   `meas_depth` - глубина бриллианта\n",
        "*   `total_sales_price` - цена бриллианта в долларах.\n",
        "*    **и прочие колонки**"
      ],
      "metadata": {
        "id": "CvEO3-NI0Gez"
      }
    },
    {
      "cell_type": "markdown",
      "source": [
        "Скачаем данные:"
      ],
      "metadata": {
        "id": "7mK1QntN6ZXh"
      }
    },
    {
      "cell_type": "code",
      "source": [
        "!gdown 1uIWeZFz3ElB5p1brBVEwJBHTbjXNPdfU"
      ],
      "metadata": {
        "id": "LnCK3gCoebjw",
        "colab": {
          "base_uri": "https://localhost:8080/"
        },
        "outputId": "b4869f26-c4f5-425c-98ed-0a0b56401a16"
      },
      "execution_count": 19,
      "outputs": [
        {
          "output_type": "stream",
          "name": "stdout",
          "text": [
            "Downloading...\n",
            "From: https://drive.google.com/uc?id=1uIWeZFz3ElB5p1brBVEwJBHTbjXNPdfU\n",
            "To: /content/diamonds.csv\n",
            "100% 35.4M/35.4M [00:00<00:00, 55.1MB/s]\n"
          ]
        }
      ]
    },
    {
      "cell_type": "markdown",
      "source": [
        "Создадим DataFrame:"
      ],
      "metadata": {
        "id": "wfSqVYoIfi3-"
      }
    },
    {
      "cell_type": "code",
      "source": [
        "diamonds = pd.read_csv(\"diamonds.csv\")"
      ],
      "metadata": {
        "id": "cDgRJzRp6Ow4"
      },
      "execution_count": 20,
      "outputs": []
    },
    {
      "cell_type": "markdown",
      "source": [
        "(0.5 балла) Выведете первые 5 строк датасета:"
      ],
      "metadata": {
        "id": "vlw_3lXG6bhv"
      }
    },
    {
      "cell_type": "code",
      "source": [
        "diamonds.iloc[:5]"
      ],
      "metadata": {
        "id": "gHA-AnSE6fth",
        "colab": {
          "base_uri": "https://localhost:8080/",
          "height": 386
        },
        "outputId": "6166c2b4-dfb4-499d-e88f-d1dccfd56462"
      },
      "execution_count": 21,
      "outputs": [
        {
          "output_type": "execute_result",
          "data": {
            "text/plain": [
              "   Unnamed: 0    cut color clarity  carat_weight cut_quality  lab   symmetry  \\\n",
              "0           0  Round     E    VVS2          0.09   Excellent  IGI  Very Good   \n",
              "1           1  Round     E    VVS2          0.09   Very Good  IGI  Very Good   \n",
              "2           2  Round     E    VVS2          0.09   Excellent  IGI  Very Good   \n",
              "3           3  Round     E    VVS2          0.09   Excellent  IGI  Very Good   \n",
              "4           4  Round     E    VVS2          0.09   Very Good  IGI  Very Good   \n",
              "\n",
              "      polish eye_clean  ... meas_depth girdle_min  girdle_max  fluor_color  \\\n",
              "0  Very Good   unknown  ...       1.79          M           M      unknown   \n",
              "1  Very Good   unknown  ...       1.78        STK         STK      unknown   \n",
              "2  Very Good   unknown  ...       1.77         TN           M      unknown   \n",
              "3  Very Good   unknown  ...       1.78          M         STK      unknown   \n",
              "4  Excellent   unknown  ...       1.82        STK         STK      unknown   \n",
              "\n",
              "   fluor_intensity  fancy_color_dominant_color  fancy_color_secondary_color  \\\n",
              "0             None                     unknown                      unknown   \n",
              "1             None                     unknown                      unknown   \n",
              "2             None                     unknown                      unknown   \n",
              "3             None                     unknown                      unknown   \n",
              "4             None                     unknown                      unknown   \n",
              "\n",
              "  fancy_color_overtone fancy_color_intensity total_sales_price  \n",
              "0              unknown               unknown               200  \n",
              "1              unknown               unknown               200  \n",
              "2              unknown               unknown               200  \n",
              "3              unknown               unknown               200  \n",
              "4              unknown               unknown               200  \n",
              "\n",
              "[5 rows x 26 columns]"
            ],
            "text/html": [
              "\n",
              "  <div id=\"df-8b915c93-3a42-4466-8915-84dafd3ac929\">\n",
              "    <div class=\"colab-df-container\">\n",
              "      <div>\n",
              "<style scoped>\n",
              "    .dataframe tbody tr th:only-of-type {\n",
              "        vertical-align: middle;\n",
              "    }\n",
              "\n",
              "    .dataframe tbody tr th {\n",
              "        vertical-align: top;\n",
              "    }\n",
              "\n",
              "    .dataframe thead th {\n",
              "        text-align: right;\n",
              "    }\n",
              "</style>\n",
              "<table border=\"1\" class=\"dataframe\">\n",
              "  <thead>\n",
              "    <tr style=\"text-align: right;\">\n",
              "      <th></th>\n",
              "      <th>Unnamed: 0</th>\n",
              "      <th>cut</th>\n",
              "      <th>color</th>\n",
              "      <th>clarity</th>\n",
              "      <th>carat_weight</th>\n",
              "      <th>cut_quality</th>\n",
              "      <th>lab</th>\n",
              "      <th>symmetry</th>\n",
              "      <th>polish</th>\n",
              "      <th>eye_clean</th>\n",
              "      <th>...</th>\n",
              "      <th>meas_depth</th>\n",
              "      <th>girdle_min</th>\n",
              "      <th>girdle_max</th>\n",
              "      <th>fluor_color</th>\n",
              "      <th>fluor_intensity</th>\n",
              "      <th>fancy_color_dominant_color</th>\n",
              "      <th>fancy_color_secondary_color</th>\n",
              "      <th>fancy_color_overtone</th>\n",
              "      <th>fancy_color_intensity</th>\n",
              "      <th>total_sales_price</th>\n",
              "    </tr>\n",
              "  </thead>\n",
              "  <tbody>\n",
              "    <tr>\n",
              "      <th>0</th>\n",
              "      <td>0</td>\n",
              "      <td>Round</td>\n",
              "      <td>E</td>\n",
              "      <td>VVS2</td>\n",
              "      <td>0.09</td>\n",
              "      <td>Excellent</td>\n",
              "      <td>IGI</td>\n",
              "      <td>Very Good</td>\n",
              "      <td>Very Good</td>\n",
              "      <td>unknown</td>\n",
              "      <td>...</td>\n",
              "      <td>1.79</td>\n",
              "      <td>M</td>\n",
              "      <td>M</td>\n",
              "      <td>unknown</td>\n",
              "      <td>None</td>\n",
              "      <td>unknown</td>\n",
              "      <td>unknown</td>\n",
              "      <td>unknown</td>\n",
              "      <td>unknown</td>\n",
              "      <td>200</td>\n",
              "    </tr>\n",
              "    <tr>\n",
              "      <th>1</th>\n",
              "      <td>1</td>\n",
              "      <td>Round</td>\n",
              "      <td>E</td>\n",
              "      <td>VVS2</td>\n",
              "      <td>0.09</td>\n",
              "      <td>Very Good</td>\n",
              "      <td>IGI</td>\n",
              "      <td>Very Good</td>\n",
              "      <td>Very Good</td>\n",
              "      <td>unknown</td>\n",
              "      <td>...</td>\n",
              "      <td>1.78</td>\n",
              "      <td>STK</td>\n",
              "      <td>STK</td>\n",
              "      <td>unknown</td>\n",
              "      <td>None</td>\n",
              "      <td>unknown</td>\n",
              "      <td>unknown</td>\n",
              "      <td>unknown</td>\n",
              "      <td>unknown</td>\n",
              "      <td>200</td>\n",
              "    </tr>\n",
              "    <tr>\n",
              "      <th>2</th>\n",
              "      <td>2</td>\n",
              "      <td>Round</td>\n",
              "      <td>E</td>\n",
              "      <td>VVS2</td>\n",
              "      <td>0.09</td>\n",
              "      <td>Excellent</td>\n",
              "      <td>IGI</td>\n",
              "      <td>Very Good</td>\n",
              "      <td>Very Good</td>\n",
              "      <td>unknown</td>\n",
              "      <td>...</td>\n",
              "      <td>1.77</td>\n",
              "      <td>TN</td>\n",
              "      <td>M</td>\n",
              "      <td>unknown</td>\n",
              "      <td>None</td>\n",
              "      <td>unknown</td>\n",
              "      <td>unknown</td>\n",
              "      <td>unknown</td>\n",
              "      <td>unknown</td>\n",
              "      <td>200</td>\n",
              "    </tr>\n",
              "    <tr>\n",
              "      <th>3</th>\n",
              "      <td>3</td>\n",
              "      <td>Round</td>\n",
              "      <td>E</td>\n",
              "      <td>VVS2</td>\n",
              "      <td>0.09</td>\n",
              "      <td>Excellent</td>\n",
              "      <td>IGI</td>\n",
              "      <td>Very Good</td>\n",
              "      <td>Very Good</td>\n",
              "      <td>unknown</td>\n",
              "      <td>...</td>\n",
              "      <td>1.78</td>\n",
              "      <td>M</td>\n",
              "      <td>STK</td>\n",
              "      <td>unknown</td>\n",
              "      <td>None</td>\n",
              "      <td>unknown</td>\n",
              "      <td>unknown</td>\n",
              "      <td>unknown</td>\n",
              "      <td>unknown</td>\n",
              "      <td>200</td>\n",
              "    </tr>\n",
              "    <tr>\n",
              "      <th>4</th>\n",
              "      <td>4</td>\n",
              "      <td>Round</td>\n",
              "      <td>E</td>\n",
              "      <td>VVS2</td>\n",
              "      <td>0.09</td>\n",
              "      <td>Very Good</td>\n",
              "      <td>IGI</td>\n",
              "      <td>Very Good</td>\n",
              "      <td>Excellent</td>\n",
              "      <td>unknown</td>\n",
              "      <td>...</td>\n",
              "      <td>1.82</td>\n",
              "      <td>STK</td>\n",
              "      <td>STK</td>\n",
              "      <td>unknown</td>\n",
              "      <td>None</td>\n",
              "      <td>unknown</td>\n",
              "      <td>unknown</td>\n",
              "      <td>unknown</td>\n",
              "      <td>unknown</td>\n",
              "      <td>200</td>\n",
              "    </tr>\n",
              "  </tbody>\n",
              "</table>\n",
              "<p>5 rows × 26 columns</p>\n",
              "</div>\n",
              "      <button class=\"colab-df-convert\" onclick=\"convertToInteractive('df-8b915c93-3a42-4466-8915-84dafd3ac929')\"\n",
              "              title=\"Convert this dataframe to an interactive table.\"\n",
              "              style=\"display:none;\">\n",
              "        \n",
              "  <svg xmlns=\"http://www.w3.org/2000/svg\" height=\"24px\"viewBox=\"0 0 24 24\"\n",
              "       width=\"24px\">\n",
              "    <path d=\"M0 0h24v24H0V0z\" fill=\"none\"/>\n",
              "    <path d=\"M18.56 5.44l.94 2.06.94-2.06 2.06-.94-2.06-.94-.94-2.06-.94 2.06-2.06.94zm-11 1L8.5 8.5l.94-2.06 2.06-.94-2.06-.94L8.5 2.5l-.94 2.06-2.06.94zm10 10l.94 2.06.94-2.06 2.06-.94-2.06-.94-.94-2.06-.94 2.06-2.06.94z\"/><path d=\"M17.41 7.96l-1.37-1.37c-.4-.4-.92-.59-1.43-.59-.52 0-1.04.2-1.43.59L10.3 9.45l-7.72 7.72c-.78.78-.78 2.05 0 2.83L4 21.41c.39.39.9.59 1.41.59.51 0 1.02-.2 1.41-.59l7.78-7.78 2.81-2.81c.8-.78.8-2.07 0-2.86zM5.41 20L4 18.59l7.72-7.72 1.47 1.35L5.41 20z\"/>\n",
              "  </svg>\n",
              "      </button>\n",
              "      \n",
              "  <style>\n",
              "    .colab-df-container {\n",
              "      display:flex;\n",
              "      flex-wrap:wrap;\n",
              "      gap: 12px;\n",
              "    }\n",
              "\n",
              "    .colab-df-convert {\n",
              "      background-color: #E8F0FE;\n",
              "      border: none;\n",
              "      border-radius: 50%;\n",
              "      cursor: pointer;\n",
              "      display: none;\n",
              "      fill: #1967D2;\n",
              "      height: 32px;\n",
              "      padding: 0 0 0 0;\n",
              "      width: 32px;\n",
              "    }\n",
              "\n",
              "    .colab-df-convert:hover {\n",
              "      background-color: #E2EBFA;\n",
              "      box-shadow: 0px 1px 2px rgba(60, 64, 67, 0.3), 0px 1px 3px 1px rgba(60, 64, 67, 0.15);\n",
              "      fill: #174EA6;\n",
              "    }\n",
              "\n",
              "    [theme=dark] .colab-df-convert {\n",
              "      background-color: #3B4455;\n",
              "      fill: #D2E3FC;\n",
              "    }\n",
              "\n",
              "    [theme=dark] .colab-df-convert:hover {\n",
              "      background-color: #434B5C;\n",
              "      box-shadow: 0px 1px 3px 1px rgba(0, 0, 0, 0.15);\n",
              "      filter: drop-shadow(0px 1px 2px rgba(0, 0, 0, 0.3));\n",
              "      fill: #FFFFFF;\n",
              "    }\n",
              "  </style>\n",
              "\n",
              "      <script>\n",
              "        const buttonEl =\n",
              "          document.querySelector('#df-8b915c93-3a42-4466-8915-84dafd3ac929 button.colab-df-convert');\n",
              "        buttonEl.style.display =\n",
              "          google.colab.kernel.accessAllowed ? 'block' : 'none';\n",
              "\n",
              "        async function convertToInteractive(key) {\n",
              "          const element = document.querySelector('#df-8b915c93-3a42-4466-8915-84dafd3ac929');\n",
              "          const dataTable =\n",
              "            await google.colab.kernel.invokeFunction('convertToInteractive',\n",
              "                                                     [key], {});\n",
              "          if (!dataTable) return;\n",
              "\n",
              "          const docLinkHtml = 'Like what you see? Visit the ' +\n",
              "            '<a target=\"_blank\" href=https://colab.research.google.com/notebooks/data_table.ipynb>data table notebook</a>'\n",
              "            + ' to learn more about interactive tables.';\n",
              "          element.innerHTML = '';\n",
              "          dataTable['output_type'] = 'display_data';\n",
              "          await google.colab.output.renderOutput(dataTable, element);\n",
              "          const docLink = document.createElement('div');\n",
              "          docLink.innerHTML = docLinkHtml;\n",
              "          element.appendChild(docLink);\n",
              "        }\n",
              "      </script>\n",
              "    </div>\n",
              "  </div>\n",
              "  "
            ]
          },
          "metadata": {},
          "execution_count": 21
        }
      ]
    },
    {
      "cell_type": "markdown",
      "source": [
        "(0.5 балла) Найдите количество бриллиантов всего в данном датасете:"
      ],
      "metadata": {
        "id": "gat7bnPQ6fCE"
      }
    },
    {
      "cell_type": "code",
      "source": [
        "diamonds.shape[0]"
      ],
      "metadata": {
        "id": "-9x6z3-J7C-v",
        "colab": {
          "base_uri": "https://localhost:8080/"
        },
        "outputId": "3eea0ad5-d151-44d5-8693-bb467616d9fb"
      },
      "execution_count": 22,
      "outputs": [
        {
          "output_type": "execute_result",
          "data": {
            "text/plain": [
              "219703"
            ]
          },
          "metadata": {},
          "execution_count": 22
        }
      ]
    },
    {
      "cell_type": "markdown",
      "source": [
        "(0.5 балла) Выведите максимальную и минимальную цену бриллианта в формате `номер - цена`:"
      ],
      "metadata": {
        "id": "fYQuIdtL7DFp"
      }
    },
    {
      "cell_type": "code",
      "source": [
        "max_item = diamonds.loc[diamonds[\"total_sales_price\"].idxmax()]\n",
        "min_item = diamonds.loc[diamonds[\"total_sales_price\"].idxmin()]\n",
        "print(f\"{max_item[0]} - {max_item['total_sales_price']}\")\n",
        "print(f\"{min_item[0]} - {min_item['total_sales_price']}\")"
      ],
      "metadata": {
        "id": "D_7sjzjP7SEj",
        "colab": {
          "base_uri": "https://localhost:8080/"
        },
        "outputId": "65d19329-1527-41d4-f4b5-f69210de2be0"
      },
      "execution_count": 23,
      "outputs": [
        {
          "output_type": "stream",
          "name": "stdout",
          "text": [
            "219703 - 1449881\n",
            "0 - 200\n"
          ]
        }
      ]
    },
    {
      "cell_type": "markdown",
      "source": [
        "(1 балл) Посчитайте количество пропусков (пропуском считается значение `unknown` или `None`):"
      ],
      "metadata": {
        "id": "E2mf4IIO7SOg"
      }
    },
    {
      "cell_type": "code",
      "source": [
        "print(sum(len(diamonds[diamonds[col] is None or diamonds[col] == 'unknown']) for col in diamonds.columns))"
      ],
      "metadata": {
        "id": "BuJZ0UoN7qAU",
        "colab": {
          "base_uri": "https://localhost:8080/"
        },
        "outputId": "29b0147c-fb94-4e68-f443-d235da41bb44"
      },
      "execution_count": 24,
      "outputs": [
        {
          "output_type": "stream",
          "name": "stdout",
          "text": [
            "1746027\n"
          ]
        }
      ]
    },
    {
      "cell_type": "markdown",
      "source": [
        "(1 балл) Найдите в каких столбцах присутствуют пропуски:"
      ],
      "metadata": {
        "id": "d5LWUc_fh0vb"
      }
    },
    {
      "cell_type": "code",
      "source": [
        "print('\\n'.join(list(diamonds.loc[:, (diamonds is None or diamonds == 'unknown').any()].columns)))"
      ],
      "metadata": {
        "id": "IsU49Fouh5vy",
        "colab": {
          "base_uri": "https://localhost:8080/"
        },
        "outputId": "f82f9948-d7f1-439d-82d3-6de26b786d40"
      },
      "execution_count": 25,
      "outputs": [
        {
          "output_type": "stream",
          "name": "stdout",
          "text": [
            "color\n",
            "cut_quality\n",
            "eye_clean\n",
            "culet_size\n",
            "culet_condition\n",
            "girdle_min\n",
            "girdle_max\n",
            "fluor_color\n",
            "fluor_intensity\n",
            "fancy_color_dominant_color\n",
            "fancy_color_secondary_color\n",
            "fancy_color_overtone\n",
            "fancy_color_intensity\n"
          ]
        }
      ]
    },
    {
      "cell_type": "markdown",
      "source": [
        "В нашем датасете присутствуют колонки, которые начинаются с `fancy_color_` или `fluor_`. Большинство значений в этих колонках - `unknown` или `None`, поэтому мы считаем их малоинформативными. "
      ],
      "metadata": {
        "id": "UznNZpJ47qGX"
      }
    },
    {
      "cell_type": "markdown",
      "source": [
        "Ваша задача:"
      ],
      "metadata": {
        "id": "Rkk6Hr2Ui87X"
      }
    },
    {
      "cell_type": "markdown",
      "source": [
        "1. (0.5 балла) найти количество таких колонок, которые начинаются с `fancy_color_` или `fluor_`:"
      ],
      "metadata": {
        "id": "YYBDAgSSi-JU"
      }
    },
    {
      "cell_type": "code",
      "source": [
        "list(filter(lambda name: name.startswith(('fancy_color_', 'fluor_')), list(diamonds.columns)))"
      ],
      "metadata": {
        "id": "nbTUkk4T8-wO",
        "colab": {
          "base_uri": "https://localhost:8080/"
        },
        "outputId": "f887df3e-d730-4455-a15b-3454526efa49"
      },
      "execution_count": 26,
      "outputs": [
        {
          "output_type": "execute_result",
          "data": {
            "text/plain": [
              "['fluor_color',\n",
              " 'fluor_intensity',\n",
              " 'fancy_color_dominant_color',\n",
              " 'fancy_color_secondary_color',\n",
              " 'fancy_color_overtone',\n",
              " 'fancy_color_intensity']"
            ]
          },
          "metadata": {},
          "execution_count": 26
        }
      ]
    },
    {
      "cell_type": "code",
      "source": [
        "not_informative_columns = list(diamonds.columns[pd.Series(diamonds.columns).str.startswith(('fancy_color_', 'fluor_'))])\n",
        "print('\\n'.join(not_informative_columns))"
      ],
      "metadata": {
        "colab": {
          "base_uri": "https://localhost:8080/"
        },
        "id": "HUCb7GxhfB5w",
        "outputId": "914c8bb0-add4-49db-aeaf-98b6ba39aabc"
      },
      "execution_count": 27,
      "outputs": [
        {
          "output_type": "stream",
          "name": "stdout",
          "text": [
            "fluor_color\n",
            "fluor_intensity\n",
            "fancy_color_dominant_color\n",
            "fancy_color_secondary_color\n",
            "fancy_color_overtone\n",
            "fancy_color_intensity\n"
          ]
        }
      ]
    },
    {
      "cell_type": "markdown",
      "source": [
        "2. (0.5 балла) найти количество информативных (не `None` или `unknown`) значений в этих колонках: "
      ],
      "metadata": {
        "id": "imop6nNujA6z"
      }
    },
    {
      "cell_type": "code",
      "source": [
        "sum(len(diamonds.loc[diamonds[col] is not None and diamonds[col] != 'unknown']) for col in not_informative_columns)"
      ],
      "metadata": {
        "id": "jtJcBwAVjPHU",
        "colab": {
          "base_uri": "https://localhost:8080/"
        },
        "outputId": "f95eab30-8918-4a04-ee58-e990744af338"
      },
      "execution_count": 28,
      "outputs": [
        {
          "output_type": "execute_result",
          "data": {
            "text/plain": [
              "256727"
            ]
          },
          "metadata": {},
          "execution_count": 28
        }
      ]
    },
    {
      "cell_type": "markdown",
      "source": [
        "3. (0.5 балла) удалить данные колонки из датасета, сохранив изменения (в дальнейшем работаем измененным датасетом):"
      ],
      "metadata": {
        "id": "wFbuTnkbjPeq"
      }
    },
    {
      "cell_type": "code",
      "source": [
        "diamonds = diamonds.drop(labels=not_informative_columns, axis=1)\n",
        "diamonds.columns"
      ],
      "metadata": {
        "id": "qSZ5cmKWjutz",
        "colab": {
          "base_uri": "https://localhost:8080/"
        },
        "outputId": "ae1eac87-dc76-4de3-a56c-c6616c42169d"
      },
      "execution_count": 29,
      "outputs": [
        {
          "output_type": "execute_result",
          "data": {
            "text/plain": [
              "Index(['Unnamed: 0', 'cut', 'color', 'clarity', 'carat_weight', 'cut_quality',\n",
              "       'lab', 'symmetry', 'polish', 'eye_clean', 'culet_size',\n",
              "       'culet_condition', 'depth_percent', 'table_percent', 'meas_length',\n",
              "       'meas_width', 'meas_depth', 'girdle_min', 'girdle_max',\n",
              "       'total_sales_price'],\n",
              "      dtype='object')"
            ]
          },
          "metadata": {},
          "execution_count": 29
        }
      ]
    },
    {
      "cell_type": "markdown",
      "source": [
        "(1 балл) Проделайте тоже самое для колонок, начинающихся с `culet_`:"
      ],
      "metadata": {
        "id": "JID3q4vr8-2h"
      }
    },
    {
      "cell_type": "code",
      "source": [
        "culet=diamonds.columns[pd.Series(diamonds.columns).str.startswith('culet')]\n",
        "diamonds = diamonds.drop(labels=culet, axis=1)"
      ],
      "metadata": {
        "id": "Wfsvzyad-T6P"
      },
      "execution_count": 30,
      "outputs": []
    },
    {
      "cell_type": "markdown",
      "source": [
        "(1 балл) Посчитайте сколько бы стоил (в тысячах долларов) сейф, в котором хранились бы все бриллианты из датасета:"
      ],
      "metadata": {
        "id": "7_qYv5Xm-UCz"
      }
    },
    {
      "cell_type": "code",
      "source": [
        "diamonds[\"total_sales_price\"].sum(axis=0) / 10**3"
      ],
      "metadata": {
        "id": "g2wVyz5U-cx7",
        "colab": {
          "base_uri": "https://localhost:8080/"
        },
        "outputId": "5ef49401-f333-45da-d479-4cd3bcaad8a0"
      },
      "execution_count": 31,
      "outputs": [
        {
          "output_type": "execute_result",
          "data": {
            "text/plain": [
              "1517721.991"
            ]
          },
          "metadata": {},
          "execution_count": 31
        }
      ]
    },
    {
      "cell_type": "markdown",
      "source": [
        "Немного необоснованных манипуляций."
      ],
      "metadata": {
        "id": "GVwspHrUkRFv"
      }
    },
    {
      "cell_type": "markdown",
      "source": [
        "(1 балл) Выберите из датасета строки с четными индексами и выведете значения (не меняя нумерацию индексов):"
      ],
      "metadata": {
        "id": "0j5Yr0mFxxfu"
      }
    },
    {
      "cell_type": "code",
      "source": [
        "diamonds[diamonds[\"Unnamed: 0\"] % 2 == 0]"
      ],
      "metadata": {
        "id": "dW2GOROfx6yd",
        "colab": {
          "base_uri": "https://localhost:8080/",
          "height": 609
        },
        "outputId": "1163edec-ae13-4683-f5d2-370720e31306"
      },
      "execution_count": 32,
      "outputs": [
        {
          "output_type": "execute_result",
          "data": {
            "text/plain": [
              "        Unnamed: 0               cut    color clarity  carat_weight  \\\n",
              "0                0             Round        E    VVS2          0.09   \n",
              "2                2             Round        E    VVS2          0.09   \n",
              "4                4             Round        E    VVS2          0.09   \n",
              "6                6             Round        E    VVS2          0.09   \n",
              "8                8             Round        E    VVS2          0.09   \n",
              "...            ...               ...      ...     ...           ...   \n",
              "219693      219694             Round        E      IF         12.52   \n",
              "219695      219696  Cushion Modified  unknown    VVS1         10.00   \n",
              "219697      219698              Oval  unknown     VS1         10.04   \n",
              "219699      219700           Radiant  unknown     VS2          5.17   \n",
              "219701      219702          Princess  unknown     SI2          0.90   \n",
              "\n",
              "       cut_quality  lab   symmetry     polish eye_clean  depth_percent  \\\n",
              "0        Excellent  IGI  Very Good  Very Good   unknown           62.7   \n",
              "2        Excellent  IGI  Very Good  Very Good   unknown           61.1   \n",
              "4        Very Good  IGI  Very Good  Excellent   unknown           64.9   \n",
              "6        Very Good  IGI  Very Good  Very Good   unknown           64.0   \n",
              "8        Very Good  IGI  Very Good  Very Good   unknown           63.5   \n",
              "...            ...  ...        ...        ...       ...            ...   \n",
              "219693   Excellent  GIA  Excellent  Excellent   unknown           62.1   \n",
              "219695     unknown  GIA  Very Good  Excellent   unknown           78.1   \n",
              "219697     unknown  GIA  Excellent  Excellent   unknown           72.8   \n",
              "219699     unknown  GIA  Very Good  Very Good   unknown           64.8   \n",
              "219701     unknown  GIA       Good       Good   unknown           70.8   \n",
              "\n",
              "        table_percent  meas_length  meas_width  meas_depth girdle_min  \\\n",
              "0                59.0         2.85        2.87        1.79          M   \n",
              "2                59.0         2.88        2.90        1.77         TN   \n",
              "4                58.5         2.79        2.83        1.82        STK   \n",
              "6                57.0         2.85        2.88        1.84        STK   \n",
              "8                59.5         2.89        2.92        1.85        STK   \n",
              "...               ...          ...         ...         ...        ...   \n",
              "219693           58.0        14.84       14.91        9.24    unknown   \n",
              "219695           60.0        11.78       10.84        8.47    unknown   \n",
              "219697           55.0        14.13       10.86        7.90    unknown   \n",
              "219699           65.0        11.55        8.81        5.71         TK   \n",
              "219701           72.0         5.22        4.90        3.47        XTN   \n",
              "\n",
              "       girdle_max  total_sales_price  \n",
              "0               M                200  \n",
              "2               M                200  \n",
              "4             STK                200  \n",
              "6             STK                200  \n",
              "8              TK                200  \n",
              "...           ...                ...  \n",
              "219693    unknown            1121792  \n",
              "219695    unknown            1124122  \n",
              "219697    unknown            1161102  \n",
              "219699        XTK            1292500  \n",
              "219701        VTK            1350000  \n",
              "\n",
              "[109852 rows x 18 columns]"
            ],
            "text/html": [
              "\n",
              "  <div id=\"df-abd14c4b-048d-4e05-9d59-9d19b23b0c61\">\n",
              "    <div class=\"colab-df-container\">\n",
              "      <div>\n",
              "<style scoped>\n",
              "    .dataframe tbody tr th:only-of-type {\n",
              "        vertical-align: middle;\n",
              "    }\n",
              "\n",
              "    .dataframe tbody tr th {\n",
              "        vertical-align: top;\n",
              "    }\n",
              "\n",
              "    .dataframe thead th {\n",
              "        text-align: right;\n",
              "    }\n",
              "</style>\n",
              "<table border=\"1\" class=\"dataframe\">\n",
              "  <thead>\n",
              "    <tr style=\"text-align: right;\">\n",
              "      <th></th>\n",
              "      <th>Unnamed: 0</th>\n",
              "      <th>cut</th>\n",
              "      <th>color</th>\n",
              "      <th>clarity</th>\n",
              "      <th>carat_weight</th>\n",
              "      <th>cut_quality</th>\n",
              "      <th>lab</th>\n",
              "      <th>symmetry</th>\n",
              "      <th>polish</th>\n",
              "      <th>eye_clean</th>\n",
              "      <th>depth_percent</th>\n",
              "      <th>table_percent</th>\n",
              "      <th>meas_length</th>\n",
              "      <th>meas_width</th>\n",
              "      <th>meas_depth</th>\n",
              "      <th>girdle_min</th>\n",
              "      <th>girdle_max</th>\n",
              "      <th>total_sales_price</th>\n",
              "    </tr>\n",
              "  </thead>\n",
              "  <tbody>\n",
              "    <tr>\n",
              "      <th>0</th>\n",
              "      <td>0</td>\n",
              "      <td>Round</td>\n",
              "      <td>E</td>\n",
              "      <td>VVS2</td>\n",
              "      <td>0.09</td>\n",
              "      <td>Excellent</td>\n",
              "      <td>IGI</td>\n",
              "      <td>Very Good</td>\n",
              "      <td>Very Good</td>\n",
              "      <td>unknown</td>\n",
              "      <td>62.7</td>\n",
              "      <td>59.0</td>\n",
              "      <td>2.85</td>\n",
              "      <td>2.87</td>\n",
              "      <td>1.79</td>\n",
              "      <td>M</td>\n",
              "      <td>M</td>\n",
              "      <td>200</td>\n",
              "    </tr>\n",
              "    <tr>\n",
              "      <th>2</th>\n",
              "      <td>2</td>\n",
              "      <td>Round</td>\n",
              "      <td>E</td>\n",
              "      <td>VVS2</td>\n",
              "      <td>0.09</td>\n",
              "      <td>Excellent</td>\n",
              "      <td>IGI</td>\n",
              "      <td>Very Good</td>\n",
              "      <td>Very Good</td>\n",
              "      <td>unknown</td>\n",
              "      <td>61.1</td>\n",
              "      <td>59.0</td>\n",
              "      <td>2.88</td>\n",
              "      <td>2.90</td>\n",
              "      <td>1.77</td>\n",
              "      <td>TN</td>\n",
              "      <td>M</td>\n",
              "      <td>200</td>\n",
              "    </tr>\n",
              "    <tr>\n",
              "      <th>4</th>\n",
              "      <td>4</td>\n",
              "      <td>Round</td>\n",
              "      <td>E</td>\n",
              "      <td>VVS2</td>\n",
              "      <td>0.09</td>\n",
              "      <td>Very Good</td>\n",
              "      <td>IGI</td>\n",
              "      <td>Very Good</td>\n",
              "      <td>Excellent</td>\n",
              "      <td>unknown</td>\n",
              "      <td>64.9</td>\n",
              "      <td>58.5</td>\n",
              "      <td>2.79</td>\n",
              "      <td>2.83</td>\n",
              "      <td>1.82</td>\n",
              "      <td>STK</td>\n",
              "      <td>STK</td>\n",
              "      <td>200</td>\n",
              "    </tr>\n",
              "    <tr>\n",
              "      <th>6</th>\n",
              "      <td>6</td>\n",
              "      <td>Round</td>\n",
              "      <td>E</td>\n",
              "      <td>VVS2</td>\n",
              "      <td>0.09</td>\n",
              "      <td>Very Good</td>\n",
              "      <td>IGI</td>\n",
              "      <td>Very Good</td>\n",
              "      <td>Very Good</td>\n",
              "      <td>unknown</td>\n",
              "      <td>64.0</td>\n",
              "      <td>57.0</td>\n",
              "      <td>2.85</td>\n",
              "      <td>2.88</td>\n",
              "      <td>1.84</td>\n",
              "      <td>STK</td>\n",
              "      <td>STK</td>\n",
              "      <td>200</td>\n",
              "    </tr>\n",
              "    <tr>\n",
              "      <th>8</th>\n",
              "      <td>8</td>\n",
              "      <td>Round</td>\n",
              "      <td>E</td>\n",
              "      <td>VVS2</td>\n",
              "      <td>0.09</td>\n",
              "      <td>Very Good</td>\n",
              "      <td>IGI</td>\n",
              "      <td>Very Good</td>\n",
              "      <td>Very Good</td>\n",
              "      <td>unknown</td>\n",
              "      <td>63.5</td>\n",
              "      <td>59.5</td>\n",
              "      <td>2.89</td>\n",
              "      <td>2.92</td>\n",
              "      <td>1.85</td>\n",
              "      <td>STK</td>\n",
              "      <td>TK</td>\n",
              "      <td>200</td>\n",
              "    </tr>\n",
              "    <tr>\n",
              "      <th>...</th>\n",
              "      <td>...</td>\n",
              "      <td>...</td>\n",
              "      <td>...</td>\n",
              "      <td>...</td>\n",
              "      <td>...</td>\n",
              "      <td>...</td>\n",
              "      <td>...</td>\n",
              "      <td>...</td>\n",
              "      <td>...</td>\n",
              "      <td>...</td>\n",
              "      <td>...</td>\n",
              "      <td>...</td>\n",
              "      <td>...</td>\n",
              "      <td>...</td>\n",
              "      <td>...</td>\n",
              "      <td>...</td>\n",
              "      <td>...</td>\n",
              "      <td>...</td>\n",
              "    </tr>\n",
              "    <tr>\n",
              "      <th>219693</th>\n",
              "      <td>219694</td>\n",
              "      <td>Round</td>\n",
              "      <td>E</td>\n",
              "      <td>IF</td>\n",
              "      <td>12.52</td>\n",
              "      <td>Excellent</td>\n",
              "      <td>GIA</td>\n",
              "      <td>Excellent</td>\n",
              "      <td>Excellent</td>\n",
              "      <td>unknown</td>\n",
              "      <td>62.1</td>\n",
              "      <td>58.0</td>\n",
              "      <td>14.84</td>\n",
              "      <td>14.91</td>\n",
              "      <td>9.24</td>\n",
              "      <td>unknown</td>\n",
              "      <td>unknown</td>\n",
              "      <td>1121792</td>\n",
              "    </tr>\n",
              "    <tr>\n",
              "      <th>219695</th>\n",
              "      <td>219696</td>\n",
              "      <td>Cushion Modified</td>\n",
              "      <td>unknown</td>\n",
              "      <td>VVS1</td>\n",
              "      <td>10.00</td>\n",
              "      <td>unknown</td>\n",
              "      <td>GIA</td>\n",
              "      <td>Very Good</td>\n",
              "      <td>Excellent</td>\n",
              "      <td>unknown</td>\n",
              "      <td>78.1</td>\n",
              "      <td>60.0</td>\n",
              "      <td>11.78</td>\n",
              "      <td>10.84</td>\n",
              "      <td>8.47</td>\n",
              "      <td>unknown</td>\n",
              "      <td>unknown</td>\n",
              "      <td>1124122</td>\n",
              "    </tr>\n",
              "    <tr>\n",
              "      <th>219697</th>\n",
              "      <td>219698</td>\n",
              "      <td>Oval</td>\n",
              "      <td>unknown</td>\n",
              "      <td>VS1</td>\n",
              "      <td>10.04</td>\n",
              "      <td>unknown</td>\n",
              "      <td>GIA</td>\n",
              "      <td>Excellent</td>\n",
              "      <td>Excellent</td>\n",
              "      <td>unknown</td>\n",
              "      <td>72.8</td>\n",
              "      <td>55.0</td>\n",
              "      <td>14.13</td>\n",
              "      <td>10.86</td>\n",
              "      <td>7.90</td>\n",
              "      <td>unknown</td>\n",
              "      <td>unknown</td>\n",
              "      <td>1161102</td>\n",
              "    </tr>\n",
              "    <tr>\n",
              "      <th>219699</th>\n",
              "      <td>219700</td>\n",
              "      <td>Radiant</td>\n",
              "      <td>unknown</td>\n",
              "      <td>VS2</td>\n",
              "      <td>5.17</td>\n",
              "      <td>unknown</td>\n",
              "      <td>GIA</td>\n",
              "      <td>Very Good</td>\n",
              "      <td>Very Good</td>\n",
              "      <td>unknown</td>\n",
              "      <td>64.8</td>\n",
              "      <td>65.0</td>\n",
              "      <td>11.55</td>\n",
              "      <td>8.81</td>\n",
              "      <td>5.71</td>\n",
              "      <td>TK</td>\n",
              "      <td>XTK</td>\n",
              "      <td>1292500</td>\n",
              "    </tr>\n",
              "    <tr>\n",
              "      <th>219701</th>\n",
              "      <td>219702</td>\n",
              "      <td>Princess</td>\n",
              "      <td>unknown</td>\n",
              "      <td>SI2</td>\n",
              "      <td>0.90</td>\n",
              "      <td>unknown</td>\n",
              "      <td>GIA</td>\n",
              "      <td>Good</td>\n",
              "      <td>Good</td>\n",
              "      <td>unknown</td>\n",
              "      <td>70.8</td>\n",
              "      <td>72.0</td>\n",
              "      <td>5.22</td>\n",
              "      <td>4.90</td>\n",
              "      <td>3.47</td>\n",
              "      <td>XTN</td>\n",
              "      <td>VTK</td>\n",
              "      <td>1350000</td>\n",
              "    </tr>\n",
              "  </tbody>\n",
              "</table>\n",
              "<p>109852 rows × 18 columns</p>\n",
              "</div>\n",
              "      <button class=\"colab-df-convert\" onclick=\"convertToInteractive('df-abd14c4b-048d-4e05-9d59-9d19b23b0c61')\"\n",
              "              title=\"Convert this dataframe to an interactive table.\"\n",
              "              style=\"display:none;\">\n",
              "        \n",
              "  <svg xmlns=\"http://www.w3.org/2000/svg\" height=\"24px\"viewBox=\"0 0 24 24\"\n",
              "       width=\"24px\">\n",
              "    <path d=\"M0 0h24v24H0V0z\" fill=\"none\"/>\n",
              "    <path d=\"M18.56 5.44l.94 2.06.94-2.06 2.06-.94-2.06-.94-.94-2.06-.94 2.06-2.06.94zm-11 1L8.5 8.5l.94-2.06 2.06-.94-2.06-.94L8.5 2.5l-.94 2.06-2.06.94zm10 10l.94 2.06.94-2.06 2.06-.94-2.06-.94-.94-2.06-.94 2.06-2.06.94z\"/><path d=\"M17.41 7.96l-1.37-1.37c-.4-.4-.92-.59-1.43-.59-.52 0-1.04.2-1.43.59L10.3 9.45l-7.72 7.72c-.78.78-.78 2.05 0 2.83L4 21.41c.39.39.9.59 1.41.59.51 0 1.02-.2 1.41-.59l7.78-7.78 2.81-2.81c.8-.78.8-2.07 0-2.86zM5.41 20L4 18.59l7.72-7.72 1.47 1.35L5.41 20z\"/>\n",
              "  </svg>\n",
              "      </button>\n",
              "      \n",
              "  <style>\n",
              "    .colab-df-container {\n",
              "      display:flex;\n",
              "      flex-wrap:wrap;\n",
              "      gap: 12px;\n",
              "    }\n",
              "\n",
              "    .colab-df-convert {\n",
              "      background-color: #E8F0FE;\n",
              "      border: none;\n",
              "      border-radius: 50%;\n",
              "      cursor: pointer;\n",
              "      display: none;\n",
              "      fill: #1967D2;\n",
              "      height: 32px;\n",
              "      padding: 0 0 0 0;\n",
              "      width: 32px;\n",
              "    }\n",
              "\n",
              "    .colab-df-convert:hover {\n",
              "      background-color: #E2EBFA;\n",
              "      box-shadow: 0px 1px 2px rgba(60, 64, 67, 0.3), 0px 1px 3px 1px rgba(60, 64, 67, 0.15);\n",
              "      fill: #174EA6;\n",
              "    }\n",
              "\n",
              "    [theme=dark] .colab-df-convert {\n",
              "      background-color: #3B4455;\n",
              "      fill: #D2E3FC;\n",
              "    }\n",
              "\n",
              "    [theme=dark] .colab-df-convert:hover {\n",
              "      background-color: #434B5C;\n",
              "      box-shadow: 0px 1px 3px 1px rgba(0, 0, 0, 0.15);\n",
              "      filter: drop-shadow(0px 1px 2px rgba(0, 0, 0, 0.3));\n",
              "      fill: #FFFFFF;\n",
              "    }\n",
              "  </style>\n",
              "\n",
              "      <script>\n",
              "        const buttonEl =\n",
              "          document.querySelector('#df-abd14c4b-048d-4e05-9d59-9d19b23b0c61 button.colab-df-convert');\n",
              "        buttonEl.style.display =\n",
              "          google.colab.kernel.accessAllowed ? 'block' : 'none';\n",
              "\n",
              "        async function convertToInteractive(key) {\n",
              "          const element = document.querySelector('#df-abd14c4b-048d-4e05-9d59-9d19b23b0c61');\n",
              "          const dataTable =\n",
              "            await google.colab.kernel.invokeFunction('convertToInteractive',\n",
              "                                                     [key], {});\n",
              "          if (!dataTable) return;\n",
              "\n",
              "          const docLinkHtml = 'Like what you see? Visit the ' +\n",
              "            '<a target=\"_blank\" href=https://colab.research.google.com/notebooks/data_table.ipynb>data table notebook</a>'\n",
              "            + ' to learn more about interactive tables.';\n",
              "          element.innerHTML = '';\n",
              "          dataTable['output_type'] = 'display_data';\n",
              "          await google.colab.output.renderOutput(dataTable, element);\n",
              "          const docLink = document.createElement('div');\n",
              "          docLink.innerHTML = docLinkHtml;\n",
              "          element.appendChild(docLink);\n",
              "        }\n",
              "      </script>\n",
              "    </div>\n",
              "  </div>\n",
              "  "
            ]
          },
          "metadata": {},
          "execution_count": 32
        }
      ]
    },
    {
      "cell_type": "markdown",
      "source": [
        "(0.5 балла) А теперь с индексами, кратными 6:"
      ],
      "metadata": {
        "id": "mNXqS4oox7TF"
      }
    },
    {
      "cell_type": "code",
      "source": [
        "diamonds[diamonds[\"Unnamed: 0\"] % 6 == 0]"
      ],
      "metadata": {
        "id": "hy8LyzXix_SB",
        "colab": {
          "base_uri": "https://localhost:8080/",
          "height": 609
        },
        "outputId": "850e6fb3-74a6-44b9-ba21-c017ca17df81"
      },
      "execution_count": 33,
      "outputs": [
        {
          "output_type": "execute_result",
          "data": {
            "text/plain": [
              "        Unnamed: 0               cut    color clarity  carat_weight  \\\n",
              "0                0             Round        E    VVS2          0.09   \n",
              "6                6             Round        E    VVS2          0.09   \n",
              "12              12             Round        E    VVS2          0.09   \n",
              "18              18             Round        E    VVS2          0.09   \n",
              "24              24             Round        L      I1          0.34   \n",
              "...            ...               ...      ...     ...           ...   \n",
              "219677      219678             Round        G     VS1         10.14   \n",
              "219683      219684              Pear  unknown     VS2          1.51   \n",
              "219689      219690             Round        F      IF         10.66   \n",
              "219695      219696  Cushion Modified  unknown    VVS1         10.00   \n",
              "219701      219702          Princess  unknown     SI2          0.90   \n",
              "\n",
              "       cut_quality  lab   symmetry     polish eye_clean  depth_percent  \\\n",
              "0        Excellent  IGI  Very Good  Very Good   unknown           62.7   \n",
              "6        Very Good  IGI  Very Good  Very Good   unknown           64.0   \n",
              "12       Very Good  IGI  Very Good  Very Good   unknown           61.8   \n",
              "18       Excellent  IGI  Very Good  Very Good   unknown           61.0   \n",
              "24       Excellent  IGI  Excellent  Excellent   unknown            0.0   \n",
              "...            ...  ...        ...        ...       ...            ...   \n",
              "219677   Excellent  GIA  Excellent  Excellent   unknown           61.8   \n",
              "219683     unknown  GIA  Very Good  Very Good   unknown           63.8   \n",
              "219689   Excellent  GIA  Excellent  Excellent   unknown           61.4   \n",
              "219695     unknown  GIA  Very Good  Excellent   unknown           78.1   \n",
              "219701     unknown  GIA       Good       Good   unknown           70.8   \n",
              "\n",
              "        table_percent  meas_length  meas_width  meas_depth girdle_min  \\\n",
              "0                59.0         2.85        2.87        1.79          M   \n",
              "6                57.0         2.85        2.88        1.84        STK   \n",
              "12               58.5         2.85        2.89        1.77        STK   \n",
              "18               60.0         2.91        2.92        1.78          M   \n",
              "24                0.0         0.00        0.00        0.00    unknown   \n",
              "...               ...          ...         ...         ...        ...   \n",
              "219677           59.0        13.84       13.88        8.56          M   \n",
              "219683           59.0        10.73        5.61        3.58    unknown   \n",
              "219689           58.0        14.14       14.16        8.69          M   \n",
              "219695           60.0        11.78       10.84        8.47    unknown   \n",
              "219701           72.0         5.22        4.90        3.47        XTN   \n",
              "\n",
              "       girdle_max  total_sales_price  \n",
              "0               M                200  \n",
              "6             STK                200  \n",
              "12             TK                200  \n",
              "18              M                200  \n",
              "24        unknown                204  \n",
              "...           ...                ...  \n",
              "219677        STK             851760  \n",
              "219683    unknown             966401  \n",
              "219689        STK            1034844  \n",
              "219695    unknown            1124122  \n",
              "219701        VTK            1350000  \n",
              "\n",
              "[36618 rows x 18 columns]"
            ],
            "text/html": [
              "\n",
              "  <div id=\"df-4fd89a93-0311-4b42-8f9a-2ffba8c767d0\">\n",
              "    <div class=\"colab-df-container\">\n",
              "      <div>\n",
              "<style scoped>\n",
              "    .dataframe tbody tr th:only-of-type {\n",
              "        vertical-align: middle;\n",
              "    }\n",
              "\n",
              "    .dataframe tbody tr th {\n",
              "        vertical-align: top;\n",
              "    }\n",
              "\n",
              "    .dataframe thead th {\n",
              "        text-align: right;\n",
              "    }\n",
              "</style>\n",
              "<table border=\"1\" class=\"dataframe\">\n",
              "  <thead>\n",
              "    <tr style=\"text-align: right;\">\n",
              "      <th></th>\n",
              "      <th>Unnamed: 0</th>\n",
              "      <th>cut</th>\n",
              "      <th>color</th>\n",
              "      <th>clarity</th>\n",
              "      <th>carat_weight</th>\n",
              "      <th>cut_quality</th>\n",
              "      <th>lab</th>\n",
              "      <th>symmetry</th>\n",
              "      <th>polish</th>\n",
              "      <th>eye_clean</th>\n",
              "      <th>depth_percent</th>\n",
              "      <th>table_percent</th>\n",
              "      <th>meas_length</th>\n",
              "      <th>meas_width</th>\n",
              "      <th>meas_depth</th>\n",
              "      <th>girdle_min</th>\n",
              "      <th>girdle_max</th>\n",
              "      <th>total_sales_price</th>\n",
              "    </tr>\n",
              "  </thead>\n",
              "  <tbody>\n",
              "    <tr>\n",
              "      <th>0</th>\n",
              "      <td>0</td>\n",
              "      <td>Round</td>\n",
              "      <td>E</td>\n",
              "      <td>VVS2</td>\n",
              "      <td>0.09</td>\n",
              "      <td>Excellent</td>\n",
              "      <td>IGI</td>\n",
              "      <td>Very Good</td>\n",
              "      <td>Very Good</td>\n",
              "      <td>unknown</td>\n",
              "      <td>62.7</td>\n",
              "      <td>59.0</td>\n",
              "      <td>2.85</td>\n",
              "      <td>2.87</td>\n",
              "      <td>1.79</td>\n",
              "      <td>M</td>\n",
              "      <td>M</td>\n",
              "      <td>200</td>\n",
              "    </tr>\n",
              "    <tr>\n",
              "      <th>6</th>\n",
              "      <td>6</td>\n",
              "      <td>Round</td>\n",
              "      <td>E</td>\n",
              "      <td>VVS2</td>\n",
              "      <td>0.09</td>\n",
              "      <td>Very Good</td>\n",
              "      <td>IGI</td>\n",
              "      <td>Very Good</td>\n",
              "      <td>Very Good</td>\n",
              "      <td>unknown</td>\n",
              "      <td>64.0</td>\n",
              "      <td>57.0</td>\n",
              "      <td>2.85</td>\n",
              "      <td>2.88</td>\n",
              "      <td>1.84</td>\n",
              "      <td>STK</td>\n",
              "      <td>STK</td>\n",
              "      <td>200</td>\n",
              "    </tr>\n",
              "    <tr>\n",
              "      <th>12</th>\n",
              "      <td>12</td>\n",
              "      <td>Round</td>\n",
              "      <td>E</td>\n",
              "      <td>VVS2</td>\n",
              "      <td>0.09</td>\n",
              "      <td>Very Good</td>\n",
              "      <td>IGI</td>\n",
              "      <td>Very Good</td>\n",
              "      <td>Very Good</td>\n",
              "      <td>unknown</td>\n",
              "      <td>61.8</td>\n",
              "      <td>58.5</td>\n",
              "      <td>2.85</td>\n",
              "      <td>2.89</td>\n",
              "      <td>1.77</td>\n",
              "      <td>STK</td>\n",
              "      <td>TK</td>\n",
              "      <td>200</td>\n",
              "    </tr>\n",
              "    <tr>\n",
              "      <th>18</th>\n",
              "      <td>18</td>\n",
              "      <td>Round</td>\n",
              "      <td>E</td>\n",
              "      <td>VVS2</td>\n",
              "      <td>0.09</td>\n",
              "      <td>Excellent</td>\n",
              "      <td>IGI</td>\n",
              "      <td>Very Good</td>\n",
              "      <td>Very Good</td>\n",
              "      <td>unknown</td>\n",
              "      <td>61.0</td>\n",
              "      <td>60.0</td>\n",
              "      <td>2.91</td>\n",
              "      <td>2.92</td>\n",
              "      <td>1.78</td>\n",
              "      <td>M</td>\n",
              "      <td>M</td>\n",
              "      <td>200</td>\n",
              "    </tr>\n",
              "    <tr>\n",
              "      <th>24</th>\n",
              "      <td>24</td>\n",
              "      <td>Round</td>\n",
              "      <td>L</td>\n",
              "      <td>I1</td>\n",
              "      <td>0.34</td>\n",
              "      <td>Excellent</td>\n",
              "      <td>IGI</td>\n",
              "      <td>Excellent</td>\n",
              "      <td>Excellent</td>\n",
              "      <td>unknown</td>\n",
              "      <td>0.0</td>\n",
              "      <td>0.0</td>\n",
              "      <td>0.00</td>\n",
              "      <td>0.00</td>\n",
              "      <td>0.00</td>\n",
              "      <td>unknown</td>\n",
              "      <td>unknown</td>\n",
              "      <td>204</td>\n",
              "    </tr>\n",
              "    <tr>\n",
              "      <th>...</th>\n",
              "      <td>...</td>\n",
              "      <td>...</td>\n",
              "      <td>...</td>\n",
              "      <td>...</td>\n",
              "      <td>...</td>\n",
              "      <td>...</td>\n",
              "      <td>...</td>\n",
              "      <td>...</td>\n",
              "      <td>...</td>\n",
              "      <td>...</td>\n",
              "      <td>...</td>\n",
              "      <td>...</td>\n",
              "      <td>...</td>\n",
              "      <td>...</td>\n",
              "      <td>...</td>\n",
              "      <td>...</td>\n",
              "      <td>...</td>\n",
              "      <td>...</td>\n",
              "    </tr>\n",
              "    <tr>\n",
              "      <th>219677</th>\n",
              "      <td>219678</td>\n",
              "      <td>Round</td>\n",
              "      <td>G</td>\n",
              "      <td>VS1</td>\n",
              "      <td>10.14</td>\n",
              "      <td>Excellent</td>\n",
              "      <td>GIA</td>\n",
              "      <td>Excellent</td>\n",
              "      <td>Excellent</td>\n",
              "      <td>unknown</td>\n",
              "      <td>61.8</td>\n",
              "      <td>59.0</td>\n",
              "      <td>13.84</td>\n",
              "      <td>13.88</td>\n",
              "      <td>8.56</td>\n",
              "      <td>M</td>\n",
              "      <td>STK</td>\n",
              "      <td>851760</td>\n",
              "    </tr>\n",
              "    <tr>\n",
              "      <th>219683</th>\n",
              "      <td>219684</td>\n",
              "      <td>Pear</td>\n",
              "      <td>unknown</td>\n",
              "      <td>VS2</td>\n",
              "      <td>1.51</td>\n",
              "      <td>unknown</td>\n",
              "      <td>GIA</td>\n",
              "      <td>Very Good</td>\n",
              "      <td>Very Good</td>\n",
              "      <td>unknown</td>\n",
              "      <td>63.8</td>\n",
              "      <td>59.0</td>\n",
              "      <td>10.73</td>\n",
              "      <td>5.61</td>\n",
              "      <td>3.58</td>\n",
              "      <td>unknown</td>\n",
              "      <td>unknown</td>\n",
              "      <td>966401</td>\n",
              "    </tr>\n",
              "    <tr>\n",
              "      <th>219689</th>\n",
              "      <td>219690</td>\n",
              "      <td>Round</td>\n",
              "      <td>F</td>\n",
              "      <td>IF</td>\n",
              "      <td>10.66</td>\n",
              "      <td>Excellent</td>\n",
              "      <td>GIA</td>\n",
              "      <td>Excellent</td>\n",
              "      <td>Excellent</td>\n",
              "      <td>unknown</td>\n",
              "      <td>61.4</td>\n",
              "      <td>58.0</td>\n",
              "      <td>14.14</td>\n",
              "      <td>14.16</td>\n",
              "      <td>8.69</td>\n",
              "      <td>M</td>\n",
              "      <td>STK</td>\n",
              "      <td>1034844</td>\n",
              "    </tr>\n",
              "    <tr>\n",
              "      <th>219695</th>\n",
              "      <td>219696</td>\n",
              "      <td>Cushion Modified</td>\n",
              "      <td>unknown</td>\n",
              "      <td>VVS1</td>\n",
              "      <td>10.00</td>\n",
              "      <td>unknown</td>\n",
              "      <td>GIA</td>\n",
              "      <td>Very Good</td>\n",
              "      <td>Excellent</td>\n",
              "      <td>unknown</td>\n",
              "      <td>78.1</td>\n",
              "      <td>60.0</td>\n",
              "      <td>11.78</td>\n",
              "      <td>10.84</td>\n",
              "      <td>8.47</td>\n",
              "      <td>unknown</td>\n",
              "      <td>unknown</td>\n",
              "      <td>1124122</td>\n",
              "    </tr>\n",
              "    <tr>\n",
              "      <th>219701</th>\n",
              "      <td>219702</td>\n",
              "      <td>Princess</td>\n",
              "      <td>unknown</td>\n",
              "      <td>SI2</td>\n",
              "      <td>0.90</td>\n",
              "      <td>unknown</td>\n",
              "      <td>GIA</td>\n",
              "      <td>Good</td>\n",
              "      <td>Good</td>\n",
              "      <td>unknown</td>\n",
              "      <td>70.8</td>\n",
              "      <td>72.0</td>\n",
              "      <td>5.22</td>\n",
              "      <td>4.90</td>\n",
              "      <td>3.47</td>\n",
              "      <td>XTN</td>\n",
              "      <td>VTK</td>\n",
              "      <td>1350000</td>\n",
              "    </tr>\n",
              "  </tbody>\n",
              "</table>\n",
              "<p>36618 rows × 18 columns</p>\n",
              "</div>\n",
              "      <button class=\"colab-df-convert\" onclick=\"convertToInteractive('df-4fd89a93-0311-4b42-8f9a-2ffba8c767d0')\"\n",
              "              title=\"Convert this dataframe to an interactive table.\"\n",
              "              style=\"display:none;\">\n",
              "        \n",
              "  <svg xmlns=\"http://www.w3.org/2000/svg\" height=\"24px\"viewBox=\"0 0 24 24\"\n",
              "       width=\"24px\">\n",
              "    <path d=\"M0 0h24v24H0V0z\" fill=\"none\"/>\n",
              "    <path d=\"M18.56 5.44l.94 2.06.94-2.06 2.06-.94-2.06-.94-.94-2.06-.94 2.06-2.06.94zm-11 1L8.5 8.5l.94-2.06 2.06-.94-2.06-.94L8.5 2.5l-.94 2.06-2.06.94zm10 10l.94 2.06.94-2.06 2.06-.94-2.06-.94-.94-2.06-.94 2.06-2.06.94z\"/><path d=\"M17.41 7.96l-1.37-1.37c-.4-.4-.92-.59-1.43-.59-.52 0-1.04.2-1.43.59L10.3 9.45l-7.72 7.72c-.78.78-.78 2.05 0 2.83L4 21.41c.39.39.9.59 1.41.59.51 0 1.02-.2 1.41-.59l7.78-7.78 2.81-2.81c.8-.78.8-2.07 0-2.86zM5.41 20L4 18.59l7.72-7.72 1.47 1.35L5.41 20z\"/>\n",
              "  </svg>\n",
              "      </button>\n",
              "      \n",
              "  <style>\n",
              "    .colab-df-container {\n",
              "      display:flex;\n",
              "      flex-wrap:wrap;\n",
              "      gap: 12px;\n",
              "    }\n",
              "\n",
              "    .colab-df-convert {\n",
              "      background-color: #E8F0FE;\n",
              "      border: none;\n",
              "      border-radius: 50%;\n",
              "      cursor: pointer;\n",
              "      display: none;\n",
              "      fill: #1967D2;\n",
              "      height: 32px;\n",
              "      padding: 0 0 0 0;\n",
              "      width: 32px;\n",
              "    }\n",
              "\n",
              "    .colab-df-convert:hover {\n",
              "      background-color: #E2EBFA;\n",
              "      box-shadow: 0px 1px 2px rgba(60, 64, 67, 0.3), 0px 1px 3px 1px rgba(60, 64, 67, 0.15);\n",
              "      fill: #174EA6;\n",
              "    }\n",
              "\n",
              "    [theme=dark] .colab-df-convert {\n",
              "      background-color: #3B4455;\n",
              "      fill: #D2E3FC;\n",
              "    }\n",
              "\n",
              "    [theme=dark] .colab-df-convert:hover {\n",
              "      background-color: #434B5C;\n",
              "      box-shadow: 0px 1px 3px 1px rgba(0, 0, 0, 0.15);\n",
              "      filter: drop-shadow(0px 1px 2px rgba(0, 0, 0, 0.3));\n",
              "      fill: #FFFFFF;\n",
              "    }\n",
              "  </style>\n",
              "\n",
              "      <script>\n",
              "        const buttonEl =\n",
              "          document.querySelector('#df-4fd89a93-0311-4b42-8f9a-2ffba8c767d0 button.colab-df-convert');\n",
              "        buttonEl.style.display =\n",
              "          google.colab.kernel.accessAllowed ? 'block' : 'none';\n",
              "\n",
              "        async function convertToInteractive(key) {\n",
              "          const element = document.querySelector('#df-4fd89a93-0311-4b42-8f9a-2ffba8c767d0');\n",
              "          const dataTable =\n",
              "            await google.colab.kernel.invokeFunction('convertToInteractive',\n",
              "                                                     [key], {});\n",
              "          if (!dataTable) return;\n",
              "\n",
              "          const docLinkHtml = 'Like what you see? Visit the ' +\n",
              "            '<a target=\"_blank\" href=https://colab.research.google.com/notebooks/data_table.ipynb>data table notebook</a>'\n",
              "            + ' to learn more about interactive tables.';\n",
              "          element.innerHTML = '';\n",
              "          dataTable['output_type'] = 'display_data';\n",
              "          await google.colab.output.renderOutput(dataTable, element);\n",
              "          const docLink = document.createElement('div');\n",
              "          docLink.innerHTML = docLinkHtml;\n",
              "          element.appendChild(docLink);\n",
              "        }\n",
              "      </script>\n",
              "    </div>\n",
              "  </div>\n",
              "  "
            ]
          },
          "metadata": {},
          "execution_count": 33
        }
      ]
    },
    {
      "cell_type": "markdown",
      "source": [
        "(1 балл) Выберете из датасета только категорильные признаки и выведете датасет:"
      ],
      "metadata": {
        "id": "u94LL979x_bV"
      }
    },
    {
      "cell_type": "code",
      "source": [
        "diamonds[diamonds.columns[diamonds.nunique() < 20]]"
      ],
      "metadata": {
        "id": "2_LBNDWXyOOl",
        "colab": {
          "base_uri": "https://localhost:8080/",
          "height": 424
        },
        "outputId": "12101eda-0bb4-44b6-c4aa-a448fe3c132a"
      },
      "execution_count": 53,
      "outputs": [
        {
          "output_type": "execute_result",
          "data": {
            "text/plain": [
              "             cut    color clarity cut_quality  lab   symmetry     polish  \\\n",
              "0          Round        E    VVS2   Excellent  IGI  Very Good  Very Good   \n",
              "1          Round        E    VVS2   Very Good  IGI  Very Good  Very Good   \n",
              "2          Round        E    VVS2   Excellent  IGI  Very Good  Very Good   \n",
              "3          Round        E    VVS2   Excellent  IGI  Very Good  Very Good   \n",
              "4          Round        E    VVS2   Very Good  IGI  Very Good  Excellent   \n",
              "...          ...      ...     ...         ...  ...        ...        ...   \n",
              "219698     Round        E     VS1   Excellent  GIA  Excellent  Excellent   \n",
              "219699   Radiant  unknown     VS2     unknown  GIA  Very Good  Very Good   \n",
              "219700     Round        E     VS1   Excellent  GIA  Excellent  Excellent   \n",
              "219701  Princess  unknown     SI2     unknown  GIA       Good       Good   \n",
              "219702      Pear  unknown    VVS2     unknown  GIA  Very Good  Excellent   \n",
              "\n",
              "       eye_clean girdle_min girdle_max  \n",
              "0        unknown          M          M  \n",
              "1        unknown        STK        STK  \n",
              "2        unknown         TN          M  \n",
              "3        unknown          M        STK  \n",
              "4        unknown        STK        STK  \n",
              "...          ...        ...        ...  \n",
              "219698   unknown          M        STK  \n",
              "219699   unknown         TK        XTK  \n",
              "219700   unknown         TN          M  \n",
              "219701   unknown        XTN        VTK  \n",
              "219702   unknown    unknown    unknown  \n",
              "\n",
              "[219703 rows x 10 columns]"
            ],
            "text/html": [
              "\n",
              "  <div id=\"df-25da17a7-697f-494a-93ec-d8705c77c7c4\">\n",
              "    <div class=\"colab-df-container\">\n",
              "      <div>\n",
              "<style scoped>\n",
              "    .dataframe tbody tr th:only-of-type {\n",
              "        vertical-align: middle;\n",
              "    }\n",
              "\n",
              "    .dataframe tbody tr th {\n",
              "        vertical-align: top;\n",
              "    }\n",
              "\n",
              "    .dataframe thead th {\n",
              "        text-align: right;\n",
              "    }\n",
              "</style>\n",
              "<table border=\"1\" class=\"dataframe\">\n",
              "  <thead>\n",
              "    <tr style=\"text-align: right;\">\n",
              "      <th></th>\n",
              "      <th>cut</th>\n",
              "      <th>color</th>\n",
              "      <th>clarity</th>\n",
              "      <th>cut_quality</th>\n",
              "      <th>lab</th>\n",
              "      <th>symmetry</th>\n",
              "      <th>polish</th>\n",
              "      <th>eye_clean</th>\n",
              "      <th>girdle_min</th>\n",
              "      <th>girdle_max</th>\n",
              "    </tr>\n",
              "  </thead>\n",
              "  <tbody>\n",
              "    <tr>\n",
              "      <th>0</th>\n",
              "      <td>Round</td>\n",
              "      <td>E</td>\n",
              "      <td>VVS2</td>\n",
              "      <td>Excellent</td>\n",
              "      <td>IGI</td>\n",
              "      <td>Very Good</td>\n",
              "      <td>Very Good</td>\n",
              "      <td>unknown</td>\n",
              "      <td>M</td>\n",
              "      <td>M</td>\n",
              "    </tr>\n",
              "    <tr>\n",
              "      <th>1</th>\n",
              "      <td>Round</td>\n",
              "      <td>E</td>\n",
              "      <td>VVS2</td>\n",
              "      <td>Very Good</td>\n",
              "      <td>IGI</td>\n",
              "      <td>Very Good</td>\n",
              "      <td>Very Good</td>\n",
              "      <td>unknown</td>\n",
              "      <td>STK</td>\n",
              "      <td>STK</td>\n",
              "    </tr>\n",
              "    <tr>\n",
              "      <th>2</th>\n",
              "      <td>Round</td>\n",
              "      <td>E</td>\n",
              "      <td>VVS2</td>\n",
              "      <td>Excellent</td>\n",
              "      <td>IGI</td>\n",
              "      <td>Very Good</td>\n",
              "      <td>Very Good</td>\n",
              "      <td>unknown</td>\n",
              "      <td>TN</td>\n",
              "      <td>M</td>\n",
              "    </tr>\n",
              "    <tr>\n",
              "      <th>3</th>\n",
              "      <td>Round</td>\n",
              "      <td>E</td>\n",
              "      <td>VVS2</td>\n",
              "      <td>Excellent</td>\n",
              "      <td>IGI</td>\n",
              "      <td>Very Good</td>\n",
              "      <td>Very Good</td>\n",
              "      <td>unknown</td>\n",
              "      <td>M</td>\n",
              "      <td>STK</td>\n",
              "    </tr>\n",
              "    <tr>\n",
              "      <th>4</th>\n",
              "      <td>Round</td>\n",
              "      <td>E</td>\n",
              "      <td>VVS2</td>\n",
              "      <td>Very Good</td>\n",
              "      <td>IGI</td>\n",
              "      <td>Very Good</td>\n",
              "      <td>Excellent</td>\n",
              "      <td>unknown</td>\n",
              "      <td>STK</td>\n",
              "      <td>STK</td>\n",
              "    </tr>\n",
              "    <tr>\n",
              "      <th>...</th>\n",
              "      <td>...</td>\n",
              "      <td>...</td>\n",
              "      <td>...</td>\n",
              "      <td>...</td>\n",
              "      <td>...</td>\n",
              "      <td>...</td>\n",
              "      <td>...</td>\n",
              "      <td>...</td>\n",
              "      <td>...</td>\n",
              "      <td>...</td>\n",
              "    </tr>\n",
              "    <tr>\n",
              "      <th>219698</th>\n",
              "      <td>Round</td>\n",
              "      <td>E</td>\n",
              "      <td>VS1</td>\n",
              "      <td>Excellent</td>\n",
              "      <td>GIA</td>\n",
              "      <td>Excellent</td>\n",
              "      <td>Excellent</td>\n",
              "      <td>unknown</td>\n",
              "      <td>M</td>\n",
              "      <td>STK</td>\n",
              "    </tr>\n",
              "    <tr>\n",
              "      <th>219699</th>\n",
              "      <td>Radiant</td>\n",
              "      <td>unknown</td>\n",
              "      <td>VS2</td>\n",
              "      <td>unknown</td>\n",
              "      <td>GIA</td>\n",
              "      <td>Very Good</td>\n",
              "      <td>Very Good</td>\n",
              "      <td>unknown</td>\n",
              "      <td>TK</td>\n",
              "      <td>XTK</td>\n",
              "    </tr>\n",
              "    <tr>\n",
              "      <th>219700</th>\n",
              "      <td>Round</td>\n",
              "      <td>E</td>\n",
              "      <td>VS1</td>\n",
              "      <td>Excellent</td>\n",
              "      <td>GIA</td>\n",
              "      <td>Excellent</td>\n",
              "      <td>Excellent</td>\n",
              "      <td>unknown</td>\n",
              "      <td>TN</td>\n",
              "      <td>M</td>\n",
              "    </tr>\n",
              "    <tr>\n",
              "      <th>219701</th>\n",
              "      <td>Princess</td>\n",
              "      <td>unknown</td>\n",
              "      <td>SI2</td>\n",
              "      <td>unknown</td>\n",
              "      <td>GIA</td>\n",
              "      <td>Good</td>\n",
              "      <td>Good</td>\n",
              "      <td>unknown</td>\n",
              "      <td>XTN</td>\n",
              "      <td>VTK</td>\n",
              "    </tr>\n",
              "    <tr>\n",
              "      <th>219702</th>\n",
              "      <td>Pear</td>\n",
              "      <td>unknown</td>\n",
              "      <td>VVS2</td>\n",
              "      <td>unknown</td>\n",
              "      <td>GIA</td>\n",
              "      <td>Very Good</td>\n",
              "      <td>Excellent</td>\n",
              "      <td>unknown</td>\n",
              "      <td>unknown</td>\n",
              "      <td>unknown</td>\n",
              "    </tr>\n",
              "  </tbody>\n",
              "</table>\n",
              "<p>219703 rows × 10 columns</p>\n",
              "</div>\n",
              "      <button class=\"colab-df-convert\" onclick=\"convertToInteractive('df-25da17a7-697f-494a-93ec-d8705c77c7c4')\"\n",
              "              title=\"Convert this dataframe to an interactive table.\"\n",
              "              style=\"display:none;\">\n",
              "        \n",
              "  <svg xmlns=\"http://www.w3.org/2000/svg\" height=\"24px\"viewBox=\"0 0 24 24\"\n",
              "       width=\"24px\">\n",
              "    <path d=\"M0 0h24v24H0V0z\" fill=\"none\"/>\n",
              "    <path d=\"M18.56 5.44l.94 2.06.94-2.06 2.06-.94-2.06-.94-.94-2.06-.94 2.06-2.06.94zm-11 1L8.5 8.5l.94-2.06 2.06-.94-2.06-.94L8.5 2.5l-.94 2.06-2.06.94zm10 10l.94 2.06.94-2.06 2.06-.94-2.06-.94-.94-2.06-.94 2.06-2.06.94z\"/><path d=\"M17.41 7.96l-1.37-1.37c-.4-.4-.92-.59-1.43-.59-.52 0-1.04.2-1.43.59L10.3 9.45l-7.72 7.72c-.78.78-.78 2.05 0 2.83L4 21.41c.39.39.9.59 1.41.59.51 0 1.02-.2 1.41-.59l7.78-7.78 2.81-2.81c.8-.78.8-2.07 0-2.86zM5.41 20L4 18.59l7.72-7.72 1.47 1.35L5.41 20z\"/>\n",
              "  </svg>\n",
              "      </button>\n",
              "      \n",
              "  <style>\n",
              "    .colab-df-container {\n",
              "      display:flex;\n",
              "      flex-wrap:wrap;\n",
              "      gap: 12px;\n",
              "    }\n",
              "\n",
              "    .colab-df-convert {\n",
              "      background-color: #E8F0FE;\n",
              "      border: none;\n",
              "      border-radius: 50%;\n",
              "      cursor: pointer;\n",
              "      display: none;\n",
              "      fill: #1967D2;\n",
              "      height: 32px;\n",
              "      padding: 0 0 0 0;\n",
              "      width: 32px;\n",
              "    }\n",
              "\n",
              "    .colab-df-convert:hover {\n",
              "      background-color: #E2EBFA;\n",
              "      box-shadow: 0px 1px 2px rgba(60, 64, 67, 0.3), 0px 1px 3px 1px rgba(60, 64, 67, 0.15);\n",
              "      fill: #174EA6;\n",
              "    }\n",
              "\n",
              "    [theme=dark] .colab-df-convert {\n",
              "      background-color: #3B4455;\n",
              "      fill: #D2E3FC;\n",
              "    }\n",
              "\n",
              "    [theme=dark] .colab-df-convert:hover {\n",
              "      background-color: #434B5C;\n",
              "      box-shadow: 0px 1px 3px 1px rgba(0, 0, 0, 0.15);\n",
              "      filter: drop-shadow(0px 1px 2px rgba(0, 0, 0, 0.3));\n",
              "      fill: #FFFFFF;\n",
              "    }\n",
              "  </style>\n",
              "\n",
              "      <script>\n",
              "        const buttonEl =\n",
              "          document.querySelector('#df-25da17a7-697f-494a-93ec-d8705c77c7c4 button.colab-df-convert');\n",
              "        buttonEl.style.display =\n",
              "          google.colab.kernel.accessAllowed ? 'block' : 'none';\n",
              "\n",
              "        async function convertToInteractive(key) {\n",
              "          const element = document.querySelector('#df-25da17a7-697f-494a-93ec-d8705c77c7c4');\n",
              "          const dataTable =\n",
              "            await google.colab.kernel.invokeFunction('convertToInteractive',\n",
              "                                                     [key], {});\n",
              "          if (!dataTable) return;\n",
              "\n",
              "          const docLinkHtml = 'Like what you see? Visit the ' +\n",
              "            '<a target=\"_blank\" href=https://colab.research.google.com/notebooks/data_table.ipynb>data table notebook</a>'\n",
              "            + ' to learn more about interactive tables.';\n",
              "          element.innerHTML = '';\n",
              "          dataTable['output_type'] = 'display_data';\n",
              "          await google.colab.output.renderOutput(dataTable, element);\n",
              "          const docLink = document.createElement('div');\n",
              "          docLink.innerHTML = docLinkHtml;\n",
              "          element.appendChild(docLink);\n",
              "        }\n",
              "      </script>\n",
              "    </div>\n",
              "  </div>\n",
              "  "
            ]
          },
          "metadata": {},
          "execution_count": 53
        }
      ]
    },
    {
      "cell_type": "markdown",
      "source": [
        ">**Примечание**\n",
        ">\n",
        ">Данный датасет можно использовать для задания 3 (с использованием `sklearn`)"
      ],
      "metadata": {
        "id": "QANg8ziJkHGM"
      }
    },
    {
      "cell_type": "markdown",
      "source": [
        "(0.5 балла) Выберете столбец с данными о цене бриллиантов и домножите его на тот столбец, только транспонированный, и выведите полученную матрицу:"
      ],
      "metadata": {
        "id": "mV9jLhspyOgz"
      }
    },
    {
      "cell_type": "code",
      "source": [
        "# This crashes the colab because of 200K x 200K multiplication\n",
        "# costs = pd.DataFrame([diamonds[\"total_sales_price\"]])\n",
        "# So let's do this with first 100 items\n",
        "costs = pd.DataFrame(diamonds[\"total_sales_price\"].iloc[:100])\n",
        "costs_t = costs\n",
        "costs_t = costs_t.transpose()\n",
        "costs @ costs_t"
      ],
      "metadata": {
        "id": "LawjtnoIymFu",
        "colab": {
          "base_uri": "https://localhost:8080/",
          "height": 488
        },
        "outputId": "7ee4ec48-7fcf-4332-9963-4ff7eb63a6a8"
      },
      "execution_count": 35,
      "outputs": [
        {
          "output_type": "execute_result",
          "data": {
            "text/plain": [
              "       0      1      2      3      4      5      6      7      8      9   ...  \\\n",
              "0   40000  40000  40000  40000  40000  40000  40000  40000  40000  40000  ...   \n",
              "1   40000  40000  40000  40000  40000  40000  40000  40000  40000  40000  ...   \n",
              "2   40000  40000  40000  40000  40000  40000  40000  40000  40000  40000  ...   \n",
              "3   40000  40000  40000  40000  40000  40000  40000  40000  40000  40000  ...   \n",
              "4   40000  40000  40000  40000  40000  40000  40000  40000  40000  40000  ...   \n",
              "..    ...    ...    ...    ...    ...    ...    ...    ...    ...    ...  ...   \n",
              "95  52800  52800  52800  52800  52800  52800  52800  52800  52800  52800  ...   \n",
              "96  53200  53200  53200  53200  53200  53200  53200  53200  53200  53200  ...   \n",
              "97  53200  53200  53200  53200  53200  53200  53200  53200  53200  53200  ...   \n",
              "98  53200  53200  53200  53200  53200  53200  53200  53200  53200  53200  ...   \n",
              "99  53600  53600  53600  53600  53600  53600  53600  53600  53600  53600  ...   \n",
              "\n",
              "       90     91     92     93     94     95     96     97     98     99  \n",
              "0   52400  52400  52400  52800  52800  52800  53200  53200  53200  53600  \n",
              "1   52400  52400  52400  52800  52800  52800  53200  53200  53200  53600  \n",
              "2   52400  52400  52400  52800  52800  52800  53200  53200  53200  53600  \n",
              "3   52400  52400  52400  52800  52800  52800  53200  53200  53200  53600  \n",
              "4   52400  52400  52400  52800  52800  52800  53200  53200  53200  53600  \n",
              "..    ...    ...    ...    ...    ...    ...    ...    ...    ...    ...  \n",
              "95  69168  69168  69168  69696  69696  69696  70224  70224  70224  70752  \n",
              "96  69692  69692  69692  70224  70224  70224  70756  70756  70756  71288  \n",
              "97  69692  69692  69692  70224  70224  70224  70756  70756  70756  71288  \n",
              "98  69692  69692  69692  70224  70224  70224  70756  70756  70756  71288  \n",
              "99  70216  70216  70216  70752  70752  70752  71288  71288  71288  71824  \n",
              "\n",
              "[100 rows x 100 columns]"
            ],
            "text/html": [
              "\n",
              "  <div id=\"df-fd14ee60-3775-4c1f-baea-519a6971236e\">\n",
              "    <div class=\"colab-df-container\">\n",
              "      <div>\n",
              "<style scoped>\n",
              "    .dataframe tbody tr th:only-of-type {\n",
              "        vertical-align: middle;\n",
              "    }\n",
              "\n",
              "    .dataframe tbody tr th {\n",
              "        vertical-align: top;\n",
              "    }\n",
              "\n",
              "    .dataframe thead th {\n",
              "        text-align: right;\n",
              "    }\n",
              "</style>\n",
              "<table border=\"1\" class=\"dataframe\">\n",
              "  <thead>\n",
              "    <tr style=\"text-align: right;\">\n",
              "      <th></th>\n",
              "      <th>0</th>\n",
              "      <th>1</th>\n",
              "      <th>2</th>\n",
              "      <th>3</th>\n",
              "      <th>4</th>\n",
              "      <th>5</th>\n",
              "      <th>6</th>\n",
              "      <th>7</th>\n",
              "      <th>8</th>\n",
              "      <th>9</th>\n",
              "      <th>...</th>\n",
              "      <th>90</th>\n",
              "      <th>91</th>\n",
              "      <th>92</th>\n",
              "      <th>93</th>\n",
              "      <th>94</th>\n",
              "      <th>95</th>\n",
              "      <th>96</th>\n",
              "      <th>97</th>\n",
              "      <th>98</th>\n",
              "      <th>99</th>\n",
              "    </tr>\n",
              "  </thead>\n",
              "  <tbody>\n",
              "    <tr>\n",
              "      <th>0</th>\n",
              "      <td>40000</td>\n",
              "      <td>40000</td>\n",
              "      <td>40000</td>\n",
              "      <td>40000</td>\n",
              "      <td>40000</td>\n",
              "      <td>40000</td>\n",
              "      <td>40000</td>\n",
              "      <td>40000</td>\n",
              "      <td>40000</td>\n",
              "      <td>40000</td>\n",
              "      <td>...</td>\n",
              "      <td>52400</td>\n",
              "      <td>52400</td>\n",
              "      <td>52400</td>\n",
              "      <td>52800</td>\n",
              "      <td>52800</td>\n",
              "      <td>52800</td>\n",
              "      <td>53200</td>\n",
              "      <td>53200</td>\n",
              "      <td>53200</td>\n",
              "      <td>53600</td>\n",
              "    </tr>\n",
              "    <tr>\n",
              "      <th>1</th>\n",
              "      <td>40000</td>\n",
              "      <td>40000</td>\n",
              "      <td>40000</td>\n",
              "      <td>40000</td>\n",
              "      <td>40000</td>\n",
              "      <td>40000</td>\n",
              "      <td>40000</td>\n",
              "      <td>40000</td>\n",
              "      <td>40000</td>\n",
              "      <td>40000</td>\n",
              "      <td>...</td>\n",
              "      <td>52400</td>\n",
              "      <td>52400</td>\n",
              "      <td>52400</td>\n",
              "      <td>52800</td>\n",
              "      <td>52800</td>\n",
              "      <td>52800</td>\n",
              "      <td>53200</td>\n",
              "      <td>53200</td>\n",
              "      <td>53200</td>\n",
              "      <td>53600</td>\n",
              "    </tr>\n",
              "    <tr>\n",
              "      <th>2</th>\n",
              "      <td>40000</td>\n",
              "      <td>40000</td>\n",
              "      <td>40000</td>\n",
              "      <td>40000</td>\n",
              "      <td>40000</td>\n",
              "      <td>40000</td>\n",
              "      <td>40000</td>\n",
              "      <td>40000</td>\n",
              "      <td>40000</td>\n",
              "      <td>40000</td>\n",
              "      <td>...</td>\n",
              "      <td>52400</td>\n",
              "      <td>52400</td>\n",
              "      <td>52400</td>\n",
              "      <td>52800</td>\n",
              "      <td>52800</td>\n",
              "      <td>52800</td>\n",
              "      <td>53200</td>\n",
              "      <td>53200</td>\n",
              "      <td>53200</td>\n",
              "      <td>53600</td>\n",
              "    </tr>\n",
              "    <tr>\n",
              "      <th>3</th>\n",
              "      <td>40000</td>\n",
              "      <td>40000</td>\n",
              "      <td>40000</td>\n",
              "      <td>40000</td>\n",
              "      <td>40000</td>\n",
              "      <td>40000</td>\n",
              "      <td>40000</td>\n",
              "      <td>40000</td>\n",
              "      <td>40000</td>\n",
              "      <td>40000</td>\n",
              "      <td>...</td>\n",
              "      <td>52400</td>\n",
              "      <td>52400</td>\n",
              "      <td>52400</td>\n",
              "      <td>52800</td>\n",
              "      <td>52800</td>\n",
              "      <td>52800</td>\n",
              "      <td>53200</td>\n",
              "      <td>53200</td>\n",
              "      <td>53200</td>\n",
              "      <td>53600</td>\n",
              "    </tr>\n",
              "    <tr>\n",
              "      <th>4</th>\n",
              "      <td>40000</td>\n",
              "      <td>40000</td>\n",
              "      <td>40000</td>\n",
              "      <td>40000</td>\n",
              "      <td>40000</td>\n",
              "      <td>40000</td>\n",
              "      <td>40000</td>\n",
              "      <td>40000</td>\n",
              "      <td>40000</td>\n",
              "      <td>40000</td>\n",
              "      <td>...</td>\n",
              "      <td>52400</td>\n",
              "      <td>52400</td>\n",
              "      <td>52400</td>\n",
              "      <td>52800</td>\n",
              "      <td>52800</td>\n",
              "      <td>52800</td>\n",
              "      <td>53200</td>\n",
              "      <td>53200</td>\n",
              "      <td>53200</td>\n",
              "      <td>53600</td>\n",
              "    </tr>\n",
              "    <tr>\n",
              "      <th>...</th>\n",
              "      <td>...</td>\n",
              "      <td>...</td>\n",
              "      <td>...</td>\n",
              "      <td>...</td>\n",
              "      <td>...</td>\n",
              "      <td>...</td>\n",
              "      <td>...</td>\n",
              "      <td>...</td>\n",
              "      <td>...</td>\n",
              "      <td>...</td>\n",
              "      <td>...</td>\n",
              "      <td>...</td>\n",
              "      <td>...</td>\n",
              "      <td>...</td>\n",
              "      <td>...</td>\n",
              "      <td>...</td>\n",
              "      <td>...</td>\n",
              "      <td>...</td>\n",
              "      <td>...</td>\n",
              "      <td>...</td>\n",
              "      <td>...</td>\n",
              "    </tr>\n",
              "    <tr>\n",
              "      <th>95</th>\n",
              "      <td>52800</td>\n",
              "      <td>52800</td>\n",
              "      <td>52800</td>\n",
              "      <td>52800</td>\n",
              "      <td>52800</td>\n",
              "      <td>52800</td>\n",
              "      <td>52800</td>\n",
              "      <td>52800</td>\n",
              "      <td>52800</td>\n",
              "      <td>52800</td>\n",
              "      <td>...</td>\n",
              "      <td>69168</td>\n",
              "      <td>69168</td>\n",
              "      <td>69168</td>\n",
              "      <td>69696</td>\n",
              "      <td>69696</td>\n",
              "      <td>69696</td>\n",
              "      <td>70224</td>\n",
              "      <td>70224</td>\n",
              "      <td>70224</td>\n",
              "      <td>70752</td>\n",
              "    </tr>\n",
              "    <tr>\n",
              "      <th>96</th>\n",
              "      <td>53200</td>\n",
              "      <td>53200</td>\n",
              "      <td>53200</td>\n",
              "      <td>53200</td>\n",
              "      <td>53200</td>\n",
              "      <td>53200</td>\n",
              "      <td>53200</td>\n",
              "      <td>53200</td>\n",
              "      <td>53200</td>\n",
              "      <td>53200</td>\n",
              "      <td>...</td>\n",
              "      <td>69692</td>\n",
              "      <td>69692</td>\n",
              "      <td>69692</td>\n",
              "      <td>70224</td>\n",
              "      <td>70224</td>\n",
              "      <td>70224</td>\n",
              "      <td>70756</td>\n",
              "      <td>70756</td>\n",
              "      <td>70756</td>\n",
              "      <td>71288</td>\n",
              "    </tr>\n",
              "    <tr>\n",
              "      <th>97</th>\n",
              "      <td>53200</td>\n",
              "      <td>53200</td>\n",
              "      <td>53200</td>\n",
              "      <td>53200</td>\n",
              "      <td>53200</td>\n",
              "      <td>53200</td>\n",
              "      <td>53200</td>\n",
              "      <td>53200</td>\n",
              "      <td>53200</td>\n",
              "      <td>53200</td>\n",
              "      <td>...</td>\n",
              "      <td>69692</td>\n",
              "      <td>69692</td>\n",
              "      <td>69692</td>\n",
              "      <td>70224</td>\n",
              "      <td>70224</td>\n",
              "      <td>70224</td>\n",
              "      <td>70756</td>\n",
              "      <td>70756</td>\n",
              "      <td>70756</td>\n",
              "      <td>71288</td>\n",
              "    </tr>\n",
              "    <tr>\n",
              "      <th>98</th>\n",
              "      <td>53200</td>\n",
              "      <td>53200</td>\n",
              "      <td>53200</td>\n",
              "      <td>53200</td>\n",
              "      <td>53200</td>\n",
              "      <td>53200</td>\n",
              "      <td>53200</td>\n",
              "      <td>53200</td>\n",
              "      <td>53200</td>\n",
              "      <td>53200</td>\n",
              "      <td>...</td>\n",
              "      <td>69692</td>\n",
              "      <td>69692</td>\n",
              "      <td>69692</td>\n",
              "      <td>70224</td>\n",
              "      <td>70224</td>\n",
              "      <td>70224</td>\n",
              "      <td>70756</td>\n",
              "      <td>70756</td>\n",
              "      <td>70756</td>\n",
              "      <td>71288</td>\n",
              "    </tr>\n",
              "    <tr>\n",
              "      <th>99</th>\n",
              "      <td>53600</td>\n",
              "      <td>53600</td>\n",
              "      <td>53600</td>\n",
              "      <td>53600</td>\n",
              "      <td>53600</td>\n",
              "      <td>53600</td>\n",
              "      <td>53600</td>\n",
              "      <td>53600</td>\n",
              "      <td>53600</td>\n",
              "      <td>53600</td>\n",
              "      <td>...</td>\n",
              "      <td>70216</td>\n",
              "      <td>70216</td>\n",
              "      <td>70216</td>\n",
              "      <td>70752</td>\n",
              "      <td>70752</td>\n",
              "      <td>70752</td>\n",
              "      <td>71288</td>\n",
              "      <td>71288</td>\n",
              "      <td>71288</td>\n",
              "      <td>71824</td>\n",
              "    </tr>\n",
              "  </tbody>\n",
              "</table>\n",
              "<p>100 rows × 100 columns</p>\n",
              "</div>\n",
              "      <button class=\"colab-df-convert\" onclick=\"convertToInteractive('df-fd14ee60-3775-4c1f-baea-519a6971236e')\"\n",
              "              title=\"Convert this dataframe to an interactive table.\"\n",
              "              style=\"display:none;\">\n",
              "        \n",
              "  <svg xmlns=\"http://www.w3.org/2000/svg\" height=\"24px\"viewBox=\"0 0 24 24\"\n",
              "       width=\"24px\">\n",
              "    <path d=\"M0 0h24v24H0V0z\" fill=\"none\"/>\n",
              "    <path d=\"M18.56 5.44l.94 2.06.94-2.06 2.06-.94-2.06-.94-.94-2.06-.94 2.06-2.06.94zm-11 1L8.5 8.5l.94-2.06 2.06-.94-2.06-.94L8.5 2.5l-.94 2.06-2.06.94zm10 10l.94 2.06.94-2.06 2.06-.94-2.06-.94-.94-2.06-.94 2.06-2.06.94z\"/><path d=\"M17.41 7.96l-1.37-1.37c-.4-.4-.92-.59-1.43-.59-.52 0-1.04.2-1.43.59L10.3 9.45l-7.72 7.72c-.78.78-.78 2.05 0 2.83L4 21.41c.39.39.9.59 1.41.59.51 0 1.02-.2 1.41-.59l7.78-7.78 2.81-2.81c.8-.78.8-2.07 0-2.86zM5.41 20L4 18.59l7.72-7.72 1.47 1.35L5.41 20z\"/>\n",
              "  </svg>\n",
              "      </button>\n",
              "      \n",
              "  <style>\n",
              "    .colab-df-container {\n",
              "      display:flex;\n",
              "      flex-wrap:wrap;\n",
              "      gap: 12px;\n",
              "    }\n",
              "\n",
              "    .colab-df-convert {\n",
              "      background-color: #E8F0FE;\n",
              "      border: none;\n",
              "      border-radius: 50%;\n",
              "      cursor: pointer;\n",
              "      display: none;\n",
              "      fill: #1967D2;\n",
              "      height: 32px;\n",
              "      padding: 0 0 0 0;\n",
              "      width: 32px;\n",
              "    }\n",
              "\n",
              "    .colab-df-convert:hover {\n",
              "      background-color: #E2EBFA;\n",
              "      box-shadow: 0px 1px 2px rgba(60, 64, 67, 0.3), 0px 1px 3px 1px rgba(60, 64, 67, 0.15);\n",
              "      fill: #174EA6;\n",
              "    }\n",
              "\n",
              "    [theme=dark] .colab-df-convert {\n",
              "      background-color: #3B4455;\n",
              "      fill: #D2E3FC;\n",
              "    }\n",
              "\n",
              "    [theme=dark] .colab-df-convert:hover {\n",
              "      background-color: #434B5C;\n",
              "      box-shadow: 0px 1px 3px 1px rgba(0, 0, 0, 0.15);\n",
              "      filter: drop-shadow(0px 1px 2px rgba(0, 0, 0, 0.3));\n",
              "      fill: #FFFFFF;\n",
              "    }\n",
              "  </style>\n",
              "\n",
              "      <script>\n",
              "        const buttonEl =\n",
              "          document.querySelector('#df-fd14ee60-3775-4c1f-baea-519a6971236e button.colab-df-convert');\n",
              "        buttonEl.style.display =\n",
              "          google.colab.kernel.accessAllowed ? 'block' : 'none';\n",
              "\n",
              "        async function convertToInteractive(key) {\n",
              "          const element = document.querySelector('#df-fd14ee60-3775-4c1f-baea-519a6971236e');\n",
              "          const dataTable =\n",
              "            await google.colab.kernel.invokeFunction('convertToInteractive',\n",
              "                                                     [key], {});\n",
              "          if (!dataTable) return;\n",
              "\n",
              "          const docLinkHtml = 'Like what you see? Visit the ' +\n",
              "            '<a target=\"_blank\" href=https://colab.research.google.com/notebooks/data_table.ipynb>data table notebook</a>'\n",
              "            + ' to learn more about interactive tables.';\n",
              "          element.innerHTML = '';\n",
              "          dataTable['output_type'] = 'display_data';\n",
              "          await google.colab.output.renderOutput(dataTable, element);\n",
              "          const docLink = document.createElement('div');\n",
              "          docLink.innerHTML = docLinkHtml;\n",
              "          element.appendChild(docLink);\n",
              "        }\n",
              "      </script>\n",
              "    </div>\n",
              "  </div>\n",
              "  "
            ]
          },
          "metadata": {},
          "execution_count": 35
        }
      ]
    },
    {
      "cell_type": "markdown",
      "source": [
        "### Построение графиков"
      ],
      "metadata": {
        "id": "Pz02uapbkbGk"
      }
    },
    {
      "cell_type": "markdown",
      "source": [
        "**Требования к графику:**\n",
        "\n",
        "1.   График должен быть подписан\n",
        "2.   Оси должны быть подписаны\n",
        "3.   Должна быть легенда графика\n",
        "4.   График должен быть информативным (желательно без сильных выбросов)\n",
        "\n",
        "**Все надписи на русском языке!**"
      ],
      "metadata": {
        "id": "_zhww-rd-c5c"
      }
    },
    {
      "cell_type": "markdown",
      "source": [
        ">**Примечание**\n",
        ">\n",
        ">График необходимо строить для очищенных данных - в них не должно быть пропусков по осям, по которым строите график. При этом **не перезатирайте** имеющийся датафрейм!"
      ],
      "metadata": {
        "id": "mfebCvk0k2mo"
      }
    },
    {
      "cell_type": "markdown",
      "source": [
        "(2 балла) Постройте график `цвет бриллианта - стоимость`:"
      ],
      "metadata": {
        "id": "4R9Rwxdq-l21"
      }
    },
    {
      "cell_type": "code",
      "source": [
        "plt.scatter(diamonds[\"color\"], diamonds[\"total_sales_price\"], alpha=.1)\n",
        "plt.xlabel(\"Color\")\n",
        "plt.ylabel(\"Price\")\n",
        "plt.show()"
      ],
      "metadata": {
        "id": "Fo6I0j5o-vQh",
        "colab": {
          "base_uri": "https://localhost:8080/",
          "height": 465
        },
        "outputId": "4258e7f1-6b82-425c-e791-108ad59ebd57"
      },
      "execution_count": 36,
      "outputs": [
        {
          "output_type": "display_data",
          "data": {
            "text/plain": [
              "<Figure size 640x480 with 1 Axes>"
            ],
            "image/png": "[encoded data removed]"
          },
          "metadata": {}
        }
      ]
    },
    {
      "cell_type": "markdown",
      "source": [
        "(2 балла) Постройте график `лабараторная оценка - кол-во бриллиантов`:"
      ],
      "metadata": {
        "id": "W_UgFji5-vWx"
      }
    },
    {
      "cell_type": "code",
      "source": [
        "plt.bar(diamonds[\"lab\"].unique(), [len(diamonds[diamonds[\"lab\"] == lab]) for lab in diamonds[\"lab\"].unique()])\n",
        "plt.xlabel(\"Laboratory\")\n",
        "plt.ylabel(\"Count\")\n",
        "plt.show()"
      ],
      "metadata": {
        "id": "nyT8-TRb_c24",
        "colab": {
          "base_uri": "https://localhost:8080/",
          "height": 449
        },
        "outputId": "dec2c895-0ba7-4211-b5ab-6532d35de246"
      },
      "execution_count": 37,
      "outputs": [
        {
          "output_type": "display_data",
          "data": {
            "text/plain": [
              "<Figure size 640x480 with 1 Axes>"
            ],
            "image/png": "[encoded data removed]"
          },
          "metadata": {}
        }
      ]
    },
    {
      "cell_type": "markdown",
      "source": [
        "(2 балла) Постройте график `вес бриллианта - стоимость`:"
      ],
      "metadata": {
        "id": "AgsMclnJ_c9H"
      }
    },
    {
      "cell_type": "code",
      "source": [
        "plt.scatter(diamonds[\"carat_weight\"], diamonds[\"total_sales_price\"], alpha=.2)\n",
        "plt.xlabel(\"Weight\")\n",
        "plt.ylabel(\"Price\")\n",
        "plt.show()"
      ],
      "metadata": {
        "id": "tn-x3pwmANQe",
        "colab": {
          "base_uri": "https://localhost:8080/",
          "height": 465
        },
        "outputId": "a6bb9bc7-7aba-411a-90d9-badac1073930"
      },
      "execution_count": 38,
      "outputs": [
        {
          "output_type": "display_data",
          "data": {
            "text/plain": [
              "<Figure size 640x480 with 1 Axes>"
            ],
            "image/png": "[encoded data removed]"
          },
          "metadata": {}
        }
      ]
    },
    {
      "cell_type": "markdown",
      "source": [
        "(2 балла) Постройте график `система оценки GIA Cut - кол-во бриллиантов`:"
      ],
      "metadata": {
        "id": "0LVC1KfEAwuw"
      }
    },
    {
      "cell_type": "code",
      "source": [
        "plt.bar(diamonds[\"cut_quality\"].unique(), [len(diamonds[diamonds[\"cut_quality\"] == qual]) for qual in diamonds[\"cut_quality\"].unique()])\n",
        "plt.xlabel(\"GIA Cut\")\n",
        "plt.ylabel(\"Count\")\n",
        "plt.show()"
      ],
      "metadata": {
        "id": "IeuLooSIA232",
        "colab": {
          "base_uri": "https://localhost:8080/",
          "height": 449
        },
        "outputId": "7456c3e9-1474-4563-fc37-20017c682a0e"
      },
      "execution_count": 39,
      "outputs": [
        {
          "output_type": "display_data",
          "data": {
            "text/plain": [
              "<Figure size 640x480 with 1 Axes>"
            ],
            "image/png": "[encoded data removed]"
          },
          "metadata": {}
        }
      ]
    },
    {
      "cell_type": "markdown",
      "source": [
        "(2 балла) **Сделайте выводы по построенным графикам:**"
      ],
      "metadata": {
        "id": "DRaaNLidFDhL"
      }
    },
    {
      "cell_type": "markdown",
      "source": [
        ">*Подсказка для маленьких: Что вы можете сказать о графиках полученных выше для данного датасета?*"
      ],
      "metadata": {
        "id": "GSuWCfdGLtn0"
      }
    },
    {
      "cell_type": "markdown",
      "source": [
        "Из графика weight-price можно увидеть, что оценщики часто округляют вес до целых карат (по выбросам в районе целых чисел)\n",
        "Из графика GIA cut - count можно видеть, что, либо в датасете собраны только качественные камни, либо система оценивания инфлировала, и почти все камни получают высокие оценки.\n",
        "Из графика Color-Price можно видеть, что влияние цвета на цену не видно (вероятно, отсутствует)"
      ],
      "metadata": {
        "id": "iNdjR_X9lSt1"
      }
    },
    {
      "cell_type": "markdown",
      "source": [
        "## Задание 3. Модель - 30 баллов"
      ],
      "metadata": {
        "id": "JKYRkX_rBxxu"
      }
    },
    {
      "cell_type": "markdown",
      "source": [
        "В данном задании вам предстоит построить классифицирующую модель размер алмаза и его стоимости, а затем оценить полученную модель."
      ],
      "metadata": {
        "id": "EJO9SwpII_uJ"
      }
    },
    {
      "cell_type": "markdown",
      "source": [
        ">**Примечание**\n",
        ">\n",
        ">Данная модель не претендует на самый верный индикатор стоимости алмаза, ведь мы не учитываем ничего больше чем стоимость алмаза. Исключительно для образовательных целей :)"
      ],
      "metadata": {
        "id": "_8sA1qlRllrk"
      }
    },
    {
      "cell_type": "markdown",
      "source": [
        "Для построения модели нам понадобится 4 столбца, а именно: \n",
        "- `meas_length`\n",
        "- `meas_width`\n",
        "- `meas_depth`\n",
        "- `total_sales_price`\n",
        "\n",
        "От остальных столбцов можно избавиться."
      ],
      "metadata": {
        "id": "e78rVEGFJrVN"
      }
    },
    {
      "cell_type": "markdown",
      "source": [
        "(1 балл) Создайте новый датасет и выведите его первые 10 строк: "
      ],
      "metadata": {
        "id": "HhpeXcR1l-Ag"
      }
    },
    {
      "cell_type": "code",
      "source": [
        "df = diamonds[diamonds.columns[pd.Series(diamonds.columns).str.startswith('meas')]]\n",
        "df[\"price\"] = diamonds[\"total_sales_price\"]\n",
        "df.iloc[:10]"
      ],
      "metadata": {
        "id": "K87VXeCxKFrU",
        "colab": {
          "base_uri": "https://localhost:8080/",
          "height": 522
        },
        "outputId": "c7849f94-8d34-48da-cca4-32b29b08e3d6"
      },
      "execution_count": 40,
      "outputs": [
        {
          "output_type": "stream",
          "name": "stderr",
          "text": [
            "<ipython-input-40-5104aac0f08f>:2: SettingWithCopyWarning:\n",
            "\n",
            "\n",
            "A value is trying to be set on a copy of a slice from a DataFrame.\n",
            "Try using .loc[row_indexer,col_indexer] = value instead\n",
            "\n",
            "See the caveats in the documentation: https://pandas.pydata.org/pandas-docs/stable/user_guide/indexing.html#returning-a-view-versus-a-copy\n",
            "\n"
          ]
        },
        {
          "output_type": "execute_result",
          "data": {
            "text/plain": [
              "   meas_length  meas_width  meas_depth  price\n",
              "0         2.85        2.87        1.79    200\n",
              "1         2.84        2.89        1.78    200\n",
              "2         2.88        2.90        1.77    200\n",
              "3         2.86        2.88        1.78    200\n",
              "4         2.79        2.83        1.82    200\n",
              "5         2.95        2.99        1.81    200\n",
              "6         2.85        2.88        1.84    200\n",
              "7         2.86        2.89        1.78    200\n",
              "8         2.89        2.92        1.85    200\n",
              "9         2.83        2.87        1.80    200"
            ],
            "text/html": [
              "\n",
              "  <div id=\"df-5c13735f-f2e9-418d-9f80-b095941b238b\">\n",
              "    <div class=\"colab-df-container\">\n",
              "      <div>\n",
              "<style scoped>\n",
              "    .dataframe tbody tr th:only-of-type {\n",
              "        vertical-align: middle;\n",
              "    }\n",
              "\n",
              "    .dataframe tbody tr th {\n",
              "        vertical-align: top;\n",
              "    }\n",
              "\n",
              "    .dataframe thead th {\n",
              "        text-align: right;\n",
              "    }\n",
              "</style>\n",
              "<table border=\"1\" class=\"dataframe\">\n",
              "  <thead>\n",
              "    <tr style=\"text-align: right;\">\n",
              "      <th></th>\n",
              "      <th>meas_length</th>\n",
              "      <th>meas_width</th>\n",
              "      <th>meas_depth</th>\n",
              "      <th>price</th>\n",
              "    </tr>\n",
              "  </thead>\n",
              "  <tbody>\n",
              "    <tr>\n",
              "      <th>0</th>\n",
              "      <td>2.85</td>\n",
              "      <td>2.87</td>\n",
              "      <td>1.79</td>\n",
              "      <td>200</td>\n",
              "    </tr>\n",
              "    <tr>\n",
              "      <th>1</th>\n",
              "      <td>2.84</td>\n",
              "      <td>2.89</td>\n",
              "      <td>1.78</td>\n",
              "      <td>200</td>\n",
              "    </tr>\n",
              "    <tr>\n",
              "      <th>2</th>\n",
              "      <td>2.88</td>\n",
              "      <td>2.90</td>\n",
              "      <td>1.77</td>\n",
              "      <td>200</td>\n",
              "    </tr>\n",
              "    <tr>\n",
              "      <th>3</th>\n",
              "      <td>2.86</td>\n",
              "      <td>2.88</td>\n",
              "      <td>1.78</td>\n",
              "      <td>200</td>\n",
              "    </tr>\n",
              "    <tr>\n",
              "      <th>4</th>\n",
              "      <td>2.79</td>\n",
              "      <td>2.83</td>\n",
              "      <td>1.82</td>\n",
              "      <td>200</td>\n",
              "    </tr>\n",
              "    <tr>\n",
              "      <th>5</th>\n",
              "      <td>2.95</td>\n",
              "      <td>2.99</td>\n",
              "      <td>1.81</td>\n",
              "      <td>200</td>\n",
              "    </tr>\n",
              "    <tr>\n",
              "      <th>6</th>\n",
              "      <td>2.85</td>\n",
              "      <td>2.88</td>\n",
              "      <td>1.84</td>\n",
              "      <td>200</td>\n",
              "    </tr>\n",
              "    <tr>\n",
              "      <th>7</th>\n",
              "      <td>2.86</td>\n",
              "      <td>2.89</td>\n",
              "      <td>1.78</td>\n",
              "      <td>200</td>\n",
              "    </tr>\n",
              "    <tr>\n",
              "      <th>8</th>\n",
              "      <td>2.89</td>\n",
              "      <td>2.92</td>\n",
              "      <td>1.85</td>\n",
              "      <td>200</td>\n",
              "    </tr>\n",
              "    <tr>\n",
              "      <th>9</th>\n",
              "      <td>2.83</td>\n",
              "      <td>2.87</td>\n",
              "      <td>1.80</td>\n",
              "      <td>200</td>\n",
              "    </tr>\n",
              "  </tbody>\n",
              "</table>\n",
              "</div>\n",
              "      <button class=\"colab-df-convert\" onclick=\"convertToInteractive('df-5c13735f-f2e9-418d-9f80-b095941b238b')\"\n",
              "              title=\"Convert this dataframe to an interactive table.\"\n",
              "              style=\"display:none;\">\n",
              "        \n",
              "  <svg xmlns=\"http://www.w3.org/2000/svg\" height=\"24px\"viewBox=\"0 0 24 24\"\n",
              "       width=\"24px\">\n",
              "    <path d=\"M0 0h24v24H0V0z\" fill=\"none\"/>\n",
              "    <path d=\"M18.56 5.44l.94 2.06.94-2.06 2.06-.94-2.06-.94-.94-2.06-.94 2.06-2.06.94zm-11 1L8.5 8.5l.94-2.06 2.06-.94-2.06-.94L8.5 2.5l-.94 2.06-2.06.94zm10 10l.94 2.06.94-2.06 2.06-.94-2.06-.94-.94-2.06-.94 2.06-2.06.94z\"/><path d=\"M17.41 7.96l-1.37-1.37c-.4-.4-.92-.59-1.43-.59-.52 0-1.04.2-1.43.59L10.3 9.45l-7.72 7.72c-.78.78-.78 2.05 0 2.83L4 21.41c.39.39.9.59 1.41.59.51 0 1.02-.2 1.41-.59l7.78-7.78 2.81-2.81c.8-.78.8-2.07 0-2.86zM5.41 20L4 18.59l7.72-7.72 1.47 1.35L5.41 20z\"/>\n",
              "  </svg>\n",
              "      </button>\n",
              "      \n",
              "  <style>\n",
              "    .colab-df-container {\n",
              "      display:flex;\n",
              "      flex-wrap:wrap;\n",
              "      gap: 12px;\n",
              "    }\n",
              "\n",
              "    .colab-df-convert {\n",
              "      background-color: #E8F0FE;\n",
              "      border: none;\n",
              "      border-radius: 50%;\n",
              "      cursor: pointer;\n",
              "      display: none;\n",
              "      fill: #1967D2;\n",
              "      height: 32px;\n",
              "      padding: 0 0 0 0;\n",
              "      width: 32px;\n",
              "    }\n",
              "\n",
              "    .colab-df-convert:hover {\n",
              "      background-color: #E2EBFA;\n",
              "      box-shadow: 0px 1px 2px rgba(60, 64, 67, 0.3), 0px 1px 3px 1px rgba(60, 64, 67, 0.15);\n",
              "      fill: #174EA6;\n",
              "    }\n",
              "\n",
              "    [theme=dark] .colab-df-convert {\n",
              "      background-color: #3B4455;\n",
              "      fill: #D2E3FC;\n",
              "    }\n",
              "\n",
              "    [theme=dark] .colab-df-convert:hover {\n",
              "      background-color: #434B5C;\n",
              "      box-shadow: 0px 1px 3px 1px rgba(0, 0, 0, 0.15);\n",
              "      filter: drop-shadow(0px 1px 2px rgba(0, 0, 0, 0.3));\n",
              "      fill: #FFFFFF;\n",
              "    }\n",
              "  </style>\n",
              "\n",
              "      <script>\n",
              "        const buttonEl =\n",
              "          document.querySelector('#df-5c13735f-f2e9-418d-9f80-b095941b238b button.colab-df-convert');\n",
              "        buttonEl.style.display =\n",
              "          google.colab.kernel.accessAllowed ? 'block' : 'none';\n",
              "\n",
              "        async function convertToInteractive(key) {\n",
              "          const element = document.querySelector('#df-5c13735f-f2e9-418d-9f80-b095941b238b');\n",
              "          const dataTable =\n",
              "            await google.colab.kernel.invokeFunction('convertToInteractive',\n",
              "                                                     [key], {});\n",
              "          if (!dataTable) return;\n",
              "\n",
              "          const docLinkHtml = 'Like what you see? Visit the ' +\n",
              "            '<a target=\"_blank\" href=https://colab.research.google.com/notebooks/data_table.ipynb>data table notebook</a>'\n",
              "            + ' to learn more about interactive tables.';\n",
              "          element.innerHTML = '';\n",
              "          dataTable['output_type'] = 'display_data';\n",
              "          await google.colab.output.renderOutput(dataTable, element);\n",
              "          const docLink = document.createElement('div');\n",
              "          docLink.innerHTML = docLinkHtml;\n",
              "          element.appendChild(docLink);\n",
              "        }\n",
              "      </script>\n",
              "    </div>\n",
              "  </div>\n",
              "  "
            ]
          },
          "metadata": {},
          "execution_count": 40
        }
      ]
    },
    {
      "cell_type": "markdown",
      "source": [
        "(1 балл) Перемешайте строки в датафрейме случайным образом: "
      ],
      "metadata": {
        "id": "Uex8DVspKFxn"
      }
    },
    {
      "cell_type": "code",
      "source": [
        "df = df.sample(frac=1)\n",
        "df"
      ],
      "metadata": {
        "id": "5lRYIwGOKOnT",
        "colab": {
          "base_uri": "https://localhost:8080/",
          "height": 424
        },
        "outputId": "1b822f73-dcaa-445f-e512-31a90f2054f5"
      },
      "execution_count": 41,
      "outputs": [
        {
          "output_type": "execute_result",
          "data": {
            "text/plain": [
              "        meas_length  meas_width  meas_depth  price\n",
              "52772          4.37        4.40        2.57    938\n",
              "124410         4.62        5.57        3.31   2562\n",
              "70165          4.31        4.33        2.69   1052\n",
              "59668          4.33        4.35        2.61    980\n",
              "66177          4.32        4.36        2.58   1036\n",
              "...             ...         ...         ...    ...\n",
              "83535          0.00        0.00        0.00   1210\n",
              "190234         5.88        5.45        3.82  10504\n",
              "164488         6.78        6.80        4.09   4888\n",
              "99209          4.67        4.70        2.96   1636\n",
              "158749         6.64        4.59        3.14   4333\n",
              "\n",
              "[219703 rows x 4 columns]"
            ],
            "text/html": [
              "\n",
              "  <div id=\"df-1df8d43a-bd5d-4ac2-a9d4-231a259b5b53\">\n",
              "    <div class=\"colab-df-container\">\n",
              "      <div>\n",
              "<style scoped>\n",
              "    .dataframe tbody tr th:only-of-type {\n",
              "        vertical-align: middle;\n",
              "    }\n",
              "\n",
              "    .dataframe tbody tr th {\n",
              "        vertical-align: top;\n",
              "    }\n",
              "\n",
              "    .dataframe thead th {\n",
              "        text-align: right;\n",
              "    }\n",
              "</style>\n",
              "<table border=\"1\" class=\"dataframe\">\n",
              "  <thead>\n",
              "    <tr style=\"text-align: right;\">\n",
              "      <th></th>\n",
              "      <th>meas_length</th>\n",
              "      <th>meas_width</th>\n",
              "      <th>meas_depth</th>\n",
              "      <th>price</th>\n",
              "    </tr>\n",
              "  </thead>\n",
              "  <tbody>\n",
              "    <tr>\n",
              "      <th>52772</th>\n",
              "      <td>4.37</td>\n",
              "      <td>4.40</td>\n",
              "      <td>2.57</td>\n",
              "      <td>938</td>\n",
              "    </tr>\n",
              "    <tr>\n",
              "      <th>124410</th>\n",
              "      <td>4.62</td>\n",
              "      <td>5.57</td>\n",
              "      <td>3.31</td>\n",
              "      <td>2562</td>\n",
              "    </tr>\n",
              "    <tr>\n",
              "      <th>70165</th>\n",
              "      <td>4.31</td>\n",
              "      <td>4.33</td>\n",
              "      <td>2.69</td>\n",
              "      <td>1052</td>\n",
              "    </tr>\n",
              "    <tr>\n",
              "      <th>59668</th>\n",
              "      <td>4.33</td>\n",
              "      <td>4.35</td>\n",
              "      <td>2.61</td>\n",
              "      <td>980</td>\n",
              "    </tr>\n",
              "    <tr>\n",
              "      <th>66177</th>\n",
              "      <td>4.32</td>\n",
              "      <td>4.36</td>\n",
              "      <td>2.58</td>\n",
              "      <td>1036</td>\n",
              "    </tr>\n",
              "    <tr>\n",
              "      <th>...</th>\n",
              "      <td>...</td>\n",
              "      <td>...</td>\n",
              "      <td>...</td>\n",
              "      <td>...</td>\n",
              "    </tr>\n",
              "    <tr>\n",
              "      <th>83535</th>\n",
              "      <td>0.00</td>\n",
              "      <td>0.00</td>\n",
              "      <td>0.00</td>\n",
              "      <td>1210</td>\n",
              "    </tr>\n",
              "    <tr>\n",
              "      <th>190234</th>\n",
              "      <td>5.88</td>\n",
              "      <td>5.45</td>\n",
              "      <td>3.82</td>\n",
              "      <td>10504</td>\n",
              "    </tr>\n",
              "    <tr>\n",
              "      <th>164488</th>\n",
              "      <td>6.78</td>\n",
              "      <td>6.80</td>\n",
              "      <td>4.09</td>\n",
              "      <td>4888</td>\n",
              "    </tr>\n",
              "    <tr>\n",
              "      <th>99209</th>\n",
              "      <td>4.67</td>\n",
              "      <td>4.70</td>\n",
              "      <td>2.96</td>\n",
              "      <td>1636</td>\n",
              "    </tr>\n",
              "    <tr>\n",
              "      <th>158749</th>\n",
              "      <td>6.64</td>\n",
              "      <td>4.59</td>\n",
              "      <td>3.14</td>\n",
              "      <td>4333</td>\n",
              "    </tr>\n",
              "  </tbody>\n",
              "</table>\n",
              "<p>219703 rows × 4 columns</p>\n",
              "</div>\n",
              "      <button class=\"colab-df-convert\" onclick=\"convertToInteractive('df-1df8d43a-bd5d-4ac2-a9d4-231a259b5b53')\"\n",
              "              title=\"Convert this dataframe to an interactive table.\"\n",
              "              style=\"display:none;\">\n",
              "        \n",
              "  <svg xmlns=\"http://www.w3.org/2000/svg\" height=\"24px\"viewBox=\"0 0 24 24\"\n",
              "       width=\"24px\">\n",
              "    <path d=\"M0 0h24v24H0V0z\" fill=\"none\"/>\n",
              "    <path d=\"M18.56 5.44l.94 2.06.94-2.06 2.06-.94-2.06-.94-.94-2.06-.94 2.06-2.06.94zm-11 1L8.5 8.5l.94-2.06 2.06-.94-2.06-.94L8.5 2.5l-.94 2.06-2.06.94zm10 10l.94 2.06.94-2.06 2.06-.94-2.06-.94-.94-2.06-.94 2.06-2.06.94z\"/><path d=\"M17.41 7.96l-1.37-1.37c-.4-.4-.92-.59-1.43-.59-.52 0-1.04.2-1.43.59L10.3 9.45l-7.72 7.72c-.78.78-.78 2.05 0 2.83L4 21.41c.39.39.9.59 1.41.59.51 0 1.02-.2 1.41-.59l7.78-7.78 2.81-2.81c.8-.78.8-2.07 0-2.86zM5.41 20L4 18.59l7.72-7.72 1.47 1.35L5.41 20z\"/>\n",
              "  </svg>\n",
              "      </button>\n",
              "      \n",
              "  <style>\n",
              "    .colab-df-container {\n",
              "      display:flex;\n",
              "      flex-wrap:wrap;\n",
              "      gap: 12px;\n",
              "    }\n",
              "\n",
              "    .colab-df-convert {\n",
              "      background-color: #E8F0FE;\n",
              "      border: none;\n",
              "      border-radius: 50%;\n",
              "      cursor: pointer;\n",
              "      display: none;\n",
              "      fill: #1967D2;\n",
              "      height: 32px;\n",
              "      padding: 0 0 0 0;\n",
              "      width: 32px;\n",
              "    }\n",
              "\n",
              "    .colab-df-convert:hover {\n",
              "      background-color: #E2EBFA;\n",
              "      box-shadow: 0px 1px 2px rgba(60, 64, 67, 0.3), 0px 1px 3px 1px rgba(60, 64, 67, 0.15);\n",
              "      fill: #174EA6;\n",
              "    }\n",
              "\n",
              "    [theme=dark] .colab-df-convert {\n",
              "      background-color: #3B4455;\n",
              "      fill: #D2E3FC;\n",
              "    }\n",
              "\n",
              "    [theme=dark] .colab-df-convert:hover {\n",
              "      background-color: #434B5C;\n",
              "      box-shadow: 0px 1px 3px 1px rgba(0, 0, 0, 0.15);\n",
              "      filter: drop-shadow(0px 1px 2px rgba(0, 0, 0, 0.3));\n",
              "      fill: #FFFFFF;\n",
              "    }\n",
              "  </style>\n",
              "\n",
              "      <script>\n",
              "        const buttonEl =\n",
              "          document.querySelector('#df-1df8d43a-bd5d-4ac2-a9d4-231a259b5b53 button.colab-df-convert');\n",
              "        buttonEl.style.display =\n",
              "          google.colab.kernel.accessAllowed ? 'block' : 'none';\n",
              "\n",
              "        async function convertToInteractive(key) {\n",
              "          const element = document.querySelector('#df-1df8d43a-bd5d-4ac2-a9d4-231a259b5b53');\n",
              "          const dataTable =\n",
              "            await google.colab.kernel.invokeFunction('convertToInteractive',\n",
              "                                                     [key], {});\n",
              "          if (!dataTable) return;\n",
              "\n",
              "          const docLinkHtml = 'Like what you see? Visit the ' +\n",
              "            '<a target=\"_blank\" href=https://colab.research.google.com/notebooks/data_table.ipynb>data table notebook</a>'\n",
              "            + ' to learn more about interactive tables.';\n",
              "          element.innerHTML = '';\n",
              "          dataTable['output_type'] = 'display_data';\n",
              "          await google.colab.output.renderOutput(dataTable, element);\n",
              "          const docLink = document.createElement('div');\n",
              "          docLink.innerHTML = docLinkHtml;\n",
              "          element.appendChild(docLink);\n",
              "        }\n",
              "      </script>\n",
              "    </div>\n",
              "  </div>\n",
              "  "
            ]
          },
          "metadata": {},
          "execution_count": 41
        }
      ]
    },
    {
      "cell_type": "markdown",
      "source": [
        "(1 балл) Сформируем новую колонку - для каждого бриллианта найдем сумму Минковского (p=3) по 3 измерениям бриллианта:"
      ],
      "metadata": {
        "id": "iEHBNONDLl64"
      }
    },
    {
      "cell_type": "code",
      "source": [
        "df[\"dist\"] = (df['meas_depth'] ** 3 + df['meas_length'] ** 3 + df['meas_width'] ** 3) ** (1/3)\n",
        "df"
      ],
      "metadata": {
        "id": "V3CTAQbAMQsR",
        "colab": {
          "base_uri": "https://localhost:8080/",
          "height": 424
        },
        "outputId": "d429d2f7-3ce0-4d2f-c956-561954e0793b"
      },
      "execution_count": 42,
      "outputs": [
        {
          "output_type": "execute_result",
          "data": {
            "text/plain": [
              "        meas_length  meas_width  meas_depth  price      dist\n",
              "52772          4.37        4.40        2.57    938  5.704296\n",
              "124410         4.62        5.57        3.31   2562  6.751007\n",
              "70165          4.31        4.33        2.69   1052  5.653639\n",
              "59668          4.33        4.35        2.61    980  5.659518\n",
              "66177          4.32        4.36        2.58   1036  5.653285\n",
              "...             ...         ...         ...    ...       ...\n",
              "83535          0.00        0.00        0.00   1210  0.000000\n",
              "190234         5.88        5.45        3.82  10504  7.494331\n",
              "164488         6.78        6.80        4.09   4888  8.855791\n",
              "99209          4.67        4.70        2.96   1636  6.141144\n",
              "158749         6.64        4.59        3.14   4333  7.491348\n",
              "\n",
              "[219703 rows x 5 columns]"
            ],
            "text/html": [
              "\n",
              "  <div id=\"df-cef26a6d-1777-4c38-bd55-b8e3bbc76cf9\">\n",
              "    <div class=\"colab-df-container\">\n",
              "      <div>\n",
              "<style scoped>\n",
              "    .dataframe tbody tr th:only-of-type {\n",
              "        vertical-align: middle;\n",
              "    }\n",
              "\n",
              "    .dataframe tbody tr th {\n",
              "        vertical-align: top;\n",
              "    }\n",
              "\n",
              "    .dataframe thead th {\n",
              "        text-align: right;\n",
              "    }\n",
              "</style>\n",
              "<table border=\"1\" class=\"dataframe\">\n",
              "  <thead>\n",
              "    <tr style=\"text-align: right;\">\n",
              "      <th></th>\n",
              "      <th>meas_length</th>\n",
              "      <th>meas_width</th>\n",
              "      <th>meas_depth</th>\n",
              "      <th>price</th>\n",
              "      <th>dist</th>\n",
              "    </tr>\n",
              "  </thead>\n",
              "  <tbody>\n",
              "    <tr>\n",
              "      <th>52772</th>\n",
              "      <td>4.37</td>\n",
              "      <td>4.40</td>\n",
              "      <td>2.57</td>\n",
              "      <td>938</td>\n",
              "      <td>5.704296</td>\n",
              "    </tr>\n",
              "    <tr>\n",
              "      <th>124410</th>\n",
              "      <td>4.62</td>\n",
              "      <td>5.57</td>\n",
              "      <td>3.31</td>\n",
              "      <td>2562</td>\n",
              "      <td>6.751007</td>\n",
              "    </tr>\n",
              "    <tr>\n",
              "      <th>70165</th>\n",
              "      <td>4.31</td>\n",
              "      <td>4.33</td>\n",
              "      <td>2.69</td>\n",
              "      <td>1052</td>\n",
              "      <td>5.653639</td>\n",
              "    </tr>\n",
              "    <tr>\n",
              "      <th>59668</th>\n",
              "      <td>4.33</td>\n",
              "      <td>4.35</td>\n",
              "      <td>2.61</td>\n",
              "      <td>980</td>\n",
              "      <td>5.659518</td>\n",
              "    </tr>\n",
              "    <tr>\n",
              "      <th>66177</th>\n",
              "      <td>4.32</td>\n",
              "      <td>4.36</td>\n",
              "      <td>2.58</td>\n",
              "      <td>1036</td>\n",
              "      <td>5.653285</td>\n",
              "    </tr>\n",
              "    <tr>\n",
              "      <th>...</th>\n",
              "      <td>...</td>\n",
              "      <td>...</td>\n",
              "      <td>...</td>\n",
              "      <td>...</td>\n",
              "      <td>...</td>\n",
              "    </tr>\n",
              "    <tr>\n",
              "      <th>83535</th>\n",
              "      <td>0.00</td>\n",
              "      <td>0.00</td>\n",
              "      <td>0.00</td>\n",
              "      <td>1210</td>\n",
              "      <td>0.000000</td>\n",
              "    </tr>\n",
              "    <tr>\n",
              "      <th>190234</th>\n",
              "      <td>5.88</td>\n",
              "      <td>5.45</td>\n",
              "      <td>3.82</td>\n",
              "      <td>10504</td>\n",
              "      <td>7.494331</td>\n",
              "    </tr>\n",
              "    <tr>\n",
              "      <th>164488</th>\n",
              "      <td>6.78</td>\n",
              "      <td>6.80</td>\n",
              "      <td>4.09</td>\n",
              "      <td>4888</td>\n",
              "      <td>8.855791</td>\n",
              "    </tr>\n",
              "    <tr>\n",
              "      <th>99209</th>\n",
              "      <td>4.67</td>\n",
              "      <td>4.70</td>\n",
              "      <td>2.96</td>\n",
              "      <td>1636</td>\n",
              "      <td>6.141144</td>\n",
              "    </tr>\n",
              "    <tr>\n",
              "      <th>158749</th>\n",
              "      <td>6.64</td>\n",
              "      <td>4.59</td>\n",
              "      <td>3.14</td>\n",
              "      <td>4333</td>\n",
              "      <td>7.491348</td>\n",
              "    </tr>\n",
              "  </tbody>\n",
              "</table>\n",
              "<p>219703 rows × 5 columns</p>\n",
              "</div>\n",
              "      <button class=\"colab-df-convert\" onclick=\"convertToInteractive('df-cef26a6d-1777-4c38-bd55-b8e3bbc76cf9')\"\n",
              "              title=\"Convert this dataframe to an interactive table.\"\n",
              "              style=\"display:none;\">\n",
              "        \n",
              "  <svg xmlns=\"http://www.w3.org/2000/svg\" height=\"24px\"viewBox=\"0 0 24 24\"\n",
              "       width=\"24px\">\n",
              "    <path d=\"M0 0h24v24H0V0z\" fill=\"none\"/>\n",
              "    <path d=\"M18.56 5.44l.94 2.06.94-2.06 2.06-.94-2.06-.94-.94-2.06-.94 2.06-2.06.94zm-11 1L8.5 8.5l.94-2.06 2.06-.94-2.06-.94L8.5 2.5l-.94 2.06-2.06.94zm10 10l.94 2.06.94-2.06 2.06-.94-2.06-.94-.94-2.06-.94 2.06-2.06.94z\"/><path d=\"M17.41 7.96l-1.37-1.37c-.4-.4-.92-.59-1.43-.59-.52 0-1.04.2-1.43.59L10.3 9.45l-7.72 7.72c-.78.78-.78 2.05 0 2.83L4 21.41c.39.39.9.59 1.41.59.51 0 1.02-.2 1.41-.59l7.78-7.78 2.81-2.81c.8-.78.8-2.07 0-2.86zM5.41 20L4 18.59l7.72-7.72 1.47 1.35L5.41 20z\"/>\n",
              "  </svg>\n",
              "      </button>\n",
              "      \n",
              "  <style>\n",
              "    .colab-df-container {\n",
              "      display:flex;\n",
              "      flex-wrap:wrap;\n",
              "      gap: 12px;\n",
              "    }\n",
              "\n",
              "    .colab-df-convert {\n",
              "      background-color: #E8F0FE;\n",
              "      border: none;\n",
              "      border-radius: 50%;\n",
              "      cursor: pointer;\n",
              "      display: none;\n",
              "      fill: #1967D2;\n",
              "      height: 32px;\n",
              "      padding: 0 0 0 0;\n",
              "      width: 32px;\n",
              "    }\n",
              "\n",
              "    .colab-df-convert:hover {\n",
              "      background-color: #E2EBFA;\n",
              "      box-shadow: 0px 1px 2px rgba(60, 64, 67, 0.3), 0px 1px 3px 1px rgba(60, 64, 67, 0.15);\n",
              "      fill: #174EA6;\n",
              "    }\n",
              "\n",
              "    [theme=dark] .colab-df-convert {\n",
              "      background-color: #3B4455;\n",
              "      fill: #D2E3FC;\n",
              "    }\n",
              "\n",
              "    [theme=dark] .colab-df-convert:hover {\n",
              "      background-color: #434B5C;\n",
              "      box-shadow: 0px 1px 3px 1px rgba(0, 0, 0, 0.15);\n",
              "      filter: drop-shadow(0px 1px 2px rgba(0, 0, 0, 0.3));\n",
              "      fill: #FFFFFF;\n",
              "    }\n",
              "  </style>\n",
              "\n",
              "      <script>\n",
              "        const buttonEl =\n",
              "          document.querySelector('#df-cef26a6d-1777-4c38-bd55-b8e3bbc76cf9 button.colab-df-convert');\n",
              "        buttonEl.style.display =\n",
              "          google.colab.kernel.accessAllowed ? 'block' : 'none';\n",
              "\n",
              "        async function convertToInteractive(key) {\n",
              "          const element = document.querySelector('#df-cef26a6d-1777-4c38-bd55-b8e3bbc76cf9');\n",
              "          const dataTable =\n",
              "            await google.colab.kernel.invokeFunction('convertToInteractive',\n",
              "                                                     [key], {});\n",
              "          if (!dataTable) return;\n",
              "\n",
              "          const docLinkHtml = 'Like what you see? Visit the ' +\n",
              "            '<a target=\"_blank\" href=https://colab.research.google.com/notebooks/data_table.ipynb>data table notebook</a>'\n",
              "            + ' to learn more about interactive tables.';\n",
              "          element.innerHTML = '';\n",
              "          dataTable['output_type'] = 'display_data';\n",
              "          await google.colab.output.renderOutput(dataTable, element);\n",
              "          const docLink = document.createElement('div');\n",
              "          docLink.innerHTML = docLinkHtml;\n",
              "          element.appendChild(docLink);\n",
              "        }\n",
              "      </script>\n",
              "    </div>\n",
              "  </div>\n",
              "  "
            ]
          },
          "metadata": {},
          "execution_count": 42
        }
      ]
    },
    {
      "cell_type": "markdown",
      "source": [
        "(1 балл) Сформируем новый датасет из двух колонок - сумма Минковского и `total_sales_price`: "
      ],
      "metadata": {
        "id": "z5s5_yB8n1Hp"
      }
    },
    {
      "cell_type": "code",
      "source": [
        "result_df = df[[\"dist\", \"price\"]]\n",
        "result_df"
      ],
      "metadata": {
        "id": "tXxZnWS7n9q0",
        "colab": {
          "base_uri": "https://localhost:8080/",
          "height": 424
        },
        "outputId": "1cd73143-ba0f-4fd9-f75d-411e0677b719"
      },
      "execution_count": 43,
      "outputs": [
        {
          "output_type": "execute_result",
          "data": {
            "text/plain": [
              "            dist  price\n",
              "52772   5.704296    938\n",
              "124410  6.751007   2562\n",
              "70165   5.653639   1052\n",
              "59668   5.659518    980\n",
              "66177   5.653285   1036\n",
              "...          ...    ...\n",
              "83535   0.000000   1210\n",
              "190234  7.494331  10504\n",
              "164488  8.855791   4888\n",
              "99209   6.141144   1636\n",
              "158749  7.491348   4333\n",
              "\n",
              "[219703 rows x 2 columns]"
            ],
            "text/html": [
              "\n",
              "  <div id=\"df-2a8c2d39-787f-42ac-868b-447fb4a18a24\">\n",
              "    <div class=\"colab-df-container\">\n",
              "      <div>\n",
              "<style scoped>\n",
              "    .dataframe tbody tr th:only-of-type {\n",
              "        vertical-align: middle;\n",
              "    }\n",
              "\n",
              "    .dataframe tbody tr th {\n",
              "        vertical-align: top;\n",
              "    }\n",
              "\n",
              "    .dataframe thead th {\n",
              "        text-align: right;\n",
              "    }\n",
              "</style>\n",
              "<table border=\"1\" class=\"dataframe\">\n",
              "  <thead>\n",
              "    <tr style=\"text-align: right;\">\n",
              "      <th></th>\n",
              "      <th>dist</th>\n",
              "      <th>price</th>\n",
              "    </tr>\n",
              "  </thead>\n",
              "  <tbody>\n",
              "    <tr>\n",
              "      <th>52772</th>\n",
              "      <td>5.704296</td>\n",
              "      <td>938</td>\n",
              "    </tr>\n",
              "    <tr>\n",
              "      <th>124410</th>\n",
              "      <td>6.751007</td>\n",
              "      <td>2562</td>\n",
              "    </tr>\n",
              "    <tr>\n",
              "      <th>70165</th>\n",
              "      <td>5.653639</td>\n",
              "      <td>1052</td>\n",
              "    </tr>\n",
              "    <tr>\n",
              "      <th>59668</th>\n",
              "      <td>5.659518</td>\n",
              "      <td>980</td>\n",
              "    </tr>\n",
              "    <tr>\n",
              "      <th>66177</th>\n",
              "      <td>5.653285</td>\n",
              "      <td>1036</td>\n",
              "    </tr>\n",
              "    <tr>\n",
              "      <th>...</th>\n",
              "      <td>...</td>\n",
              "      <td>...</td>\n",
              "    </tr>\n",
              "    <tr>\n",
              "      <th>83535</th>\n",
              "      <td>0.000000</td>\n",
              "      <td>1210</td>\n",
              "    </tr>\n",
              "    <tr>\n",
              "      <th>190234</th>\n",
              "      <td>7.494331</td>\n",
              "      <td>10504</td>\n",
              "    </tr>\n",
              "    <tr>\n",
              "      <th>164488</th>\n",
              "      <td>8.855791</td>\n",
              "      <td>4888</td>\n",
              "    </tr>\n",
              "    <tr>\n",
              "      <th>99209</th>\n",
              "      <td>6.141144</td>\n",
              "      <td>1636</td>\n",
              "    </tr>\n",
              "    <tr>\n",
              "      <th>158749</th>\n",
              "      <td>7.491348</td>\n",
              "      <td>4333</td>\n",
              "    </tr>\n",
              "  </tbody>\n",
              "</table>\n",
              "<p>219703 rows × 2 columns</p>\n",
              "</div>\n",
              "      <button class=\"colab-df-convert\" onclick=\"convertToInteractive('df-2a8c2d39-787f-42ac-868b-447fb4a18a24')\"\n",
              "              title=\"Convert this dataframe to an interactive table.\"\n",
              "              style=\"display:none;\">\n",
              "        \n",
              "  <svg xmlns=\"http://www.w3.org/2000/svg\" height=\"24px\"viewBox=\"0 0 24 24\"\n",
              "       width=\"24px\">\n",
              "    <path d=\"M0 0h24v24H0V0z\" fill=\"none\"/>\n",
              "    <path d=\"M18.56 5.44l.94 2.06.94-2.06 2.06-.94-2.06-.94-.94-2.06-.94 2.06-2.06.94zm-11 1L8.5 8.5l.94-2.06 2.06-.94-2.06-.94L8.5 2.5l-.94 2.06-2.06.94zm10 10l.94 2.06.94-2.06 2.06-.94-2.06-.94-.94-2.06-.94 2.06-2.06.94z\"/><path d=\"M17.41 7.96l-1.37-1.37c-.4-.4-.92-.59-1.43-.59-.52 0-1.04.2-1.43.59L10.3 9.45l-7.72 7.72c-.78.78-.78 2.05 0 2.83L4 21.41c.39.39.9.59 1.41.59.51 0 1.02-.2 1.41-.59l7.78-7.78 2.81-2.81c.8-.78.8-2.07 0-2.86zM5.41 20L4 18.59l7.72-7.72 1.47 1.35L5.41 20z\"/>\n",
              "  </svg>\n",
              "      </button>\n",
              "      \n",
              "  <style>\n",
              "    .colab-df-container {\n",
              "      display:flex;\n",
              "      flex-wrap:wrap;\n",
              "      gap: 12px;\n",
              "    }\n",
              "\n",
              "    .colab-df-convert {\n",
              "      background-color: #E8F0FE;\n",
              "      border: none;\n",
              "      border-radius: 50%;\n",
              "      cursor: pointer;\n",
              "      display: none;\n",
              "      fill: #1967D2;\n",
              "      height: 32px;\n",
              "      padding: 0 0 0 0;\n",
              "      width: 32px;\n",
              "    }\n",
              "\n",
              "    .colab-df-convert:hover {\n",
              "      background-color: #E2EBFA;\n",
              "      box-shadow: 0px 1px 2px rgba(60, 64, 67, 0.3), 0px 1px 3px 1px rgba(60, 64, 67, 0.15);\n",
              "      fill: #174EA6;\n",
              "    }\n",
              "\n",
              "    [theme=dark] .colab-df-convert {\n",
              "      background-color: #3B4455;\n",
              "      fill: #D2E3FC;\n",
              "    }\n",
              "\n",
              "    [theme=dark] .colab-df-convert:hover {\n",
              "      background-color: #434B5C;\n",
              "      box-shadow: 0px 1px 3px 1px rgba(0, 0, 0, 0.15);\n",
              "      filter: drop-shadow(0px 1px 2px rgba(0, 0, 0, 0.3));\n",
              "      fill: #FFFFFF;\n",
              "    }\n",
              "  </style>\n",
              "\n",
              "      <script>\n",
              "        const buttonEl =\n",
              "          document.querySelector('#df-2a8c2d39-787f-42ac-868b-447fb4a18a24 button.colab-df-convert');\n",
              "        buttonEl.style.display =\n",
              "          google.colab.kernel.accessAllowed ? 'block' : 'none';\n",
              "\n",
              "        async function convertToInteractive(key) {\n",
              "          const element = document.querySelector('#df-2a8c2d39-787f-42ac-868b-447fb4a18a24');\n",
              "          const dataTable =\n",
              "            await google.colab.kernel.invokeFunction('convertToInteractive',\n",
              "                                                     [key], {});\n",
              "          if (!dataTable) return;\n",
              "\n",
              "          const docLinkHtml = 'Like what you see? Visit the ' +\n",
              "            '<a target=\"_blank\" href=https://colab.research.google.com/notebooks/data_table.ipynb>data table notebook</a>'\n",
              "            + ' to learn more about interactive tables.';\n",
              "          element.innerHTML = '';\n",
              "          dataTable['output_type'] = 'display_data';\n",
              "          await google.colab.output.renderOutput(dataTable, element);\n",
              "          const docLink = document.createElement('div');\n",
              "          docLink.innerHTML = docLinkHtml;\n",
              "          element.appendChild(docLink);\n",
              "        }\n",
              "      </script>\n",
              "    </div>\n",
              "  </div>\n",
              "  "
            ]
          },
          "metadata": {},
          "execution_count": 43
        }
      ]
    },
    {
      "cell_type": "markdown",
      "source": [
        "(1 балл) Разделите вашу выборку на две части в соотношении 8:2 - одна выборка будет для тренировка, а другая для тестов вашей модели:"
      ],
      "metadata": {
        "id": "aXCp0GmUKOvM"
      }
    },
    {
      "cell_type": "code",
      "source": [
        "from sklearn.model_selection import train_test_split\n",
        "\n",
        "train, test = train_test_split(result_df, test_size=0.2)\n",
        "test"
      ],
      "metadata": {
        "id": "rxwHhdnFK3Lz",
        "colab": {
          "base_uri": "https://localhost:8080/",
          "height": 424
        },
        "outputId": "54a98ba9-b208-409d-8e6e-eca9c58a4020"
      },
      "execution_count": 104,
      "outputs": [
        {
          "output_type": "execute_result",
          "data": {
            "text/plain": [
              "             dist  price\n",
              "156709   8.434258   4223\n",
              "58369    5.614079    984\n",
              "122820   6.783746   2630\n",
              "26913    5.593440    780\n",
              "195440  10.364212  13053\n",
              "...           ...    ...\n",
              "68513    5.641964   1030\n",
              "156850   7.495598   4238\n",
              "125093   6.774332   2596\n",
              "49458    6.684469    932\n",
              "98589    6.929507   1618\n",
              "\n",
              "[43941 rows x 2 columns]"
            ],
            "text/html": [
              "\n",
              "  <div id=\"df-f509d8a2-b536-4918-a5d5-9a3c826d232b\">\n",
              "    <div class=\"colab-df-container\">\n",
              "      <div>\n",
              "<style scoped>\n",
              "    .dataframe tbody tr th:only-of-type {\n",
              "        vertical-align: middle;\n",
              "    }\n",
              "\n",
              "    .dataframe tbody tr th {\n",
              "        vertical-align: top;\n",
              "    }\n",
              "\n",
              "    .dataframe thead th {\n",
              "        text-align: right;\n",
              "    }\n",
              "</style>\n",
              "<table border=\"1\" class=\"dataframe\">\n",
              "  <thead>\n",
              "    <tr style=\"text-align: right;\">\n",
              "      <th></th>\n",
              "      <th>dist</th>\n",
              "      <th>price</th>\n",
              "    </tr>\n",
              "  </thead>\n",
              "  <tbody>\n",
              "    <tr>\n",
              "      <th>156709</th>\n",
              "      <td>8.434258</td>\n",
              "      <td>4223</td>\n",
              "    </tr>\n",
              "    <tr>\n",
              "      <th>58369</th>\n",
              "      <td>5.614079</td>\n",
              "      <td>984</td>\n",
              "    </tr>\n",
              "    <tr>\n",
              "      <th>122820</th>\n",
              "      <td>6.783746</td>\n",
              "      <td>2630</td>\n",
              "    </tr>\n",
              "    <tr>\n",
              "      <th>26913</th>\n",
              "      <td>5.593440</td>\n",
              "      <td>780</td>\n",
              "    </tr>\n",
              "    <tr>\n",
              "      <th>195440</th>\n",
              "      <td>10.364212</td>\n",
              "      <td>13053</td>\n",
              "    </tr>\n",
              "    <tr>\n",
              "      <th>...</th>\n",
              "      <td>...</td>\n",
              "      <td>...</td>\n",
              "    </tr>\n",
              "    <tr>\n",
              "      <th>68513</th>\n",
              "      <td>5.641964</td>\n",
              "      <td>1030</td>\n",
              "    </tr>\n",
              "    <tr>\n",
              "      <th>156850</th>\n",
              "      <td>7.495598</td>\n",
              "      <td>4238</td>\n",
              "    </tr>\n",
              "    <tr>\n",
              "      <th>125093</th>\n",
              "      <td>6.774332</td>\n",
              "      <td>2596</td>\n",
              "    </tr>\n",
              "    <tr>\n",
              "      <th>49458</th>\n",
              "      <td>6.684469</td>\n",
              "      <td>932</td>\n",
              "    </tr>\n",
              "    <tr>\n",
              "      <th>98589</th>\n",
              "      <td>6.929507</td>\n",
              "      <td>1618</td>\n",
              "    </tr>\n",
              "  </tbody>\n",
              "</table>\n",
              "<p>43941 rows × 2 columns</p>\n",
              "</div>\n",
              "      <button class=\"colab-df-convert\" onclick=\"convertToInteractive('df-f509d8a2-b536-4918-a5d5-9a3c826d232b')\"\n",
              "              title=\"Convert this dataframe to an interactive table.\"\n",
              "              style=\"display:none;\">\n",
              "        \n",
              "  <svg xmlns=\"http://www.w3.org/2000/svg\" height=\"24px\"viewBox=\"0 0 24 24\"\n",
              "       width=\"24px\">\n",
              "    <path d=\"M0 0h24v24H0V0z\" fill=\"none\"/>\n",
              "    <path d=\"M18.56 5.44l.94 2.06.94-2.06 2.06-.94-2.06-.94-.94-2.06-.94 2.06-2.06.94zm-11 1L8.5 8.5l.94-2.06 2.06-.94-2.06-.94L8.5 2.5l-.94 2.06-2.06.94zm10 10l.94 2.06.94-2.06 2.06-.94-2.06-.94-.94-2.06-.94 2.06-2.06.94z\"/><path d=\"M17.41 7.96l-1.37-1.37c-.4-.4-.92-.59-1.43-.59-.52 0-1.04.2-1.43.59L10.3 9.45l-7.72 7.72c-.78.78-.78 2.05 0 2.83L4 21.41c.39.39.9.59 1.41.59.51 0 1.02-.2 1.41-.59l7.78-7.78 2.81-2.81c.8-.78.8-2.07 0-2.86zM5.41 20L4 18.59l7.72-7.72 1.47 1.35L5.41 20z\"/>\n",
              "  </svg>\n",
              "      </button>\n",
              "      \n",
              "  <style>\n",
              "    .colab-df-container {\n",
              "      display:flex;\n",
              "      flex-wrap:wrap;\n",
              "      gap: 12px;\n",
              "    }\n",
              "\n",
              "    .colab-df-convert {\n",
              "      background-color: #E8F0FE;\n",
              "      border: none;\n",
              "      border-radius: 50%;\n",
              "      cursor: pointer;\n",
              "      display: none;\n",
              "      fill: #1967D2;\n",
              "      height: 32px;\n",
              "      padding: 0 0 0 0;\n",
              "      width: 32px;\n",
              "    }\n",
              "\n",
              "    .colab-df-convert:hover {\n",
              "      background-color: #E2EBFA;\n",
              "      box-shadow: 0px 1px 2px rgba(60, 64, 67, 0.3), 0px 1px 3px 1px rgba(60, 64, 67, 0.15);\n",
              "      fill: #174EA6;\n",
              "    }\n",
              "\n",
              "    [theme=dark] .colab-df-convert {\n",
              "      background-color: #3B4455;\n",
              "      fill: #D2E3FC;\n",
              "    }\n",
              "\n",
              "    [theme=dark] .colab-df-convert:hover {\n",
              "      background-color: #434B5C;\n",
              "      box-shadow: 0px 1px 3px 1px rgba(0, 0, 0, 0.15);\n",
              "      filter: drop-shadow(0px 1px 2px rgba(0, 0, 0, 0.3));\n",
              "      fill: #FFFFFF;\n",
              "    }\n",
              "  </style>\n",
              "\n",
              "      <script>\n",
              "        const buttonEl =\n",
              "          document.querySelector('#df-f509d8a2-b536-4918-a5d5-9a3c826d232b button.colab-df-convert');\n",
              "        buttonEl.style.display =\n",
              "          google.colab.kernel.accessAllowed ? 'block' : 'none';\n",
              "\n",
              "        async function convertToInteractive(key) {\n",
              "          const element = document.querySelector('#df-f509d8a2-b536-4918-a5d5-9a3c826d232b');\n",
              "          const dataTable =\n",
              "            await google.colab.kernel.invokeFunction('convertToInteractive',\n",
              "                                                     [key], {});\n",
              "          if (!dataTable) return;\n",
              "\n",
              "          const docLinkHtml = 'Like what you see? Visit the ' +\n",
              "            '<a target=\"_blank\" href=https://colab.research.google.com/notebooks/data_table.ipynb>data table notebook</a>'\n",
              "            + ' to learn more about interactive tables.';\n",
              "          element.innerHTML = '';\n",
              "          dataTable['output_type'] = 'display_data';\n",
              "          await google.colab.output.renderOutput(dataTable, element);\n",
              "          const docLink = document.createElement('div');\n",
              "          docLink.innerHTML = docLinkHtml;\n",
              "          element.appendChild(docLink);\n",
              "        }\n",
              "      </script>\n",
              "    </div>\n",
              "  </div>\n",
              "  "
            ]
          },
          "metadata": {},
          "execution_count": 104
        }
      ]
    },
    {
      "cell_type": "markdown",
      "source": [
        "(2 балла) Постройте график зависимости стоимости от вашего нового параметра размера для тренинг-выборки:"
      ],
      "metadata": {
        "id": "lhuRoIMRK3S3"
      }
    },
    {
      "cell_type": "code",
      "source": [
        "plt.scatter(train[\"dist\"], train[\"price\"], alpha=.2)\n",
        "plt.show()"
      ],
      "metadata": {
        "id": "zdXv0wimNNZq",
        "colab": {
          "base_uri": "https://localhost:8080/",
          "height": 445
        },
        "outputId": "1a87b138-140d-45ff-c0e6-1c513bbbffda"
      },
      "execution_count": 45,
      "outputs": [
        {
          "output_type": "display_data",
          "data": {
            "text/plain": [
              "<Figure size 640x480 with 1 Axes>"
            ],
            "image/png": "[encoded data removed]"
          },
          "metadata": {}
        }
      ]
    },
    {
      "cell_type": "markdown",
      "source": [
        "(2 балла) Нанесите на тот же график тестовую выборку, используя другой цвет (не забудьте про параметр прозрачности):"
      ],
      "metadata": {
        "id": "0cUx_FSiNOUx"
      }
    },
    {
      "cell_type": "code",
      "source": [
        "plt.scatter(train[\"dist\"], train[\"price\"], alpha=.2, color='blue', label='train')\n",
        "plt.scatter(test[\"dist\"], test[\"price\"], alpha=.2, color='yellow', label='test')\n",
        "plt.legend()\n",
        "plt.show()"
      ],
      "metadata": {
        "id": "R09w4W7VNnM2",
        "colab": {
          "base_uri": "https://localhost:8080/",
          "height": 445
        },
        "outputId": "568d2a6f-90dd-44ad-848b-1dedccc6b706"
      },
      "execution_count": 52,
      "outputs": [
        {
          "output_type": "display_data",
          "data": {
            "text/plain": [
              "<Figure size 640x480 with 1 Axes>"
            ],
            "image/png": "[encoded data removed]"
          },
          "metadata": {}
        }
      ]
    },
    {
      "cell_type": "markdown",
      "source": [
        "(3 балла) Найдите для каждой бриллианта из тестовой выборки его \"ближайшего соседа\" из тренинг-выборки. Для каждого бриллианта из тестовой выборки найдите расстояния до соответствующего ближайшего соседа:"
      ],
      "metadata": {
        "id": "VwIIccnpNnVj"
      }
    },
    {
      "cell_type": "code",
      "source": [
        "def f(item):\n",
        "  res = item.tolist()\n",
        "  d = train.iloc[(train['dist'] - item['dist']).abs().argsort()[:1]]\n",
        "  res.append(d.index[0].astype(int))\n",
        "  pr = d.iloc[0]\n",
        "  res.append(abs(item[\"price\"] - pr[\"price\"]))\n",
        "\n",
        "\n",
        "  return res\n",
        "test1 = test.apply(f, axis=1, result_type='expand')\n",
        "test1"
      ],
      "metadata": {
        "colab": {
          "base_uri": "https://localhost:8080/",
          "height": 424
        },
        "id": "rxuaEQgAWwpr",
        "outputId": "275a28b1-4c2b-4a63-8071-71ee7ad6652a"
      },
      "execution_count": 48,
      "outputs": [
        {
          "output_type": "execute_result",
          "data": {
            "text/plain": [
              "                0         1         2        3\n",
              "219558  22.034202  439430.0  219519.0  46153.0\n",
              "45950    5.619071     900.0   48558.0     20.0\n",
              "58042    5.596602     980.0   70154.0     72.0\n",
              "30277    4.988046     790.0   55182.0    174.0\n",
              "113635   6.248330    2168.0   89216.0    832.0\n",
              "...           ...       ...       ...      ...\n",
              "188461   8.628506   10607.0  170018.0   4693.0\n",
              "155318   8.373294    3994.0  157481.0    419.0\n",
              "209692  11.344260   29420.0  211857.0    399.0\n",
              "30775    5.641964     794.0   49937.0    130.0\n",
              "119591   6.526454    2398.0  102369.0    662.0\n",
              "\n",
              "[43941 rows x 4 columns]"
            ],
            "text/html": [
              "\n",
              "  <div id=\"df-48a402ba-2f4a-4820-9c44-4c95ae492771\">\n",
              "    <div class=\"colab-df-container\">\n",
              "      <div>\n",
              "<style scoped>\n",
              "    .dataframe tbody tr th:only-of-type {\n",
              "        vertical-align: middle;\n",
              "    }\n",
              "\n",
              "    .dataframe tbody tr th {\n",
              "        vertical-align: top;\n",
              "    }\n",
              "\n",
              "    .dataframe thead th {\n",
              "        text-align: right;\n",
              "    }\n",
              "</style>\n",
              "<table border=\"1\" class=\"dataframe\">\n",
              "  <thead>\n",
              "    <tr style=\"text-align: right;\">\n",
              "      <th></th>\n",
              "      <th>0</th>\n",
              "      <th>1</th>\n",
              "      <th>2</th>\n",
              "      <th>3</th>\n",
              "    </tr>\n",
              "  </thead>\n",
              "  <tbody>\n",
              "    <tr>\n",
              "      <th>219558</th>\n",
              "      <td>22.034202</td>\n",
              "      <td>439430.0</td>\n",
              "      <td>219519.0</td>\n",
              "      <td>46153.0</td>\n",
              "    </tr>\n",
              "    <tr>\n",
              "      <th>45950</th>\n",
              "      <td>5.619071</td>\n",
              "      <td>900.0</td>\n",
              "      <td>48558.0</td>\n",
              "      <td>20.0</td>\n",
              "    </tr>\n",
              "    <tr>\n",
              "      <th>58042</th>\n",
              "      <td>5.596602</td>\n",
              "      <td>980.0</td>\n",
              "      <td>70154.0</td>\n",
              "      <td>72.0</td>\n",
              "    </tr>\n",
              "    <tr>\n",
              "      <th>30277</th>\n",
              "      <td>4.988046</td>\n",
              "      <td>790.0</td>\n",
              "      <td>55182.0</td>\n",
              "      <td>174.0</td>\n",
              "    </tr>\n",
              "    <tr>\n",
              "      <th>113635</th>\n",
              "      <td>6.248330</td>\n",
              "      <td>2168.0</td>\n",
              "      <td>89216.0</td>\n",
              "      <td>832.0</td>\n",
              "    </tr>\n",
              "    <tr>\n",
              "      <th>...</th>\n",
              "      <td>...</td>\n",
              "      <td>...</td>\n",
              "      <td>...</td>\n",
              "      <td>...</td>\n",
              "    </tr>\n",
              "    <tr>\n",
              "      <th>188461</th>\n",
              "      <td>8.628506</td>\n",
              "      <td>10607.0</td>\n",
              "      <td>170018.0</td>\n",
              "      <td>4693.0</td>\n",
              "    </tr>\n",
              "    <tr>\n",
              "      <th>155318</th>\n",
              "      <td>8.373294</td>\n",
              "      <td>3994.0</td>\n",
              "      <td>157481.0</td>\n",
              "      <td>419.0</td>\n",
              "    </tr>\n",
              "    <tr>\n",
              "      <th>209692</th>\n",
              "      <td>11.344260</td>\n",
              "      <td>29420.0</td>\n",
              "      <td>211857.0</td>\n",
              "      <td>399.0</td>\n",
              "    </tr>\n",
              "    <tr>\n",
              "      <th>30775</th>\n",
              "      <td>5.641964</td>\n",
              "      <td>794.0</td>\n",
              "      <td>49937.0</td>\n",
              "      <td>130.0</td>\n",
              "    </tr>\n",
              "    <tr>\n",
              "      <th>119591</th>\n",
              "      <td>6.526454</td>\n",
              "      <td>2398.0</td>\n",
              "      <td>102369.0</td>\n",
              "      <td>662.0</td>\n",
              "    </tr>\n",
              "  </tbody>\n",
              "</table>\n",
              "<p>43941 rows × 4 columns</p>\n",
              "</div>\n",
              "      <button class=\"colab-df-convert\" onclick=\"convertToInteractive('df-48a402ba-2f4a-4820-9c44-4c95ae492771')\"\n",
              "              title=\"Convert this dataframe to an interactive table.\"\n",
              "              style=\"display:none;\">\n",
              "        \n",
              "  <svg xmlns=\"http://www.w3.org/2000/svg\" height=\"24px\"viewBox=\"0 0 24 24\"\n",
              "       width=\"24px\">\n",
              "    <path d=\"M0 0h24v24H0V0z\" fill=\"none\"/>\n",
              "    <path d=\"M18.56 5.44l.94 2.06.94-2.06 2.06-.94-2.06-.94-.94-2.06-.94 2.06-2.06.94zm-11 1L8.5 8.5l.94-2.06 2.06-.94-2.06-.94L8.5 2.5l-.94 2.06-2.06.94zm10 10l.94 2.06.94-2.06 2.06-.94-2.06-.94-.94-2.06-.94 2.06-2.06.94z\"/><path d=\"M17.41 7.96l-1.37-1.37c-.4-.4-.92-.59-1.43-.59-.52 0-1.04.2-1.43.59L10.3 9.45l-7.72 7.72c-.78.78-.78 2.05 0 2.83L4 21.41c.39.39.9.59 1.41.59.51 0 1.02-.2 1.41-.59l7.78-7.78 2.81-2.81c.8-.78.8-2.07 0-2.86zM5.41 20L4 18.59l7.72-7.72 1.47 1.35L5.41 20z\"/>\n",
              "  </svg>\n",
              "      </button>\n",
              "      \n",
              "  <style>\n",
              "    .colab-df-container {\n",
              "      display:flex;\n",
              "      flex-wrap:wrap;\n",
              "      gap: 12px;\n",
              "    }\n",
              "\n",
              "    .colab-df-convert {\n",
              "      background-color: #E8F0FE;\n",
              "      border: none;\n",
              "      border-radius: 50%;\n",
              "      cursor: pointer;\n",
              "      display: none;\n",
              "      fill: #1967D2;\n",
              "      height: 32px;\n",
              "      padding: 0 0 0 0;\n",
              "      width: 32px;\n",
              "    }\n",
              "\n",
              "    .colab-df-convert:hover {\n",
              "      background-color: #E2EBFA;\n",
              "      box-shadow: 0px 1px 2px rgba(60, 64, 67, 0.3), 0px 1px 3px 1px rgba(60, 64, 67, 0.15);\n",
              "      fill: #174EA6;\n",
              "    }\n",
              "\n",
              "    [theme=dark] .colab-df-convert {\n",
              "      background-color: #3B4455;\n",
              "      fill: #D2E3FC;\n",
              "    }\n",
              "\n",
              "    [theme=dark] .colab-df-convert:hover {\n",
              "      background-color: #434B5C;\n",
              "      box-shadow: 0px 1px 3px 1px rgba(0, 0, 0, 0.15);\n",
              "      filter: drop-shadow(0px 1px 2px rgba(0, 0, 0, 0.3));\n",
              "      fill: #FFFFFF;\n",
              "    }\n",
              "  </style>\n",
              "\n",
              "      <script>\n",
              "        const buttonEl =\n",
              "          document.querySelector('#df-48a402ba-2f4a-4820-9c44-4c95ae492771 button.colab-df-convert');\n",
              "        buttonEl.style.display =\n",
              "          google.colab.kernel.accessAllowed ? 'block' : 'none';\n",
              "\n",
              "        async function convertToInteractive(key) {\n",
              "          const element = document.querySelector('#df-48a402ba-2f4a-4820-9c44-4c95ae492771');\n",
              "          const dataTable =\n",
              "            await google.colab.kernel.invokeFunction('convertToInteractive',\n",
              "                                                     [key], {});\n",
              "          if (!dataTable) return;\n",
              "\n",
              "          const docLinkHtml = 'Like what you see? Visit the ' +\n",
              "            '<a target=\"_blank\" href=https://colab.research.google.com/notebooks/data_table.ipynb>data table notebook</a>'\n",
              "            + ' to learn more about interactive tables.';\n",
              "          element.innerHTML = '';\n",
              "          dataTable['output_type'] = 'display_data';\n",
              "          await google.colab.output.renderOutput(dataTable, element);\n",
              "          const docLink = document.createElement('div');\n",
              "          docLink.innerHTML = docLinkHtml;\n",
              "          element.appendChild(docLink);\n",
              "        }\n",
              "      </script>\n",
              "    </div>\n",
              "  </div>\n",
              "  "
            ]
          },
          "metadata": {},
          "execution_count": 48
        }
      ]
    },
    {
      "cell_type": "markdown",
      "source": [
        "(3 балла) Найдите насколько сильно (в процентах) отличается цена бриллиантов из тестовой выборки от их соответствующих ближайших соседей:"
      ],
      "metadata": {
        "id": "7R0uaHqurV_u"
      }
    },
    {
      "cell_type": "code",
      "source": [
        "for i, item in test1.iloc[:10].iterrows():\n",
        "  print(f\"Difference is {round(item[3] / item[1] * 100)}%\")"
      ],
      "metadata": {
        "id": "Uy2ngWJ4rn-4",
        "colab": {
          "base_uri": "https://localhost:8080/"
        },
        "outputId": "53122001-d2b4-4706-8bd9-3653f872d628"
      },
      "execution_count": 50,
      "outputs": [
        {
          "output_type": "stream",
          "name": "stdout",
          "text": [
            "Difference is 11%\n",
            "Difference is 2%\n",
            "Difference is 7%\n",
            "Difference is 22%\n",
            "Difference is 38%\n",
            "Difference is 41%\n",
            "Difference is 2%\n",
            "Difference is 36%\n",
            "Difference is 90%\n",
            "Difference is 70%\n"
          ]
        }
      ]
    },
    {
      "cell_type": "markdown",
      "source": [
        "**Данная модель является выдумкой автора. Не важен коэффициент ошибки, важны ваши шаги для получения коэффициента.**"
      ],
      "metadata": {
        "id": "tl0CHY6_OAxU"
      }
    },
    {
      "cell_type": "markdown",
      "source": [
        "### Введение в машинное обучение"
      ],
      "metadata": {
        "id": "AbrAdKSUrqz5"
      }
    },
    {
      "cell_type": "markdown",
      "source": [
        "Теперь давайте познакомимся с таким сильным инструментом как `sklearn`."
      ],
      "metadata": {
        "id": "I6sqXZLYuox4"
      }
    },
    {
      "cell_type": "markdown",
      "source": [
        "Вам необходимо:\n",
        "1. выбрать 2 категориальных признака\n",
        "2. на их основе обучить решающее дерево\n",
        "3. оценить среднеквадратичную ошибку цены бриллианта\n",
        "4. сделать пп. 1-3 и выбрать ту пару, которая дает лучший результат\n",
        "5. сделать выводы"
      ],
      "metadata": {
        "id": "q4OpdbhwsuAX"
      }
    },
    {
      "cell_type": "markdown",
      "source": [
        "(3 балла) Мы работаем с категориальными признаками, для них не понятно что есть \"больше\" и \"меньше\". Поэтому нам нужно предварительно закодировать значения наших признаков, с чем нам поможет [OneHotEncoder](https://scikit-learn.org/stable/modules/generated/sklearn.preprocessing.OneHotEncoder.html):"
      ],
      "metadata": {
        "id": "rScraaVSxQlT"
      }
    },
    {
      "cell_type": "code",
      "source": [
        "from sklearn.preprocessing import OneHotEncoder\n",
        "def encode_feature(feature: str, data):\n",
        "\n",
        "  data.drop(data[data[feature] is None or data[feature] == 'unknown'].index, axis=0)\n",
        "  df = pd.get_dummies(data[feature], prefix=feature.upper())\n",
        "  return pd.concat([data, df], axis=1).drop([feature], axis=1)"
      ],
      "metadata": {
        "id": "G8hDstLlxjry"
      },
      "execution_count": 141,
      "outputs": []
    },
    {
      "cell_type": "code",
      "source": [
        "category_features = diamonds[diamonds.columns[diamonds.nunique() < 20]].columns.tolist()\n",
        "category_features"
      ],
      "metadata": {
        "colab": {
          "base_uri": "https://localhost:8080/"
        },
        "id": "6CGLZ4wOww_E",
        "outputId": "03c74926-5271-424d-c178-4d68b0f06f76"
      },
      "execution_count": 134,
      "outputs": [
        {
          "output_type": "execute_result",
          "data": {
            "text/plain": [
              "['cut',\n",
              " 'color',\n",
              " 'clarity',\n",
              " 'cut_quality',\n",
              " 'lab',\n",
              " 'symmetry',\n",
              " 'polish',\n",
              " 'eye_clean',\n",
              " 'girdle_min',\n",
              " 'girdle_max']"
            ]
          },
          "metadata": {},
          "execution_count": 134
        }
      ]
    },
    {
      "cell_type": "code",
      "source": [
        "def prepare_dataset(i: int, j: int):\n",
        "  data = encode_feature(category_features[i], diamonds)\n",
        "  data = encode_feature(category_features[j], data)\n",
        "  args1 = data.columns[pd.Series(data.columns).str.startswith(category_features[i].upper())]\n",
        "  args2 = data.columns[pd.Series(data.columns).str.startswith(category_features[j].upper())]\n",
        "  args = pd.concat([data[args1], data[args2]], axis=1)\n",
        "  price = data[\"total_sales_price\"]\n",
        "  return pd.concat([args, price], axis=1)"
      ],
      "metadata": {
        "id": "2IX_bR7ax6FX"
      },
      "execution_count": 142,
      "outputs": []
    },
    {
      "cell_type": "code",
      "source": [
        "prepare_dataset(0, 1)"
      ],
      "metadata": {
        "colab": {
          "base_uri": "https://localhost:8080/",
          "height": 505
        },
        "id": "_DaVNimFyhiv",
        "outputId": "fa20fc36-9b30-4a3d-a589-17fd0f8a3718"
      },
      "execution_count": 143,
      "outputs": [
        {
          "output_type": "execute_result",
          "data": {
            "text/plain": [
              "        CUT_Asscher  CUT_Cushion  CUT_Cushion Modified  CUT_Emerald  \\\n",
              "0                 0            0                     0            0   \n",
              "1                 0            0                     0            0   \n",
              "2                 0            0                     0            0   \n",
              "3                 0            0                     0            0   \n",
              "4                 0            0                     0            0   \n",
              "...             ...          ...                   ...          ...   \n",
              "219698            0            0                     0            0   \n",
              "219699            0            0                     0            0   \n",
              "219700            0            0                     0            0   \n",
              "219701            0            0                     0            0   \n",
              "219702            0            0                     0            0   \n",
              "\n",
              "        CUT_Heart  CUT_Marquise  CUT_Oval  CUT_Pear  CUT_Princess  \\\n",
              "0               0             0         0         0             0   \n",
              "1               0             0         0         0             0   \n",
              "2               0             0         0         0             0   \n",
              "3               0             0         0         0             0   \n",
              "4               0             0         0         0             0   \n",
              "...           ...           ...       ...       ...           ...   \n",
              "219698          0             0         0         0             0   \n",
              "219699          0             0         0         0             0   \n",
              "219700          0             0         0         0             0   \n",
              "219701          0             0         0         0             1   \n",
              "219702          0             0         0         1             0   \n",
              "\n",
              "        CUT_Radiant  ...  COLOR_F  COLOR_G  COLOR_H  COLOR_I  COLOR_J  \\\n",
              "0                 0  ...        0        0        0        0        0   \n",
              "1                 0  ...        0        0        0        0        0   \n",
              "2                 0  ...        0        0        0        0        0   \n",
              "3                 0  ...        0        0        0        0        0   \n",
              "4                 0  ...        0        0        0        0        0   \n",
              "...             ...  ...      ...      ...      ...      ...      ...   \n",
              "219698            0  ...        0        0        0        0        0   \n",
              "219699            1  ...        0        0        0        0        0   \n",
              "219700            0  ...        0        0        0        0        0   \n",
              "219701            0  ...        0        0        0        0        0   \n",
              "219702            0  ...        0        0        0        0        0   \n",
              "\n",
              "        COLOR_K  COLOR_L  COLOR_M  COLOR_unknown  total_sales_price  \n",
              "0             0        0        0              0                200  \n",
              "1             0        0        0              0                200  \n",
              "2             0        0        0              0                200  \n",
              "3             0        0        0              0                200  \n",
              "4             0        0        0              0                200  \n",
              "...         ...      ...      ...            ...                ...  \n",
              "219698        0        0        0              0            1210692  \n",
              "219699        0        0        0              1            1292500  \n",
              "219700        0        0        0              0            1315496  \n",
              "219701        0        0        0              1            1350000  \n",
              "219702        0        0        0              1            1449881  \n",
              "\n",
              "[219703 rows x 23 columns]"
            ],
            "text/html": [
              "\n",
              "  <div id=\"df-0e71f23c-6e95-4968-90b7-6c00730c4af5\">\n",
              "    <div class=\"colab-df-container\">\n",
              "      <div>\n",
              "<style scoped>\n",
              "    .dataframe tbody tr th:only-of-type {\n",
              "        vertical-align: middle;\n",
              "    }\n",
              "\n",
              "    .dataframe tbody tr th {\n",
              "        vertical-align: top;\n",
              "    }\n",
              "\n",
              "    .dataframe thead th {\n",
              "        text-align: right;\n",
              "    }\n",
              "</style>\n",
              "<table border=\"1\" class=\"dataframe\">\n",
              "  <thead>\n",
              "    <tr style=\"text-align: right;\">\n",
              "      <th></th>\n",
              "      <th>CUT_Asscher</th>\n",
              "      <th>CUT_Cushion</th>\n",
              "      <th>CUT_Cushion Modified</th>\n",
              "      <th>CUT_Emerald</th>\n",
              "      <th>CUT_Heart</th>\n",
              "      <th>CUT_Marquise</th>\n",
              "      <th>CUT_Oval</th>\n",
              "      <th>CUT_Pear</th>\n",
              "      <th>CUT_Princess</th>\n",
              "      <th>CUT_Radiant</th>\n",
              "      <th>...</th>\n",
              "      <th>COLOR_F</th>\n",
              "      <th>COLOR_G</th>\n",
              "      <th>COLOR_H</th>\n",
              "      <th>COLOR_I</th>\n",
              "      <th>COLOR_J</th>\n",
              "      <th>COLOR_K</th>\n",
              "      <th>COLOR_L</th>\n",
              "      <th>COLOR_M</th>\n",
              "      <th>COLOR_unknown</th>\n",
              "      <th>total_sales_price</th>\n",
              "    </tr>\n",
              "  </thead>\n",
              "  <tbody>\n",
              "    <tr>\n",
              "      <th>0</th>\n",
              "      <td>0</td>\n",
              "      <td>0</td>\n",
              "      <td>0</td>\n",
              "      <td>0</td>\n",
              "      <td>0</td>\n",
              "      <td>0</td>\n",
              "      <td>0</td>\n",
              "      <td>0</td>\n",
              "      <td>0</td>\n",
              "      <td>0</td>\n",
              "      <td>...</td>\n",
              "      <td>0</td>\n",
              "      <td>0</td>\n",
              "      <td>0</td>\n",
              "      <td>0</td>\n",
              "      <td>0</td>\n",
              "      <td>0</td>\n",
              "      <td>0</td>\n",
              "      <td>0</td>\n",
              "      <td>0</td>\n",
              "      <td>200</td>\n",
              "    </tr>\n",
              "    <tr>\n",
              "      <th>1</th>\n",
              "      <td>0</td>\n",
              "      <td>0</td>\n",
              "      <td>0</td>\n",
              "      <td>0</td>\n",
              "      <td>0</td>\n",
              "      <td>0</td>\n",
              "      <td>0</td>\n",
              "      <td>0</td>\n",
              "      <td>0</td>\n",
              "      <td>0</td>\n",
              "      <td>...</td>\n",
              "      <td>0</td>\n",
              "      <td>0</td>\n",
              "      <td>0</td>\n",
              "      <td>0</td>\n",
              "      <td>0</td>\n",
              "      <td>0</td>\n",
              "      <td>0</td>\n",
              "      <td>0</td>\n",
              "      <td>0</td>\n",
              "      <td>200</td>\n",
              "    </tr>\n",
              "    <tr>\n",
              "      <th>2</th>\n",
              "      <td>0</td>\n",
              "      <td>0</td>\n",
              "      <td>0</td>\n",
              "      <td>0</td>\n",
              "      <td>0</td>\n",
              "      <td>0</td>\n",
              "      <td>0</td>\n",
              "      <td>0</td>\n",
              "      <td>0</td>\n",
              "      <td>0</td>\n",
              "      <td>...</td>\n",
              "      <td>0</td>\n",
              "      <td>0</td>\n",
              "      <td>0</td>\n",
              "      <td>0</td>\n",
              "      <td>0</td>\n",
              "      <td>0</td>\n",
              "      <td>0</td>\n",
              "      <td>0</td>\n",
              "      <td>0</td>\n",
              "      <td>200</td>\n",
              "    </tr>\n",
              "    <tr>\n",
              "      <th>3</th>\n",
              "      <td>0</td>\n",
              "      <td>0</td>\n",
              "      <td>0</td>\n",
              "      <td>0</td>\n",
              "      <td>0</td>\n",
              "      <td>0</td>\n",
              "      <td>0</td>\n",
              "      <td>0</td>\n",
              "      <td>0</td>\n",
              "      <td>0</td>\n",
              "      <td>...</td>\n",
              "      <td>0</td>\n",
              "      <td>0</td>\n",
              "      <td>0</td>\n",
              "      <td>0</td>\n",
              "      <td>0</td>\n",
              "      <td>0</td>\n",
              "      <td>0</td>\n",
              "      <td>0</td>\n",
              "      <td>0</td>\n",
              "      <td>200</td>\n",
              "    </tr>\n",
              "    <tr>\n",
              "      <th>4</th>\n",
              "      <td>0</td>\n",
              "      <td>0</td>\n",
              "      <td>0</td>\n",
              "      <td>0</td>\n",
              "      <td>0</td>\n",
              "      <td>0</td>\n",
              "      <td>0</td>\n",
              "      <td>0</td>\n",
              "      <td>0</td>\n",
              "      <td>0</td>\n",
              "      <td>...</td>\n",
              "      <td>0</td>\n",
              "      <td>0</td>\n",
              "      <td>0</td>\n",
              "      <td>0</td>\n",
              "      <td>0</td>\n",
              "      <td>0</td>\n",
              "      <td>0</td>\n",
              "      <td>0</td>\n",
              "      <td>0</td>\n",
              "      <td>200</td>\n",
              "    </tr>\n",
              "    <tr>\n",
              "      <th>...</th>\n",
              "      <td>...</td>\n",
              "      <td>...</td>\n",
              "      <td>...</td>\n",
              "      <td>...</td>\n",
              "      <td>...</td>\n",
              "      <td>...</td>\n",
              "      <td>...</td>\n",
              "      <td>...</td>\n",
              "      <td>...</td>\n",
              "      <td>...</td>\n",
              "      <td>...</td>\n",
              "      <td>...</td>\n",
              "      <td>...</td>\n",
              "      <td>...</td>\n",
              "      <td>...</td>\n",
              "      <td>...</td>\n",
              "      <td>...</td>\n",
              "      <td>...</td>\n",
              "      <td>...</td>\n",
              "      <td>...</td>\n",
              "      <td>...</td>\n",
              "    </tr>\n",
              "    <tr>\n",
              "      <th>219698</th>\n",
              "      <td>0</td>\n",
              "      <td>0</td>\n",
              "      <td>0</td>\n",
              "      <td>0</td>\n",
              "      <td>0</td>\n",
              "      <td>0</td>\n",
              "      <td>0</td>\n",
              "      <td>0</td>\n",
              "      <td>0</td>\n",
              "      <td>0</td>\n",
              "      <td>...</td>\n",
              "      <td>0</td>\n",
              "      <td>0</td>\n",
              "      <td>0</td>\n",
              "      <td>0</td>\n",
              "      <td>0</td>\n",
              "      <td>0</td>\n",
              "      <td>0</td>\n",
              "      <td>0</td>\n",
              "      <td>0</td>\n",
              "      <td>1210692</td>\n",
              "    </tr>\n",
              "    <tr>\n",
              "      <th>219699</th>\n",
              "      <td>0</td>\n",
              "      <td>0</td>\n",
              "      <td>0</td>\n",
              "      <td>0</td>\n",
              "      <td>0</td>\n",
              "      <td>0</td>\n",
              "      <td>0</td>\n",
              "      <td>0</td>\n",
              "      <td>0</td>\n",
              "      <td>1</td>\n",
              "      <td>...</td>\n",
              "      <td>0</td>\n",
              "      <td>0</td>\n",
              "      <td>0</td>\n",
              "      <td>0</td>\n",
              "      <td>0</td>\n",
              "      <td>0</td>\n",
              "      <td>0</td>\n",
              "      <td>0</td>\n",
              "      <td>1</td>\n",
              "      <td>1292500</td>\n",
              "    </tr>\n",
              "    <tr>\n",
              "      <th>219700</th>\n",
              "      <td>0</td>\n",
              "      <td>0</td>\n",
              "      <td>0</td>\n",
              "      <td>0</td>\n",
              "      <td>0</td>\n",
              "      <td>0</td>\n",
              "      <td>0</td>\n",
              "      <td>0</td>\n",
              "      <td>0</td>\n",
              "      <td>0</td>\n",
              "      <td>...</td>\n",
              "      <td>0</td>\n",
              "      <td>0</td>\n",
              "      <td>0</td>\n",
              "      <td>0</td>\n",
              "      <td>0</td>\n",
              "      <td>0</td>\n",
              "      <td>0</td>\n",
              "      <td>0</td>\n",
              "      <td>0</td>\n",
              "      <td>1315496</td>\n",
              "    </tr>\n",
              "    <tr>\n",
              "      <th>219701</th>\n",
              "      <td>0</td>\n",
              "      <td>0</td>\n",
              "      <td>0</td>\n",
              "      <td>0</td>\n",
              "      <td>0</td>\n",
              "      <td>0</td>\n",
              "      <td>0</td>\n",
              "      <td>0</td>\n",
              "      <td>1</td>\n",
              "      <td>0</td>\n",
              "      <td>...</td>\n",
              "      <td>0</td>\n",
              "      <td>0</td>\n",
              "      <td>0</td>\n",
              "      <td>0</td>\n",
              "      <td>0</td>\n",
              "      <td>0</td>\n",
              "      <td>0</td>\n",
              "      <td>0</td>\n",
              "      <td>1</td>\n",
              "      <td>1350000</td>\n",
              "    </tr>\n",
              "    <tr>\n",
              "      <th>219702</th>\n",
              "      <td>0</td>\n",
              "      <td>0</td>\n",
              "      <td>0</td>\n",
              "      <td>0</td>\n",
              "      <td>0</td>\n",
              "      <td>0</td>\n",
              "      <td>0</td>\n",
              "      <td>1</td>\n",
              "      <td>0</td>\n",
              "      <td>0</td>\n",
              "      <td>...</td>\n",
              "      <td>0</td>\n",
              "      <td>0</td>\n",
              "      <td>0</td>\n",
              "      <td>0</td>\n",
              "      <td>0</td>\n",
              "      <td>0</td>\n",
              "      <td>0</td>\n",
              "      <td>0</td>\n",
              "      <td>1</td>\n",
              "      <td>1449881</td>\n",
              "    </tr>\n",
              "  </tbody>\n",
              "</table>\n",
              "<p>219703 rows × 23 columns</p>\n",
              "</div>\n",
              "      <button class=\"colab-df-convert\" onclick=\"convertToInteractive('df-0e71f23c-6e95-4968-90b7-6c00730c4af5')\"\n",
              "              title=\"Convert this dataframe to an interactive table.\"\n",
              "              style=\"display:none;\">\n",
              "        \n",
              "  <svg xmlns=\"http://www.w3.org/2000/svg\" height=\"24px\"viewBox=\"0 0 24 24\"\n",
              "       width=\"24px\">\n",
              "    <path d=\"M0 0h24v24H0V0z\" fill=\"none\"/>\n",
              "    <path d=\"M18.56 5.44l.94 2.06.94-2.06 2.06-.94-2.06-.94-.94-2.06-.94 2.06-2.06.94zm-11 1L8.5 8.5l.94-2.06 2.06-.94-2.06-.94L8.5 2.5l-.94 2.06-2.06.94zm10 10l.94 2.06.94-2.06 2.06-.94-2.06-.94-.94-2.06-.94 2.06-2.06.94z\"/><path d=\"M17.41 7.96l-1.37-1.37c-.4-.4-.92-.59-1.43-.59-.52 0-1.04.2-1.43.59L10.3 9.45l-7.72 7.72c-.78.78-.78 2.05 0 2.83L4 21.41c.39.39.9.59 1.41.59.51 0 1.02-.2 1.41-.59l7.78-7.78 2.81-2.81c.8-.78.8-2.07 0-2.86zM5.41 20L4 18.59l7.72-7.72 1.47 1.35L5.41 20z\"/>\n",
              "  </svg>\n",
              "      </button>\n",
              "      \n",
              "  <style>\n",
              "    .colab-df-container {\n",
              "      display:flex;\n",
              "      flex-wrap:wrap;\n",
              "      gap: 12px;\n",
              "    }\n",
              "\n",
              "    .colab-df-convert {\n",
              "      background-color: #E8F0FE;\n",
              "      border: none;\n",
              "      border-radius: 50%;\n",
              "      cursor: pointer;\n",
              "      display: none;\n",
              "      fill: #1967D2;\n",
              "      height: 32px;\n",
              "      padding: 0 0 0 0;\n",
              "      width: 32px;\n",
              "    }\n",
              "\n",
              "    .colab-df-convert:hover {\n",
              "      background-color: #E2EBFA;\n",
              "      box-shadow: 0px 1px 2px rgba(60, 64, 67, 0.3), 0px 1px 3px 1px rgba(60, 64, 67, 0.15);\n",
              "      fill: #174EA6;\n",
              "    }\n",
              "\n",
              "    [theme=dark] .colab-df-convert {\n",
              "      background-color: #3B4455;\n",
              "      fill: #D2E3FC;\n",
              "    }\n",
              "\n",
              "    [theme=dark] .colab-df-convert:hover {\n",
              "      background-color: #434B5C;\n",
              "      box-shadow: 0px 1px 3px 1px rgba(0, 0, 0, 0.15);\n",
              "      filter: drop-shadow(0px 1px 2px rgba(0, 0, 0, 0.3));\n",
              "      fill: #FFFFFF;\n",
              "    }\n",
              "  </style>\n",
              "\n",
              "      <script>\n",
              "        const buttonEl =\n",
              "          document.querySelector('#df-0e71f23c-6e95-4968-90b7-6c00730c4af5 button.colab-df-convert');\n",
              "        buttonEl.style.display =\n",
              "          google.colab.kernel.accessAllowed ? 'block' : 'none';\n",
              "\n",
              "        async function convertToInteractive(key) {\n",
              "          const element = document.querySelector('#df-0e71f23c-6e95-4968-90b7-6c00730c4af5');\n",
              "          const dataTable =\n",
              "            await google.colab.kernel.invokeFunction('convertToInteractive',\n",
              "                                                     [key], {});\n",
              "          if (!dataTable) return;\n",
              "\n",
              "          const docLinkHtml = 'Like what you see? Visit the ' +\n",
              "            '<a target=\"_blank\" href=https://colab.research.google.com/notebooks/data_table.ipynb>data table notebook</a>'\n",
              "            + ' to learn more about interactive tables.';\n",
              "          element.innerHTML = '';\n",
              "          dataTable['output_type'] = 'display_data';\n",
              "          await google.colab.output.renderOutput(dataTable, element);\n",
              "          const docLink = document.createElement('div');\n",
              "          docLink.innerHTML = docLinkHtml;\n",
              "          element.appendChild(docLink);\n",
              "        }\n",
              "      </script>\n",
              "    </div>\n",
              "  </div>\n",
              "  "
            ]
          },
          "metadata": {},
          "execution_count": 143
        }
      ]
    },
    {
      "cell_type": "markdown",
      "source": [
        "(3 балла) Разбейте датасет на обучающую и тестовую выбору. Для этого вам поможет [train_test_split](https://scikit-learn.org/stable/modules/generated/sklearn.model_selection.train_test_split.html):"
      ],
      "metadata": {
        "id": "ig8t-nmRvojA"
      }
    },
    {
      "cell_type": "code",
      "source": [
        "from sklearn.model_selection import train_test_split\n",
        "\n",
        "def split_dataset(dataset):\n",
        "  return train_test_split(dataset, test_size=0.2)\n",
        "\n",
        "\n",
        "split_dataset(prepare_dataset(0,1))[0]"
      ],
      "metadata": {
        "id": "ChVKP43AwY8i",
        "colab": {
          "base_uri": "https://localhost:8080/",
          "height": 505
        },
        "outputId": "eb712095-425f-437c-aa32-1f417df5fef6"
      },
      "execution_count": 144,
      "outputs": [
        {
          "output_type": "execute_result",
          "data": {
            "text/plain": [
              "        CUT_Asscher  CUT_Cushion  CUT_Cushion Modified  CUT_Emerald  \\\n",
              "150996            0            0                     0            0   \n",
              "19504             0            0                     0            0   \n",
              "188405            0            0                     0            0   \n",
              "137125            0            0                     0            0   \n",
              "125285            0            0                     0            0   \n",
              "...             ...          ...                   ...          ...   \n",
              "112617            0            0                     0            0   \n",
              "93097             0            0                     0            0   \n",
              "215428            0            0                     0            0   \n",
              "110278            0            0                     0            0   \n",
              "57210             0            0                     0            0   \n",
              "\n",
              "        CUT_Heart  CUT_Marquise  CUT_Oval  CUT_Pear  CUT_Princess  \\\n",
              "150996          0             0         0         0             0   \n",
              "19504           0             0         0         0             0   \n",
              "188405          0             0         0         0             0   \n",
              "137125          0             0         1         0             0   \n",
              "125285          0             0         0         0             0   \n",
              "...           ...           ...       ...       ...           ...   \n",
              "112617          0             0         0         0             0   \n",
              "93097           0             0         0         1             0   \n",
              "215428          0             0         0         0             0   \n",
              "110278          0             0         0         1             0   \n",
              "57210           0             0         0         0             0   \n",
              "\n",
              "        CUT_Radiant  ...  COLOR_F  COLOR_G  COLOR_H  COLOR_I  COLOR_J  \\\n",
              "150996            0  ...        1        0        0        0        0   \n",
              "19504             0  ...        0        0        0        0        1   \n",
              "188405            0  ...        0        0        0        0        1   \n",
              "137125            0  ...        0        0        0        0        1   \n",
              "125285            0  ...        0        0        1        0        0   \n",
              "...             ...  ...      ...      ...      ...      ...      ...   \n",
              "112617            0  ...        0        0        1        0        0   \n",
              "93097             0  ...        0        0        0        0        0   \n",
              "215428            0  ...        0        1        0        0        0   \n",
              "110278            0  ...        0        0        0        0        0   \n",
              "57210             0  ...        0        0        1        0        0   \n",
              "\n",
              "        COLOR_K  COLOR_L  COLOR_M  COLOR_unknown  total_sales_price  \n",
              "150996        0        0        0              0               3832  \n",
              "19504         0        0        0              0                720  \n",
              "188405        0        0        0              0              10582  \n",
              "137125        0        0        0              0               3215  \n",
              "125285        0        0        0              0               2606  \n",
              "...         ...      ...      ...            ...                ...  \n",
              "112617        0        0        0              0               2000  \n",
              "93097         0        0        0              1               1485  \n",
              "215428        0        0        0              0              45900  \n",
              "110278        0        0        0              1               1988  \n",
              "57210         0        0        0              0                972  \n",
              "\n",
              "[175762 rows x 23 columns]"
            ],
            "text/html": [
              "\n",
              "  <div id=\"df-84727909-4b58-4a49-b9b3-eb5864033643\">\n",
              "    <div class=\"colab-df-container\">\n",
              "      <div>\n",
              "<style scoped>\n",
              "    .dataframe tbody tr th:only-of-type {\n",
              "        vertical-align: middle;\n",
              "    }\n",
              "\n",
              "    .dataframe tbody tr th {\n",
              "        vertical-align: top;\n",
              "    }\n",
              "\n",
              "    .dataframe thead th {\n",
              "        text-align: right;\n",
              "    }\n",
              "</style>\n",
              "<table border=\"1\" class=\"dataframe\">\n",
              "  <thead>\n",
              "    <tr style=\"text-align: right;\">\n",
              "      <th></th>\n",
              "      <th>CUT_Asscher</th>\n",
              "      <th>CUT_Cushion</th>\n",
              "      <th>CUT_Cushion Modified</th>\n",
              "      <th>CUT_Emerald</th>\n",
              "      <th>CUT_Heart</th>\n",
              "      <th>CUT_Marquise</th>\n",
              "      <th>CUT_Oval</th>\n",
              "      <th>CUT_Pear</th>\n",
              "      <th>CUT_Princess</th>\n",
              "      <th>CUT_Radiant</th>\n",
              "      <th>...</th>\n",
              "      <th>COLOR_F</th>\n",
              "      <th>COLOR_G</th>\n",
              "      <th>COLOR_H</th>\n",
              "      <th>COLOR_I</th>\n",
              "      <th>COLOR_J</th>\n",
              "      <th>COLOR_K</th>\n",
              "      <th>COLOR_L</th>\n",
              "      <th>COLOR_M</th>\n",
              "      <th>COLOR_unknown</th>\n",
              "      <th>total_sales_price</th>\n",
              "    </tr>\n",
              "  </thead>\n",
              "  <tbody>\n",
              "    <tr>\n",
              "      <th>150996</th>\n",
              "      <td>0</td>\n",
              "      <td>0</td>\n",
              "      <td>0</td>\n",
              "      <td>0</td>\n",
              "      <td>0</td>\n",
              "      <td>0</td>\n",
              "      <td>0</td>\n",
              "      <td>0</td>\n",
              "      <td>0</td>\n",
              "      <td>0</td>\n",
              "      <td>...</td>\n",
              "      <td>1</td>\n",
              "      <td>0</td>\n",
              "      <td>0</td>\n",
              "      <td>0</td>\n",
              "      <td>0</td>\n",
              "      <td>0</td>\n",
              "      <td>0</td>\n",
              "      <td>0</td>\n",
              "      <td>0</td>\n",
              "      <td>3832</td>\n",
              "    </tr>\n",
              "    <tr>\n",
              "      <th>19504</th>\n",
              "      <td>0</td>\n",
              "      <td>0</td>\n",
              "      <td>0</td>\n",
              "      <td>0</td>\n",
              "      <td>0</td>\n",
              "      <td>0</td>\n",
              "      <td>0</td>\n",
              "      <td>0</td>\n",
              "      <td>0</td>\n",
              "      <td>0</td>\n",
              "      <td>...</td>\n",
              "      <td>0</td>\n",
              "      <td>0</td>\n",
              "      <td>0</td>\n",
              "      <td>0</td>\n",
              "      <td>1</td>\n",
              "      <td>0</td>\n",
              "      <td>0</td>\n",
              "      <td>0</td>\n",
              "      <td>0</td>\n",
              "      <td>720</td>\n",
              "    </tr>\n",
              "    <tr>\n",
              "      <th>188405</th>\n",
              "      <td>0</td>\n",
              "      <td>0</td>\n",
              "      <td>0</td>\n",
              "      <td>0</td>\n",
              "      <td>0</td>\n",
              "      <td>0</td>\n",
              "      <td>0</td>\n",
              "      <td>0</td>\n",
              "      <td>0</td>\n",
              "      <td>0</td>\n",
              "      <td>...</td>\n",
              "      <td>0</td>\n",
              "      <td>0</td>\n",
              "      <td>0</td>\n",
              "      <td>0</td>\n",
              "      <td>1</td>\n",
              "      <td>0</td>\n",
              "      <td>0</td>\n",
              "      <td>0</td>\n",
              "      <td>0</td>\n",
              "      <td>10582</td>\n",
              "    </tr>\n",
              "    <tr>\n",
              "      <th>137125</th>\n",
              "      <td>0</td>\n",
              "      <td>0</td>\n",
              "      <td>0</td>\n",
              "      <td>0</td>\n",
              "      <td>0</td>\n",
              "      <td>0</td>\n",
              "      <td>1</td>\n",
              "      <td>0</td>\n",
              "      <td>0</td>\n",
              "      <td>0</td>\n",
              "      <td>...</td>\n",
              "      <td>0</td>\n",
              "      <td>0</td>\n",
              "      <td>0</td>\n",
              "      <td>0</td>\n",
              "      <td>1</td>\n",
              "      <td>0</td>\n",
              "      <td>0</td>\n",
              "      <td>0</td>\n",
              "      <td>0</td>\n",
              "      <td>3215</td>\n",
              "    </tr>\n",
              "    <tr>\n",
              "      <th>125285</th>\n",
              "      <td>0</td>\n",
              "      <td>0</td>\n",
              "      <td>0</td>\n",
              "      <td>0</td>\n",
              "      <td>0</td>\n",
              "      <td>0</td>\n",
              "      <td>0</td>\n",
              "      <td>0</td>\n",
              "      <td>0</td>\n",
              "      <td>0</td>\n",
              "      <td>...</td>\n",
              "      <td>0</td>\n",
              "      <td>0</td>\n",
              "      <td>1</td>\n",
              "      <td>0</td>\n",
              "      <td>0</td>\n",
              "      <td>0</td>\n",
              "      <td>0</td>\n",
              "      <td>0</td>\n",
              "      <td>0</td>\n",
              "      <td>2606</td>\n",
              "    </tr>\n",
              "    <tr>\n",
              "      <th>...</th>\n",
              "      <td>...</td>\n",
              "      <td>...</td>\n",
              "      <td>...</td>\n",
              "      <td>...</td>\n",
              "      <td>...</td>\n",
              "      <td>...</td>\n",
              "      <td>...</td>\n",
              "      <td>...</td>\n",
              "      <td>...</td>\n",
              "      <td>...</td>\n",
              "      <td>...</td>\n",
              "      <td>...</td>\n",
              "      <td>...</td>\n",
              "      <td>...</td>\n",
              "      <td>...</td>\n",
              "      <td>...</td>\n",
              "      <td>...</td>\n",
              "      <td>...</td>\n",
              "      <td>...</td>\n",
              "      <td>...</td>\n",
              "      <td>...</td>\n",
              "    </tr>\n",
              "    <tr>\n",
              "      <th>112617</th>\n",
              "      <td>0</td>\n",
              "      <td>0</td>\n",
              "      <td>0</td>\n",
              "      <td>0</td>\n",
              "      <td>0</td>\n",
              "      <td>0</td>\n",
              "      <td>0</td>\n",
              "      <td>0</td>\n",
              "      <td>0</td>\n",
              "      <td>0</td>\n",
              "      <td>...</td>\n",
              "      <td>0</td>\n",
              "      <td>0</td>\n",
              "      <td>1</td>\n",
              "      <td>0</td>\n",
              "      <td>0</td>\n",
              "      <td>0</td>\n",
              "      <td>0</td>\n",
              "      <td>0</td>\n",
              "      <td>0</td>\n",
              "      <td>2000</td>\n",
              "    </tr>\n",
              "    <tr>\n",
              "      <th>93097</th>\n",
              "      <td>0</td>\n",
              "      <td>0</td>\n",
              "      <td>0</td>\n",
              "      <td>0</td>\n",
              "      <td>0</td>\n",
              "      <td>0</td>\n",
              "      <td>0</td>\n",
              "      <td>1</td>\n",
              "      <td>0</td>\n",
              "      <td>0</td>\n",
              "      <td>...</td>\n",
              "      <td>0</td>\n",
              "      <td>0</td>\n",
              "      <td>0</td>\n",
              "      <td>0</td>\n",
              "      <td>0</td>\n",
              "      <td>0</td>\n",
              "      <td>0</td>\n",
              "      <td>0</td>\n",
              "      <td>1</td>\n",
              "      <td>1485</td>\n",
              "    </tr>\n",
              "    <tr>\n",
              "      <th>215428</th>\n",
              "      <td>0</td>\n",
              "      <td>0</td>\n",
              "      <td>0</td>\n",
              "      <td>0</td>\n",
              "      <td>0</td>\n",
              "      <td>0</td>\n",
              "      <td>0</td>\n",
              "      <td>0</td>\n",
              "      <td>0</td>\n",
              "      <td>0</td>\n",
              "      <td>...</td>\n",
              "      <td>0</td>\n",
              "      <td>1</td>\n",
              "      <td>0</td>\n",
              "      <td>0</td>\n",
              "      <td>0</td>\n",
              "      <td>0</td>\n",
              "      <td>0</td>\n",
              "      <td>0</td>\n",
              "      <td>0</td>\n",
              "      <td>45900</td>\n",
              "    </tr>\n",
              "    <tr>\n",
              "      <th>110278</th>\n",
              "      <td>0</td>\n",
              "      <td>0</td>\n",
              "      <td>0</td>\n",
              "      <td>0</td>\n",
              "      <td>0</td>\n",
              "      <td>0</td>\n",
              "      <td>0</td>\n",
              "      <td>1</td>\n",
              "      <td>0</td>\n",
              "      <td>0</td>\n",
              "      <td>...</td>\n",
              "      <td>0</td>\n",
              "      <td>0</td>\n",
              "      <td>0</td>\n",
              "      <td>0</td>\n",
              "      <td>0</td>\n",
              "      <td>0</td>\n",
              "      <td>0</td>\n",
              "      <td>0</td>\n",
              "      <td>1</td>\n",
              "      <td>1988</td>\n",
              "    </tr>\n",
              "    <tr>\n",
              "      <th>57210</th>\n",
              "      <td>0</td>\n",
              "      <td>0</td>\n",
              "      <td>0</td>\n",
              "      <td>0</td>\n",
              "      <td>0</td>\n",
              "      <td>0</td>\n",
              "      <td>0</td>\n",
              "      <td>0</td>\n",
              "      <td>0</td>\n",
              "      <td>0</td>\n",
              "      <td>...</td>\n",
              "      <td>0</td>\n",
              "      <td>0</td>\n",
              "      <td>1</td>\n",
              "      <td>0</td>\n",
              "      <td>0</td>\n",
              "      <td>0</td>\n",
              "      <td>0</td>\n",
              "      <td>0</td>\n",
              "      <td>0</td>\n",
              "      <td>972</td>\n",
              "    </tr>\n",
              "  </tbody>\n",
              "</table>\n",
              "<p>175762 rows × 23 columns</p>\n",
              "</div>\n",
              "      <button class=\"colab-df-convert\" onclick=\"convertToInteractive('df-84727909-4b58-4a49-b9b3-eb5864033643')\"\n",
              "              title=\"Convert this dataframe to an interactive table.\"\n",
              "              style=\"display:none;\">\n",
              "        \n",
              "  <svg xmlns=\"http://www.w3.org/2000/svg\" height=\"24px\"viewBox=\"0 0 24 24\"\n",
              "       width=\"24px\">\n",
              "    <path d=\"M0 0h24v24H0V0z\" fill=\"none\"/>\n",
              "    <path d=\"M18.56 5.44l.94 2.06.94-2.06 2.06-.94-2.06-.94-.94-2.06-.94 2.06-2.06.94zm-11 1L8.5 8.5l.94-2.06 2.06-.94-2.06-.94L8.5 2.5l-.94 2.06-2.06.94zm10 10l.94 2.06.94-2.06 2.06-.94-2.06-.94-.94-2.06-.94 2.06-2.06.94z\"/><path d=\"M17.41 7.96l-1.37-1.37c-.4-.4-.92-.59-1.43-.59-.52 0-1.04.2-1.43.59L10.3 9.45l-7.72 7.72c-.78.78-.78 2.05 0 2.83L4 21.41c.39.39.9.59 1.41.59.51 0 1.02-.2 1.41-.59l7.78-7.78 2.81-2.81c.8-.78.8-2.07 0-2.86zM5.41 20L4 18.59l7.72-7.72 1.47 1.35L5.41 20z\"/>\n",
              "  </svg>\n",
              "      </button>\n",
              "      \n",
              "  <style>\n",
              "    .colab-df-container {\n",
              "      display:flex;\n",
              "      flex-wrap:wrap;\n",
              "      gap: 12px;\n",
              "    }\n",
              "\n",
              "    .colab-df-convert {\n",
              "      background-color: #E8F0FE;\n",
              "      border: none;\n",
              "      border-radius: 50%;\n",
              "      cursor: pointer;\n",
              "      display: none;\n",
              "      fill: #1967D2;\n",
              "      height: 32px;\n",
              "      padding: 0 0 0 0;\n",
              "      width: 32px;\n",
              "    }\n",
              "\n",
              "    .colab-df-convert:hover {\n",
              "      background-color: #E2EBFA;\n",
              "      box-shadow: 0px 1px 2px rgba(60, 64, 67, 0.3), 0px 1px 3px 1px rgba(60, 64, 67, 0.15);\n",
              "      fill: #174EA6;\n",
              "    }\n",
              "\n",
              "    [theme=dark] .colab-df-convert {\n",
              "      background-color: #3B4455;\n",
              "      fill: #D2E3FC;\n",
              "    }\n",
              "\n",
              "    [theme=dark] .colab-df-convert:hover {\n",
              "      background-color: #434B5C;\n",
              "      box-shadow: 0px 1px 3px 1px rgba(0, 0, 0, 0.15);\n",
              "      filter: drop-shadow(0px 1px 2px rgba(0, 0, 0, 0.3));\n",
              "      fill: #FFFFFF;\n",
              "    }\n",
              "  </style>\n",
              "\n",
              "      <script>\n",
              "        const buttonEl =\n",
              "          document.querySelector('#df-84727909-4b58-4a49-b9b3-eb5864033643 button.colab-df-convert');\n",
              "        buttonEl.style.display =\n",
              "          google.colab.kernel.accessAllowed ? 'block' : 'none';\n",
              "\n",
              "        async function convertToInteractive(key) {\n",
              "          const element = document.querySelector('#df-84727909-4b58-4a49-b9b3-eb5864033643');\n",
              "          const dataTable =\n",
              "            await google.colab.kernel.invokeFunction('convertToInteractive',\n",
              "                                                     [key], {});\n",
              "          if (!dataTable) return;\n",
              "\n",
              "          const docLinkHtml = 'Like what you see? Visit the ' +\n",
              "            '<a target=\"_blank\" href=https://colab.research.google.com/notebooks/data_table.ipynb>data table notebook</a>'\n",
              "            + ' to learn more about interactive tables.';\n",
              "          element.innerHTML = '';\n",
              "          dataTable['output_type'] = 'display_data';\n",
              "          await google.colab.output.renderOutput(dataTable, element);\n",
              "          const docLink = document.createElement('div');\n",
              "          docLink.innerHTML = docLinkHtml;\n",
              "          element.appendChild(docLink);\n",
              "        }\n",
              "      </script>\n",
              "    </div>\n",
              "  </div>\n",
              "  "
            ]
          },
          "metadata": {},
          "execution_count": 144
        }
      ]
    },
    {
      "cell_type": "markdown",
      "source": [
        "(3 балла) Затем создайте и обучите вашу модель - [DecisionTreeRegressor](https://scikit-learn.org/stable/modules/generated/sklearn.tree.DecisionTreeRegressor.html):"
      ],
      "metadata": {
        "id": "gbv2zLpkwZsq"
      }
    },
    {
      "cell_type": "code",
      "source": [
        "from sklearn.model_selection import cross_val_score\n",
        "from sklearn.tree import DecisionTreeRegressor\n",
        "\n",
        "def train_model(i, j):\n",
        "  train, test = split_dataset(prepare_dataset(i, j))\n",
        "  X = train.drop([\"total_sales_price\"], axis=1).to_numpy()\n",
        "  y = train[\"total_sales_price\"].to_numpy()\n",
        "  regressor = DecisionTreeRegressor(random_state=0)\n",
        "  regressor.fit(X, y)\n",
        "  return regressor\n",
        "\n",
        "train_model(0,1)"
      ],
      "metadata": {
        "id": "Qfvv2j6Sws8p",
        "colab": {
          "base_uri": "https://localhost:8080/",
          "height": 75
        },
        "outputId": "8fdcb248-e4df-4a08-c496-3226dc683e80"
      },
      "execution_count": 145,
      "outputs": [
        {
          "output_type": "execute_result",
          "data": {
            "text/plain": [
              "DecisionTreeRegressor(random_state=0)"
            ],
            "text/html": [
              "<style>#sk-container-id-2 {color: black;background-color: white;}#sk-container-id-2 pre{padding: 0;}#sk-container-id-2 div.sk-toggleable {background-color: white;}#sk-container-id-2 label.sk-toggleable__label {cursor: pointer;display: block;width: 100%;margin-bottom: 0;padding: 0.3em;box-sizing: border-box;text-align: center;}#sk-container-id-2 label.sk-toggleable__label-arrow:before {content: \"▸\";float: left;margin-right: 0.25em;color: #696969;}#sk-container-id-2 label.sk-toggleable__label-arrow:hover:before {color: black;}#sk-container-id-2 div.sk-estimator:hover label.sk-toggleable__label-arrow:before {color: black;}#sk-container-id-2 div.sk-toggleable__content {max-height: 0;max-width: 0;overflow: hidden;text-align: left;background-color: #f0f8ff;}#sk-container-id-2 div.sk-toggleable__content pre {margin: 0.2em;color: black;border-radius: 0.25em;background-color: #f0f8ff;}#sk-container-id-2 input.sk-toggleable__control:checked~div.sk-toggleable__content {max-height: 200px;max-width: 100%;overflow: auto;}#sk-container-id-2 input.sk-toggleable__control:checked~label.sk-toggleable__label-arrow:before {content: \"▾\";}#sk-container-id-2 div.sk-estimator input.sk-toggleable__control:checked~label.sk-toggleable__label {background-color: #d4ebff;}#sk-container-id-2 div.sk-label input.sk-toggleable__control:checked~label.sk-toggleable__label {background-color: #d4ebff;}#sk-container-id-2 input.sk-hidden--visually {border: 0;clip: rect(1px 1px 1px 1px);clip: rect(1px, 1px, 1px, 1px);height: 1px;margin: -1px;overflow: hidden;padding: 0;position: absolute;width: 1px;}#sk-container-id-2 div.sk-estimator {font-family: monospace;background-color: #f0f8ff;border: 1px dotted black;border-radius: 0.25em;box-sizing: border-box;margin-bottom: 0.5em;}#sk-container-id-2 div.sk-estimator:hover {background-color: #d4ebff;}#sk-container-id-2 div.sk-parallel-item::after {content: \"\";width: 100%;border-bottom: 1px solid gray;flex-grow: 1;}#sk-container-id-2 div.sk-label:hover label.sk-toggleable__label {background-color: #d4ebff;}#sk-container-id-2 div.sk-serial::before {content: \"\";position: absolute;border-left: 1px solid gray;box-sizing: border-box;top: 0;bottom: 0;left: 50%;z-index: 0;}#sk-container-id-2 div.sk-serial {display: flex;flex-direction: column;align-items: center;background-color: white;padding-right: 0.2em;padding-left: 0.2em;position: relative;}#sk-container-id-2 div.sk-item {position: relative;z-index: 1;}#sk-container-id-2 div.sk-parallel {display: flex;align-items: stretch;justify-content: center;background-color: white;position: relative;}#sk-container-id-2 div.sk-item::before, #sk-container-id-2 div.sk-parallel-item::before {content: \"\";position: absolute;border-left: 1px solid gray;box-sizing: border-box;top: 0;bottom: 0;left: 50%;z-index: -1;}#sk-container-id-2 div.sk-parallel-item {display: flex;flex-direction: column;z-index: 1;position: relative;background-color: white;}#sk-container-id-2 div.sk-parallel-item:first-child::after {align-self: flex-end;width: 50%;}#sk-container-id-2 div.sk-parallel-item:last-child::after {align-self: flex-start;width: 50%;}#sk-container-id-2 div.sk-parallel-item:only-child::after {width: 0;}#sk-container-id-2 div.sk-dashed-wrapped {border: 1px dashed gray;margin: 0 0.4em 0.5em 0.4em;box-sizing: border-box;padding-bottom: 0.4em;background-color: white;}#sk-container-id-2 div.sk-label label {font-family: monospace;font-weight: bold;display: inline-block;line-height: 1.2em;}#sk-container-id-2 div.sk-label-container {text-align: center;}#sk-container-id-2 div.sk-container {/* jupyter's `normalize.less` sets `[hidden] { display: none; }` but bootstrap.min.css set `[hidden] { display: none !important; }` so we also need the `!important` here to be able to override the default hidden behavior on the sphinx rendered scikit-learn.org. See: https://github.com/scikit-learn/scikit-learn/issues/21755 */display: inline-block !important;position: relative;}#sk-container-id-2 div.sk-text-repr-fallback {display: none;}</style><div id=\"sk-container-id-2\" class=\"sk-top-container\"><div class=\"sk-text-repr-fallback\"><pre>DecisionTreeRegressor(random_state=0)</pre><b>In a Jupyter environment, please rerun this cell to show the HTML representation or trust the notebook. <br />On GitHub, the HTML representation is unable to render, please try loading this page with nbviewer.org.</b></div><div class=\"sk-container\" hidden><div class=\"sk-item\"><div class=\"sk-estimator sk-toggleable\"><input class=\"sk-toggleable__control sk-hidden--visually\" id=\"sk-estimator-id-2\" type=\"checkbox\" checked><label for=\"sk-estimator-id-2\" class=\"sk-toggleable__label sk-toggleable__label-arrow\">DecisionTreeRegressor</label><div class=\"sk-toggleable__content\"><pre>DecisionTreeRegressor(random_state=0)</pre></div></div></div></div></div>"
            ]
          },
          "metadata": {},
          "execution_count": 145
        }
      ]
    },
    {
      "cell_type": "markdown",
      "source": [
        "(3 балла) Оцените ошибку вашей модели при помощи [mean_squared_error](https://scikit-learn.org/stable/modules/generated/sklearn.metrics.mean_squared_error.html):"
      ],
      "metadata": {
        "id": "nUvBoY1pwtIv"
      }
    },
    {
      "cell_type": "code",
      "source": [
        "from sklearn.metrics import mean_squared_error\n",
        "\n",
        "def get_error(i, j):\n",
        "  regressor = train_model(i, j)\n",
        "  train, test = split_dataset(prepare_dataset(i, j))\n",
        "  X = train.drop([\"total_sales_price\"], axis=1).to_numpy()\n",
        "  y = train[\"total_sales_price\"].to_numpy()\n",
        "  y_pred = regressor.apply(X)\n",
        "  return mean_squared_error(y, y_pred)\n",
        "\n",
        "get_error(0,1)"
      ],
      "metadata": {
        "id": "q946oHPaxGA4",
        "colab": {
          "base_uri": "https://localhost:8080/"
        },
        "outputId": "f92979c5-b780-46bb-955a-c68b759c5b75"
      },
      "execution_count": 146,
      "outputs": [
        {
          "output_type": "execute_result",
          "data": {
            "text/plain": [
              "701977591.1901264"
            ]
          },
          "metadata": {},
          "execution_count": 146
        }
      ]
    },
    {
      "cell_type": "code",
      "source": [
        "min_error = 1e18\n",
        "for i in tqdm(range(len(category_features))):\n",
        "  for j in range(i + 1, len(category_features)):\n",
        "    min_error = min(min_error, get_error(i, j))\n",
        "print()\n",
        "print(min_error**0.5)"
      ],
      "metadata": {
        "colab": {
          "base_uri": "https://localhost:8080/"
        },
        "id": "KEWMitjO6-NL",
        "outputId": "cf7287af-2254-4d5c-b131-82b91dc2d412"
      },
      "execution_count": 147,
      "outputs": [
        {
          "output_type": "stream",
          "name": "stderr",
          "text": [
            "100%|██████████| 10/10 [00:36<00:00,  3.66s/it]"
          ]
        },
        {
          "output_type": "stream",
          "name": "stdout",
          "text": [
            "\n",
            "26016.482864445585\n"
          ]
        },
        {
          "output_type": "stream",
          "name": "stderr",
          "text": [
            "\n"
          ]
        }
      ]
    },
    {
      "cell_type": "code",
      "source": [
        "diamonds[\"total_sales_price\"].mean()"
      ],
      "metadata": {
        "colab": {
          "base_uri": "https://localhost:8080/"
        },
        "id": "84OXPBgR79Ey",
        "outputId": "be7291e1-18fa-45de-c944-ed185eece390"
      },
      "execution_count": 148,
      "outputs": [
        {
          "output_type": "execute_result",
          "data": {
            "text/plain": [
              "6908.062206706326"
            ]
          },
          "metadata": {},
          "execution_count": 148
        }
      ]
    },
    {
      "cell_type": "markdown",
      "source": [
        "(3 балла) **Сделайте выводы какие категориальные признаки лучше:**"
      ],
      "metadata": {
        "id": "scWwHLEKxGPl"
      }
    },
    {
      "cell_type": "markdown",
      "source": [
        "*Подсказки для маленьких: Что вы можете сказать о зависимости по вашей выборке признаков? Какой вы можете сделать вывод об готовых инструментах для работы и написанных Вами?*"
      ],
      "metadata": {
        "id": "djE6Ke2bL5WS"
      }
    },
    {
      "cell_type": "markdown",
      "source": [
        "Стоит с подозрением относиться к решающему дереву. Pandas и sklearn имеют некоторую дублирующую логику и иногда не очень хорошо дружат друг с другом.\n",
        "\n",
        "Видимо, по двум признакам хорошо понять стоимость не получается, то есть зависимость либо слабая, либо от большего числа параметров, так что нельзя оставлять только два из них. \n",
        "\n",
        "В pandas иногда оказывается нетривиально сделать самые простые вещи, а иногда оказывается тривиально сделать сложную логику. В sklearn огромное количество аргументов, в которых сложно разобраться, то можно их просто не использовать, пока \"так работает\". Короче, разбираться придется еще много и долго, чтобы это освоить.\n",
        "\n",
        "Впрочем, и с pandas и с sklearn я сталкиваюсь уже далеко не впервые, и каждый раз заново изучаю весь функционал, потому что проще загуглить заново, чем запомнить."
      ],
      "metadata": {
        "id": "lu36_N58uvui"
      }
    }
  ]
}